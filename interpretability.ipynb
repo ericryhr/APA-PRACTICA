{
 "cells": [
  {
   "cell_type": "markdown",
   "metadata": {},
   "source": [
    "# Interpretabilitat"
   ]
  },
  {
   "cell_type": "markdown",
   "metadata": {},
   "source": [
    "## Carreguem dades"
   ]
  },
  {
   "cell_type": "code",
   "execution_count": 6,
   "metadata": {},
   "outputs": [
    {
     "data": {
      "text/html": [
       "<div>\n",
       "<style scoped>\n",
       "    .dataframe tbody tr th:only-of-type {\n",
       "        vertical-align: middle;\n",
       "    }\n",
       "\n",
       "    .dataframe tbody tr th {\n",
       "        vertical-align: top;\n",
       "    }\n",
       "\n",
       "    .dataframe thead th {\n",
       "        text-align: right;\n",
       "    }\n",
       "</style>\n",
       "<table border=\"1\" class=\"dataframe\">\n",
       "  <thead>\n",
       "    <tr style=\"text-align: right;\">\n",
       "      <th></th>\n",
       "      <th>count</th>\n",
       "      <th>mean</th>\n",
       "      <th>std</th>\n",
       "      <th>min</th>\n",
       "      <th>25%</th>\n",
       "      <th>50%</th>\n",
       "      <th>75%</th>\n",
       "      <th>max</th>\n",
       "    </tr>\n",
       "  </thead>\n",
       "  <tbody>\n",
       "    <tr>\n",
       "      <th>BPM</th>\n",
       "      <td>1395.0</td>\n",
       "      <td>0.456174</td>\n",
       "      <td>0.179555</td>\n",
       "      <td>0.0</td>\n",
       "      <td>0.318471</td>\n",
       "      <td>0.452229</td>\n",
       "      <td>0.557325</td>\n",
       "      <td>1.0</td>\n",
       "    </tr>\n",
       "    <tr>\n",
       "      <th>Energy</th>\n",
       "      <td>1395.0</td>\n",
       "      <td>0.583587</td>\n",
       "      <td>0.229908</td>\n",
       "      <td>0.0</td>\n",
       "      <td>0.401042</td>\n",
       "      <td>0.604167</td>\n",
       "      <td>0.770833</td>\n",
       "      <td>1.0</td>\n",
       "    </tr>\n",
       "    <tr>\n",
       "      <th>Danceability</th>\n",
       "      <td>1395.0</td>\n",
       "      <td>0.500500</td>\n",
       "      <td>0.179877</td>\n",
       "      <td>0.0</td>\n",
       "      <td>0.383721</td>\n",
       "      <td>0.500000</td>\n",
       "      <td>0.627907</td>\n",
       "      <td>1.0</td>\n",
       "    </tr>\n",
       "    <tr>\n",
       "      <th>Loudness</th>\n",
       "      <td>1395.0</td>\n",
       "      <td>0.723097</td>\n",
       "      <td>0.145117</td>\n",
       "      <td>0.0</td>\n",
       "      <td>0.640000</td>\n",
       "      <td>0.760000</td>\n",
       "      <td>0.840000</td>\n",
       "      <td>1.0</td>\n",
       "    </tr>\n",
       "    <tr>\n",
       "      <th>Liveness</th>\n",
       "      <td>1395.0</td>\n",
       "      <td>0.175110</td>\n",
       "      <td>0.169782</td>\n",
       "      <td>0.0</td>\n",
       "      <td>0.072165</td>\n",
       "      <td>0.103093</td>\n",
       "      <td>0.216495</td>\n",
       "      <td>1.0</td>\n",
       "    </tr>\n",
       "    <tr>\n",
       "      <th>Valence</th>\n",
       "      <td>1395.0</td>\n",
       "      <td>0.480615</td>\n",
       "      <td>0.258486</td>\n",
       "      <td>0.0</td>\n",
       "      <td>0.270833</td>\n",
       "      <td>0.458333</td>\n",
       "      <td>0.677083</td>\n",
       "      <td>1.0</td>\n",
       "    </tr>\n",
       "    <tr>\n",
       "      <th>Length</th>\n",
       "      <td>1395.0</td>\n",
       "      <td>0.131427</td>\n",
       "      <td>0.070653</td>\n",
       "      <td>0.0</td>\n",
       "      <td>0.093407</td>\n",
       "      <td>0.118524</td>\n",
       "      <td>0.152276</td>\n",
       "      <td>1.0</td>\n",
       "    </tr>\n",
       "    <tr>\n",
       "      <th>Acousticness</th>\n",
       "      <td>1395.0</td>\n",
       "      <td>0.298786</td>\n",
       "      <td>0.296839</td>\n",
       "      <td>0.0</td>\n",
       "      <td>0.030612</td>\n",
       "      <td>0.183673</td>\n",
       "      <td>0.520408</td>\n",
       "      <td>1.0</td>\n",
       "    </tr>\n",
       "    <tr>\n",
       "      <th>Speechiness</th>\n",
       "      <td>1395.0</td>\n",
       "      <td>0.057672</td>\n",
       "      <td>0.082810</td>\n",
       "      <td>0.0</td>\n",
       "      <td>0.018868</td>\n",
       "      <td>0.037736</td>\n",
       "      <td>0.056604</td>\n",
       "      <td>1.0</td>\n",
       "    </tr>\n",
       "    <tr>\n",
       "      <th>Popularity</th>\n",
       "      <td>1395.0</td>\n",
       "      <td>0.542193</td>\n",
       "      <td>0.162211</td>\n",
       "      <td>0.0</td>\n",
       "      <td>0.426966</td>\n",
       "      <td>0.561798</td>\n",
       "      <td>0.674157</td>\n",
       "      <td>1.0</td>\n",
       "    </tr>\n",
       "    <tr>\n",
       "      <th>genre_0</th>\n",
       "      <td>1395.0</td>\n",
       "      <td>0.091039</td>\n",
       "      <td>0.287768</td>\n",
       "      <td>0.0</td>\n",
       "      <td>0.000000</td>\n",
       "      <td>0.000000</td>\n",
       "      <td>0.000000</td>\n",
       "      <td>1.0</td>\n",
       "    </tr>\n",
       "    <tr>\n",
       "      <th>genre_1</th>\n",
       "      <td>1395.0</td>\n",
       "      <td>0.369176</td>\n",
       "      <td>0.482755</td>\n",
       "      <td>0.0</td>\n",
       "      <td>0.000000</td>\n",
       "      <td>0.000000</td>\n",
       "      <td>1.000000</td>\n",
       "      <td>1.0</td>\n",
       "    </tr>\n",
       "    <tr>\n",
       "      <th>genre_2</th>\n",
       "      <td>1395.0</td>\n",
       "      <td>0.176344</td>\n",
       "      <td>0.381249</td>\n",
       "      <td>0.0</td>\n",
       "      <td>0.000000</td>\n",
       "      <td>0.000000</td>\n",
       "      <td>0.000000</td>\n",
       "      <td>1.0</td>\n",
       "    </tr>\n",
       "    <tr>\n",
       "      <th>genre_3</th>\n",
       "      <td>1395.0</td>\n",
       "      <td>0.090323</td>\n",
       "      <td>0.286746</td>\n",
       "      <td>0.0</td>\n",
       "      <td>0.000000</td>\n",
       "      <td>0.000000</td>\n",
       "      <td>0.000000</td>\n",
       "      <td>1.0</td>\n",
       "    </tr>\n",
       "    <tr>\n",
       "      <th>genre_4</th>\n",
       "      <td>1395.0</td>\n",
       "      <td>0.063082</td>\n",
       "      <td>0.243198</td>\n",
       "      <td>0.0</td>\n",
       "      <td>0.000000</td>\n",
       "      <td>0.000000</td>\n",
       "      <td>0.000000</td>\n",
       "      <td>1.0</td>\n",
       "    </tr>\n",
       "    <tr>\n",
       "      <th>genre_5</th>\n",
       "      <td>1395.0</td>\n",
       "      <td>0.170609</td>\n",
       "      <td>0.376302</td>\n",
       "      <td>0.0</td>\n",
       "      <td>0.000000</td>\n",
       "      <td>0.000000</td>\n",
       "      <td>0.000000</td>\n",
       "      <td>1.0</td>\n",
       "    </tr>\n",
       "    <tr>\n",
       "      <th>genre_6</th>\n",
       "      <td>1395.0</td>\n",
       "      <td>0.039427</td>\n",
       "      <td>0.194677</td>\n",
       "      <td>0.0</td>\n",
       "      <td>0.000000</td>\n",
       "      <td>0.000000</td>\n",
       "      <td>0.000000</td>\n",
       "      <td>1.0</td>\n",
       "    </tr>\n",
       "  </tbody>\n",
       "</table>\n",
       "</div>"
      ],
      "text/plain": [
       "               count      mean       std  min       25%       50%       75%  \\\n",
       "BPM           1395.0  0.456174  0.179555  0.0  0.318471  0.452229  0.557325   \n",
       "Energy        1395.0  0.583587  0.229908  0.0  0.401042  0.604167  0.770833   \n",
       "Danceability  1395.0  0.500500  0.179877  0.0  0.383721  0.500000  0.627907   \n",
       "Loudness      1395.0  0.723097  0.145117  0.0  0.640000  0.760000  0.840000   \n",
       "Liveness      1395.0  0.175110  0.169782  0.0  0.072165  0.103093  0.216495   \n",
       "Valence       1395.0  0.480615  0.258486  0.0  0.270833  0.458333  0.677083   \n",
       "Length        1395.0  0.131427  0.070653  0.0  0.093407  0.118524  0.152276   \n",
       "Acousticness  1395.0  0.298786  0.296839  0.0  0.030612  0.183673  0.520408   \n",
       "Speechiness   1395.0  0.057672  0.082810  0.0  0.018868  0.037736  0.056604   \n",
       "Popularity    1395.0  0.542193  0.162211  0.0  0.426966  0.561798  0.674157   \n",
       "genre_0       1395.0  0.091039  0.287768  0.0  0.000000  0.000000  0.000000   \n",
       "genre_1       1395.0  0.369176  0.482755  0.0  0.000000  0.000000  1.000000   \n",
       "genre_2       1395.0  0.176344  0.381249  0.0  0.000000  0.000000  0.000000   \n",
       "genre_3       1395.0  0.090323  0.286746  0.0  0.000000  0.000000  0.000000   \n",
       "genre_4       1395.0  0.063082  0.243198  0.0  0.000000  0.000000  0.000000   \n",
       "genre_5       1395.0  0.170609  0.376302  0.0  0.000000  0.000000  0.000000   \n",
       "genre_6       1395.0  0.039427  0.194677  0.0  0.000000  0.000000  0.000000   \n",
       "\n",
       "              max  \n",
       "BPM           1.0  \n",
       "Energy        1.0  \n",
       "Danceability  1.0  \n",
       "Loudness      1.0  \n",
       "Liveness      1.0  \n",
       "Valence       1.0  \n",
       "Length        1.0  \n",
       "Acousticness  1.0  \n",
       "Speechiness   1.0  \n",
       "Popularity    1.0  \n",
       "genre_0       1.0  \n",
       "genre_1       1.0  \n",
       "genre_2       1.0  \n",
       "genre_3       1.0  \n",
       "genre_4       1.0  \n",
       "genre_5       1.0  \n",
       "genre_6       1.0  "
      ]
     },
     "execution_count": 6,
     "metadata": {},
     "output_type": "execute_result"
    }
   ],
   "source": [
    "import pandas as pd\n",
    "import warnings\n",
    "from sklearn.preprocessing import MinMaxScaler\n",
    "warnings.filterwarnings(\"ignore\")\n",
    "\n",
    "\n",
    "df_train = pd.read_csv('./datasets/data_train_class7.csv')\n",
    "df_test = pd.read_csv('./datasets/data_test_class7.csv')\n",
    "\n",
    "x_train = df_train.drop(columns=['is_recent'])\n",
    "y_train = df_train['is_recent']\n",
    "\n",
    "x_test = df_test.drop(columns=['is_recent'])\n",
    "y_test = df_test['is_recent']\n",
    "\n",
    "clss = ['Pre-2000', 'Post-2000']\n",
    "\n",
    "data_columns = x_train.columns\n",
    "scaler = MinMaxScaler()\n",
    "x_train = pd.DataFrame(scaler.fit_transform(x_train))\n",
    "x_test = pd.DataFrame(scaler.transform(x_test))\n",
    "x_train.columns = x_test.columns = data_columns\n",
    "\n",
    "x_train.describe().T"
   ]
  },
  {
   "cell_type": "markdown",
   "metadata": {},
   "source": [
    "## Carreguem models"
   ]
  },
  {
   "cell_type": "code",
   "execution_count": 7,
   "metadata": {},
   "outputs": [],
   "source": [
    "import pickle\n",
    "from sklearn.model_selection import GridSearchCV\n",
    "from skopt import BayesSearchCV\n",
    "\n",
    "\n",
    "lda: GridSearchCV = pickle.load(open('./models/lda', 'rb'))\n",
    "mlp: BayesSearchCV = pickle.load(open('./models/mlp', 'rb'))"
   ]
  },
  {
   "cell_type": "markdown",
   "metadata": {},
   "source": [
    "## Busquem valors atípics"
   ]
  },
  {
   "cell_type": "code",
   "execution_count": 30,
   "metadata": {},
   "outputs": [
    {
     "data": {
      "text/html": [
       "<div>\n",
       "<style scoped>\n",
       "    .dataframe tbody tr th:only-of-type {\n",
       "        vertical-align: middle;\n",
       "    }\n",
       "\n",
       "    .dataframe tbody tr th {\n",
       "        vertical-align: top;\n",
       "    }\n",
       "\n",
       "    .dataframe thead th {\n",
       "        text-align: right;\n",
       "    }\n",
       "</style>\n",
       "<table border=\"1\" class=\"dataframe\">\n",
       "  <thead>\n",
       "    <tr style=\"text-align: right;\">\n",
       "      <th></th>\n",
       "      <th>BPM</th>\n",
       "      <th>Energy</th>\n",
       "      <th>Danceability</th>\n",
       "      <th>Loudness</th>\n",
       "      <th>Liveness</th>\n",
       "      <th>Valence</th>\n",
       "      <th>Length</th>\n",
       "      <th>Acousticness</th>\n",
       "      <th>Speechiness</th>\n",
       "      <th>Popularity</th>\n",
       "      <th>is_recent</th>\n",
       "      <th>genre_0</th>\n",
       "      <th>genre_1</th>\n",
       "      <th>genre_2</th>\n",
       "      <th>genre_3</th>\n",
       "      <th>genre_4</th>\n",
       "      <th>genre_5</th>\n",
       "      <th>genre_6</th>\n",
       "    </tr>\n",
       "  </thead>\n",
       "  <tbody>\n",
       "    <tr>\n",
       "      <th>225</th>\n",
       "      <td>134</td>\n",
       "      <td>32</td>\n",
       "      <td>28</td>\n",
       "      <td>-17</td>\n",
       "      <td>11</td>\n",
       "      <td>14</td>\n",
       "      <td>1412</td>\n",
       "      <td>37</td>\n",
       "      <td>4</td>\n",
       "      <td>58</td>\n",
       "      <td>0</td>\n",
       "      <td>0</td>\n",
       "      <td>1</td>\n",
       "      <td>0</td>\n",
       "      <td>0</td>\n",
       "      <td>0</td>\n",
       "      <td>0</td>\n",
       "      <td>0</td>\n",
       "    </tr>\n",
       "  </tbody>\n",
       "</table>\n",
       "</div>"
      ],
      "text/plain": [
       "     BPM  Energy  Danceability  Loudness  Liveness  Valence  Length  \\\n",
       "225  134      32            28       -17        11       14    1412   \n",
       "\n",
       "     Acousticness  Speechiness  Popularity  is_recent  genre_0  genre_1  \\\n",
       "225            37            4          58          0        0        1   \n",
       "\n",
       "     genre_2  genre_3  genre_4  genre_5  genre_6  \n",
       "225        0        0        0        0        0  "
      ]
     },
     "execution_count": 30,
     "metadata": {},
     "output_type": "execute_result"
    }
   ],
   "source": [
    "id_max_length = df_test['Length'].idxmax()\n",
    "df_test.iloc[id_max_length].to_frame().T"
   ]
  },
  {
   "cell_type": "code",
   "execution_count": 31,
   "metadata": {},
   "outputs": [
    {
     "data": {
      "text/html": [
       "<div>\n",
       "<style scoped>\n",
       "    .dataframe tbody tr th:only-of-type {\n",
       "        vertical-align: middle;\n",
       "    }\n",
       "\n",
       "    .dataframe tbody tr th {\n",
       "        vertical-align: top;\n",
       "    }\n",
       "\n",
       "    .dataframe thead th {\n",
       "        text-align: right;\n",
       "    }\n",
       "</style>\n",
       "<table border=\"1\" class=\"dataframe\">\n",
       "  <thead>\n",
       "    <tr style=\"text-align: right;\">\n",
       "      <th></th>\n",
       "      <th>BPM</th>\n",
       "      <th>Energy</th>\n",
       "      <th>Danceability</th>\n",
       "      <th>Loudness</th>\n",
       "      <th>Liveness</th>\n",
       "      <th>Valence</th>\n",
       "      <th>Length</th>\n",
       "      <th>Acousticness</th>\n",
       "      <th>Speechiness</th>\n",
       "      <th>Popularity</th>\n",
       "      <th>is_recent</th>\n",
       "      <th>genre_0</th>\n",
       "      <th>genre_1</th>\n",
       "      <th>genre_2</th>\n",
       "      <th>genre_3</th>\n",
       "      <th>genre_4</th>\n",
       "      <th>genre_5</th>\n",
       "      <th>genre_6</th>\n",
       "    </tr>\n",
       "  </thead>\n",
       "  <tbody>\n",
       "    <tr>\n",
       "      <th>144</th>\n",
       "      <td>121</td>\n",
       "      <td>3</td>\n",
       "      <td>31</td>\n",
       "      <td>-22</td>\n",
       "      <td>16</td>\n",
       "      <td>14</td>\n",
       "      <td>261</td>\n",
       "      <td>73</td>\n",
       "      <td>4</td>\n",
       "      <td>64</td>\n",
       "      <td>0</td>\n",
       "      <td>0</td>\n",
       "      <td>0</td>\n",
       "      <td>0</td>\n",
       "      <td>0</td>\n",
       "      <td>1</td>\n",
       "      <td>0</td>\n",
       "      <td>0</td>\n",
       "    </tr>\n",
       "  </tbody>\n",
       "</table>\n",
       "</div>"
      ],
      "text/plain": [
       "     BPM  Energy  Danceability  Loudness  Liveness  Valence  Length  \\\n",
       "144  121       3            31       -22        16       14     261   \n",
       "\n",
       "     Acousticness  Speechiness  Popularity  is_recent  genre_0  genre_1  \\\n",
       "144            73            4          64          0        0        0   \n",
       "\n",
       "     genre_2  genre_3  genre_4  genre_5  genre_6  \n",
       "144        0        0        1        0        0  "
      ]
     },
     "execution_count": 31,
     "metadata": {},
     "output_type": "execute_result"
    }
   ],
   "source": [
    "id_min_loud = df_test['Loudness'].idxmin()\n",
    "df_test.iloc[id_min_loud].to_frame().T"
   ]
  },
  {
   "cell_type": "code",
   "execution_count": 32,
   "metadata": {},
   "outputs": [
    {
     "data": {
      "text/html": [
       "<div>\n",
       "<style scoped>\n",
       "    .dataframe tbody tr th:only-of-type {\n",
       "        vertical-align: middle;\n",
       "    }\n",
       "\n",
       "    .dataframe tbody tr th {\n",
       "        vertical-align: top;\n",
       "    }\n",
       "\n",
       "    .dataframe thead th {\n",
       "        text-align: right;\n",
       "    }\n",
       "</style>\n",
       "<table border=\"1\" class=\"dataframe\">\n",
       "  <thead>\n",
       "    <tr style=\"text-align: right;\">\n",
       "      <th></th>\n",
       "      <th>BPM</th>\n",
       "      <th>Energy</th>\n",
       "      <th>Danceability</th>\n",
       "      <th>Loudness</th>\n",
       "      <th>Liveness</th>\n",
       "      <th>Valence</th>\n",
       "      <th>Length</th>\n",
       "      <th>Acousticness</th>\n",
       "      <th>Speechiness</th>\n",
       "      <th>Popularity</th>\n",
       "      <th>is_recent</th>\n",
       "      <th>genre_0</th>\n",
       "      <th>genre_1</th>\n",
       "      <th>genre_2</th>\n",
       "      <th>genre_3</th>\n",
       "      <th>genre_4</th>\n",
       "      <th>genre_5</th>\n",
       "      <th>genre_6</th>\n",
       "    </tr>\n",
       "  </thead>\n",
       "  <tbody>\n",
       "    <tr>\n",
       "      <th>241</th>\n",
       "      <td>117</td>\n",
       "      <td>93</td>\n",
       "      <td>38</td>\n",
       "      <td>-2</td>\n",
       "      <td>81</td>\n",
       "      <td>40</td>\n",
       "      <td>639</td>\n",
       "      <td>18</td>\n",
       "      <td>10</td>\n",
       "      <td>26</td>\n",
       "      <td>1</td>\n",
       "      <td>0</td>\n",
       "      <td>1</td>\n",
       "      <td>0</td>\n",
       "      <td>0</td>\n",
       "      <td>0</td>\n",
       "      <td>0</td>\n",
       "      <td>0</td>\n",
       "    </tr>\n",
       "  </tbody>\n",
       "</table>\n",
       "</div>"
      ],
      "text/plain": [
       "     BPM  Energy  Danceability  Loudness  Liveness  Valence  Length  \\\n",
       "241  117      93            38        -2        81       40     639   \n",
       "\n",
       "     Acousticness  Speechiness  Popularity  is_recent  genre_0  genre_1  \\\n",
       "241            18           10          26          1        0        1   \n",
       "\n",
       "     genre_2  genre_3  genre_4  genre_5  genre_6  \n",
       "241        0        0        0        0        0  "
      ]
     },
     "execution_count": 32,
     "metadata": {},
     "output_type": "execute_result"
    }
   ],
   "source": [
    "id_max_loud = df_test['Loudness'].idxmax()\n",
    "df_test.iloc[id_max_loud].to_frame().T"
   ]
  },
  {
   "cell_type": "code",
   "execution_count": 39,
   "metadata": {},
   "outputs": [
    {
     "data": {
      "text/html": [
       "<div>\n",
       "<style scoped>\n",
       "    .dataframe tbody tr th:only-of-type {\n",
       "        vertical-align: middle;\n",
       "    }\n",
       "\n",
       "    .dataframe tbody tr th {\n",
       "        vertical-align: top;\n",
       "    }\n",
       "\n",
       "    .dataframe thead th {\n",
       "        text-align: right;\n",
       "    }\n",
       "</style>\n",
       "<table border=\"1\" class=\"dataframe\">\n",
       "  <thead>\n",
       "    <tr style=\"text-align: right;\">\n",
       "      <th></th>\n",
       "      <th>BPM</th>\n",
       "      <th>Energy</th>\n",
       "      <th>Danceability</th>\n",
       "      <th>Loudness</th>\n",
       "      <th>Liveness</th>\n",
       "      <th>Valence</th>\n",
       "      <th>Length</th>\n",
       "      <th>Acousticness</th>\n",
       "      <th>Speechiness</th>\n",
       "      <th>Popularity</th>\n",
       "      <th>is_recent</th>\n",
       "      <th>genre_0</th>\n",
       "      <th>genre_1</th>\n",
       "      <th>genre_2</th>\n",
       "      <th>genre_3</th>\n",
       "      <th>genre_4</th>\n",
       "      <th>genre_5</th>\n",
       "      <th>genre_6</th>\n",
       "    </tr>\n",
       "  </thead>\n",
       "  <tbody>\n",
       "    <tr>\n",
       "      <th>23</th>\n",
       "      <td>93</td>\n",
       "      <td>51</td>\n",
       "      <td>62</td>\n",
       "      <td>-10</td>\n",
       "      <td>26</td>\n",
       "      <td>69</td>\n",
       "      <td>246</td>\n",
       "      <td>54</td>\n",
       "      <td>3</td>\n",
       "      <td>65</td>\n",
       "      <td>0</td>\n",
       "      <td>0</td>\n",
       "      <td>0</td>\n",
       "      <td>0</td>\n",
       "      <td>0</td>\n",
       "      <td>0</td>\n",
       "      <td>1</td>\n",
       "      <td>0</td>\n",
       "    </tr>\n",
       "    <tr>\n",
       "      <th>26</th>\n",
       "      <td>100</td>\n",
       "      <td>38</td>\n",
       "      <td>61</td>\n",
       "      <td>-10</td>\n",
       "      <td>28</td>\n",
       "      <td>52</td>\n",
       "      <td>234</td>\n",
       "      <td>84</td>\n",
       "      <td>44</td>\n",
       "      <td>83</td>\n",
       "      <td>1</td>\n",
       "      <td>0</td>\n",
       "      <td>0</td>\n",
       "      <td>0</td>\n",
       "      <td>0</td>\n",
       "      <td>0</td>\n",
       "      <td>1</td>\n",
       "      <td>0</td>\n",
       "    </tr>\n",
       "  </tbody>\n",
       "</table>\n",
       "</div>"
      ],
      "text/plain": [
       "    BPM  Energy  Danceability  Loudness  Liveness  Valence  Length  \\\n",
       "23   93      51            62       -10        26       69     246   \n",
       "26  100      38            61       -10        28       52     234   \n",
       "\n",
       "    Acousticness  Speechiness  Popularity  is_recent  genre_0  genre_1  \\\n",
       "23            54            3          65          0        0        0   \n",
       "26            84           44          83          1        0        0   \n",
       "\n",
       "    genre_2  genre_3  genre_4  genre_5  genre_6  \n",
       "23        0        0        0        1        0  \n",
       "26        0        0        0        1        0  "
      ]
     },
     "execution_count": 39,
     "metadata": {},
     "output_type": "execute_result"
    }
   ],
   "source": [
    "indices = df_test[df_test['Loudness'] == -10]\n",
    "indices.drop(16).head(2)    # D'aquesta manera apareixen 2 cançons de classes diferents en primer lloc"
   ]
  },
  {
   "cell_type": "markdown",
   "metadata": {},
   "source": [
    "Agafarem també dues cançons amb mateixa _loudness_ però que siguin de diferent classe, per exemple el 23 i el 26."
   ]
  },
  {
   "cell_type": "code",
   "execution_count": 9,
   "metadata": {},
   "outputs": [],
   "source": [
    "id_same_loudness_0 = 23\n",
    "id_same_loudness_1 = 26"
   ]
  },
  {
   "cell_type": "markdown",
   "metadata": {},
   "source": [
    "## Classificació\n",
    "Comencem pel max length"
   ]
  },
  {
   "cell_type": "code",
   "execution_count": 10,
   "metadata": {},
   "outputs": [
    {
     "name": "stdout",
     "output_type": "stream",
     "text": [
      "Resultat real: 0\n",
      "Resultat LDA: 0\n",
      "Resultat MLP: 0\n"
     ]
    }
   ],
   "source": [
    "y_pred_lda = lda.predict([x_test.iloc[id_max_length]])\n",
    "y_pred_mlp = mlp.predict([x_test.iloc[id_max_length]])\n",
    "\n",
    "print(f'Resultat real: {y_test.iloc[id_max_length]}')\n",
    "print(f'Resultat LDA: {y_pred_lda[0]}')\n",
    "print(f'Resultat MLP: {y_pred_mlp[0]}')"
   ]
  },
  {
   "cell_type": "code",
   "execution_count": 11,
   "metadata": {},
   "outputs": [
    {
     "name": "stdout",
     "output_type": "stream",
     "text": [
      "Resultat real: 0\n",
      "Resultat LDA: 0\n",
      "Resultat MLP: 0\n"
     ]
    }
   ],
   "source": [
    "y_pred_lda = lda.predict([x_test.iloc[id_min_loud]])\n",
    "y_pred_mlp = mlp.predict([x_test.iloc[id_min_loud]])\n",
    "\n",
    "print(f'Resultat real: {y_test.iloc[id_min_loud]}')\n",
    "print(f'Resultat LDA: {y_pred_lda[0]}')\n",
    "print(f'Resultat MLP: {y_pred_mlp[0]}')"
   ]
  },
  {
   "cell_type": "code",
   "execution_count": 12,
   "metadata": {},
   "outputs": [
    {
     "name": "stdout",
     "output_type": "stream",
     "text": [
      "Resultat real: 1\n",
      "Resultat LDA: 1\n",
      "Resultat MLP: 1\n"
     ]
    }
   ],
   "source": [
    "y_pred_lda = lda.predict([x_test.iloc[id_max_loud]])\n",
    "y_pred_mlp = mlp.predict([x_test.iloc[id_max_loud]])\n",
    "\n",
    "print(f'Resultat real: {y_test.iloc[id_max_loud]}')\n",
    "print(f'Resultat LDA: {y_pred_lda[0]}')\n",
    "print(f'Resultat MLP: {y_pred_mlp[0]}')"
   ]
  },
  {
   "cell_type": "code",
   "execution_count": 13,
   "metadata": {},
   "outputs": [
    {
     "name": "stdout",
     "output_type": "stream",
     "text": [
      "Resultat real: 0\n",
      "Resultat LDA: 0\n",
      "Resultat MLP: 0\n"
     ]
    }
   ],
   "source": [
    "y_pred_lda = lda.predict([x_test.iloc[id_same_loudness_0]])\n",
    "y_pred_mlp = mlp.predict([x_test.iloc[id_same_loudness_0]])\n",
    "\n",
    "print(f'Resultat real: {y_test.iloc[id_same_loudness_0]}')\n",
    "print(f'Resultat LDA: {y_pred_lda[0]}')\n",
    "print(f'Resultat MLP: {y_pred_mlp[0]}')"
   ]
  },
  {
   "cell_type": "code",
   "execution_count": 14,
   "metadata": {},
   "outputs": [
    {
     "name": "stdout",
     "output_type": "stream",
     "text": [
      "Resultat real: 1\n",
      "Resultat LDA: 1\n",
      "Resultat MLP: 1\n"
     ]
    }
   ],
   "source": [
    "y_pred_lda = lda.predict([x_test.iloc[id_same_loudness_1]])\n",
    "y_pred_mlp = mlp.predict([x_test.iloc[id_same_loudness_1]])\n",
    "\n",
    "print(f'Resultat real: {y_test.iloc[id_same_loudness_1]}')\n",
    "print(f'Resultat LDA: {y_pred_lda[0]}')\n",
    "print(f'Resultat MLP: {y_pred_mlp[0]}')"
   ]
  },
  {
   "cell_type": "markdown",
   "metadata": {},
   "source": [
    "Comprovem elements on divergeixen."
   ]
  },
  {
   "cell_type": "code",
   "execution_count": 40,
   "metadata": {},
   "outputs": [
    {
     "name": "stdout",
     "output_type": "stream",
     "text": [
      "[  4  24  47  52  53 111 113 126 138 166 167 174 178 179 181 185 190 197\n",
      " 208 223 227 235 236 238 242 255 265 266 267 273 293 297 298 303 310 318\n",
      " 322 345 353 354 359 362 367 378 381 384 389 395 396 398 401 431 440 446\n",
      " 447 471 512 516 530 540 563 568 575 596 598]\n"
     ]
    }
   ],
   "source": [
    "import numpy as np\n",
    "\n",
    "\n",
    "y_pred_lda = lda.predict(x_test)\n",
    "y_pred_mlp = mlp.predict(x_test)\n",
    "\n",
    "divergence_indices = np.where(y_pred_lda != y_pred_mlp)[0]\n",
    "print(divergence_indices)"
   ]
  },
  {
   "cell_type": "markdown",
   "metadata": {},
   "source": [
    "Comprovem quants obté correctament cada model."
   ]
  },
  {
   "cell_type": "code",
   "execution_count": 23,
   "metadata": {},
   "outputs": [
    {
     "name": "stdout",
     "output_type": "stream",
     "text": [
      "Nombre bons LDA: 27\n",
      "Nombre bons MLP: 38\n"
     ]
    }
   ],
   "source": [
    "num_lda = num_mlp = 0\n",
    "\n",
    "for i in divergence_indices:\n",
    "    if y_pred_lda[i] == y_test.iloc[i]: num_lda += 1\n",
    "    elif y_pred_mlp[i] == y_test.iloc[i]: num_mlp += 1\n",
    "\n",
    "print(f'Nombre bons LDA: {num_lda}')\n",
    "print(f'Nombre bons MLP: {num_mlp}')"
   ]
  },
  {
   "cell_type": "markdown",
   "metadata": {},
   "source": [
    "Veiem que l'LDA s'equivoca i l'MLP aconsegueix el bon resultat. A veure el perquè."
   ]
  },
  {
   "cell_type": "code",
   "execution_count": 24,
   "metadata": {},
   "outputs": [
    {
     "name": "stderr",
     "output_type": "stream",
     "text": [
      "100%|██████████| 65/65 [00:11<00:00,  5.43it/s]\n",
      "100%|██████████| 65/65 [00:11<00:00,  5.52it/s]\n"
     ]
    }
   ],
   "source": [
    "import shap\n",
    "import seaborn as sns\n",
    "import matplotlib.pyplot as plt\n",
    "sns.set()\n",
    "\n",
    "\n",
    "divergent_samples = x_test.iloc[divergence_indices]\n",
    "\n",
    "explainer_mlp = shap.KernelExplainer(mlp.best_estimator_.predict_proba, shap.sample(x_test, 10), n_jobs=-1)   \n",
    "explainer_lda = shap.KernelExplainer(lda.best_estimator_.predict_proba, shap.sample(x_test, 10), n_jobs=-1)\n",
    "\n",
    "shap_values_mlp = explainer_mlp.shap_values(divergent_samples)\n",
    "shap_values_lda = explainer_lda.shap_values(divergent_samples)"
   ]
  },
  {
   "cell_type": "code",
   "execution_count": 43,
   "metadata": {},
   "outputs": [
    {
     "data": {
      "image/png": "[encoded data removed]",
      "text/plain": [
       "<Figure size 1600x800 with 2 Axes>"
      ]
     },
     "metadata": {},
     "output_type": "display_data"
    }
   ],
   "source": [
    "fig, axes = plt.subplots(1, 2, figsize=(16, 8))\n",
    "\n",
    "plt.sca(axes[0])\n",
    "shap.summary_plot(shap_values_lda, features=divergent_samples, show=False, class_names=clss, plot_size=None)\n",
    "axes[0].set_title(\"Importància dels atributs LDA\")\n",
    "\n",
    "plt.sca(axes[1])\n",
    "shap.summary_plot(shap_values_mlp, features=divergent_samples, show=False, class_names=clss, plot_size=None)\n",
    "axes[1].set_title(\"Importància dels atributs MLP\")\n",
    "\n",
    "# Adjust layout and display the plots\n",
    "plt.tight_layout()\n",
    "plt.show()"
   ]
  }
 ],
 "metadata": {
  "kernelspec": {
   "display_name": "Python 3",
   "language": "python",
   "name": "python3"
  },
  "language_info": {
   "codemirror_mode": {
    "name": "ipython",
    "version": 3
   },
   "file_extension": ".py",
   "mimetype": "text/x-python",
   "name": "python",
   "nbconvert_exporter": "python",
   "pygments_lexer": "ipython3",
   "version": "3.10.12"
  }
 },
 "nbformat": 4,
 "nbformat_minor": 2
}
