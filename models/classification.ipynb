{
 "cells": [
  {
   "cell_type": "markdown",
   "metadata": {},
   "source": [
    "# Classificació"
   ]
  },
  {
   "cell_type": "markdown",
   "metadata": {},
   "source": [
    "### Libraries and loading data"
   ]
  },
  {
   "cell_type": "code",
   "execution_count": 1,
   "metadata": {},
   "outputs": [],
   "source": [
    "import pandas as pd\n",
    "from sklearn.svm import SVC\n",
    "from skopt import BayesSearchCV\n",
    "import numpy as np\n",
    "np.int = int\n",
    "\n",
    "from matplotlib import pyplot as plt\n",
    "import seaborn as sns\n",
    "sns.set()\n",
    "\n",
    "from IPython.display import display, HTML\n",
    "show_html = lambda html: display(HTML(html))\n",
    "\n",
    "from sklearn.metrics import  ConfusionMatrixDisplay, classification_report\n",
    "\n",
    "import warnings\n",
    "warnings.filterwarnings(\"ignore\")"
   ]
  },
  {
   "cell_type": "code",
   "execution_count": 81,
   "metadata": {},
   "outputs": [],
   "source": [
    "df_train = pd.read_csv('../datasets/data_train_class7.csv')\n",
    "df_test = pd.read_csv('../datasets/data_test_class7.csv')"
   ]
  },
  {
   "cell_type": "code",
   "execution_count": 108,
   "metadata": {},
   "outputs": [],
   "source": [
    "# df_train = df_train.iloc[:, :-7]\n",
    "# df_test = df_test.iloc[:, :-7]"
   ]
  },
  {
   "cell_type": "code",
   "execution_count": 83,
   "metadata": {},
   "outputs": [
    {
     "data": {
      "text/html": [
       "<div>\n",
       "<style scoped>\n",
       "    .dataframe tbody tr th:only-of-type {\n",
       "        vertical-align: middle;\n",
       "    }\n",
       "\n",
       "    .dataframe tbody tr th {\n",
       "        vertical-align: top;\n",
       "    }\n",
       "\n",
       "    .dataframe thead th {\n",
       "        text-align: right;\n",
       "    }\n",
       "</style>\n",
       "<table border=\"1\" class=\"dataframe\">\n",
       "  <thead>\n",
       "    <tr style=\"text-align: right;\">\n",
       "      <th></th>\n",
       "      <th>BPM</th>\n",
       "      <th>Energy</th>\n",
       "      <th>Danceability</th>\n",
       "      <th>Loudness</th>\n",
       "      <th>Liveness</th>\n",
       "      <th>Valence</th>\n",
       "      <th>Length</th>\n",
       "      <th>Acousticness</th>\n",
       "      <th>Speechiness</th>\n",
       "      <th>Popularity</th>\n",
       "      <th>is_recent</th>\n",
       "    </tr>\n",
       "  </thead>\n",
       "  <tbody>\n",
       "    <tr>\n",
       "      <th>0</th>\n",
       "      <td>123</td>\n",
       "      <td>73</td>\n",
       "      <td>48</td>\n",
       "      <td>-8</td>\n",
       "      <td>11</td>\n",
       "      <td>87</td>\n",
       "      <td>140</td>\n",
       "      <td>57</td>\n",
       "      <td>17</td>\n",
       "      <td>65</td>\n",
       "      <td>1</td>\n",
       "    </tr>\n",
       "    <tr>\n",
       "      <th>1</th>\n",
       "      <td>99</td>\n",
       "      <td>21</td>\n",
       "      <td>34</td>\n",
       "      <td>-17</td>\n",
       "      <td>18</td>\n",
       "      <td>29</td>\n",
       "      <td>218</td>\n",
       "      <td>40</td>\n",
       "      <td>3</td>\n",
       "      <td>70</td>\n",
       "      <td>0</td>\n",
       "    </tr>\n",
       "    <tr>\n",
       "      <th>2</th>\n",
       "      <td>71</td>\n",
       "      <td>58</td>\n",
       "      <td>39</td>\n",
       "      <td>-7</td>\n",
       "      <td>22</td>\n",
       "      <td>38</td>\n",
       "      <td>295</td>\n",
       "      <td>47</td>\n",
       "      <td>3</td>\n",
       "      <td>63</td>\n",
       "      <td>0</td>\n",
       "    </tr>\n",
       "    <tr>\n",
       "      <th>3</th>\n",
       "      <td>135</td>\n",
       "      <td>23</td>\n",
       "      <td>40</td>\n",
       "      <td>-9</td>\n",
       "      <td>11</td>\n",
       "      <td>28</td>\n",
       "      <td>222</td>\n",
       "      <td>89</td>\n",
       "      <td>4</td>\n",
       "      <td>61</td>\n",
       "      <td>1</td>\n",
       "    </tr>\n",
       "    <tr>\n",
       "      <th>4</th>\n",
       "      <td>159</td>\n",
       "      <td>16</td>\n",
       "      <td>41</td>\n",
       "      <td>-22</td>\n",
       "      <td>12</td>\n",
       "      <td>42</td>\n",
       "      <td>199</td>\n",
       "      <td>88</td>\n",
       "      <td>3</td>\n",
       "      <td>77</td>\n",
       "      <td>0</td>\n",
       "    </tr>\n",
       "  </tbody>\n",
       "</table>\n",
       "</div>"
      ],
      "text/plain": [
       "   BPM  Energy  Danceability  Loudness  Liveness  Valence  Length  \\\n",
       "0  123      73            48        -8        11       87     140   \n",
       "1   99      21            34       -17        18       29     218   \n",
       "2   71      58            39        -7        22       38     295   \n",
       "3  135      23            40        -9        11       28     222   \n",
       "4  159      16            41       -22        12       42     199   \n",
       "\n",
       "   Acousticness  Speechiness  Popularity  is_recent  \n",
       "0            57           17          65          1  \n",
       "1            40            3          70          0  \n",
       "2            47            3          63          0  \n",
       "3            89            4          61          1  \n",
       "4            88            3          77          0  "
      ]
     },
     "execution_count": 83,
     "metadata": {},
     "output_type": "execute_result"
    }
   ],
   "source": [
    "df_train.head()"
   ]
  },
  {
   "cell_type": "code",
   "execution_count": 84,
   "metadata": {},
   "outputs": [],
   "source": [
    "x_train = df_train.drop(columns=['is_recent', 'Length'])\n",
    "y_train = df_train['is_recent']\n",
    "\n",
    "x_test = df_test.drop(columns=['is_recent', 'Length'])\n",
    "y_test = df_test['is_recent']\n",
    "\n",
    "clss = ['Pre-2000', 'Post-2000']"
   ]
  },
  {
   "cell_type": "code",
   "execution_count": 85,
   "metadata": {},
   "outputs": [
    {
     "data": {
      "text/html": [
       "<div>\n",
       "<style scoped>\n",
       "    .dataframe tbody tr th:only-of-type {\n",
       "        vertical-align: middle;\n",
       "    }\n",
       "\n",
       "    .dataframe tbody tr th {\n",
       "        vertical-align: top;\n",
       "    }\n",
       "\n",
       "    .dataframe thead th {\n",
       "        text-align: right;\n",
       "    }\n",
       "</style>\n",
       "<table border=\"1\" class=\"dataframe\">\n",
       "  <thead>\n",
       "    <tr style=\"text-align: right;\">\n",
       "      <th></th>\n",
       "      <th>count</th>\n",
       "      <th>mean</th>\n",
       "      <th>std</th>\n",
       "      <th>min</th>\n",
       "      <th>25%</th>\n",
       "      <th>50%</th>\n",
       "      <th>75%</th>\n",
       "      <th>max</th>\n",
       "    </tr>\n",
       "  </thead>\n",
       "  <tbody>\n",
       "    <tr>\n",
       "      <th>0</th>\n",
       "      <td>1395.0</td>\n",
       "      <td>0.456174</td>\n",
       "      <td>0.179555</td>\n",
       "      <td>0.0</td>\n",
       "      <td>0.318471</td>\n",
       "      <td>0.452229</td>\n",
       "      <td>0.557325</td>\n",
       "      <td>1.0</td>\n",
       "    </tr>\n",
       "    <tr>\n",
       "      <th>1</th>\n",
       "      <td>1395.0</td>\n",
       "      <td>0.583587</td>\n",
       "      <td>0.229908</td>\n",
       "      <td>0.0</td>\n",
       "      <td>0.401042</td>\n",
       "      <td>0.604167</td>\n",
       "      <td>0.770833</td>\n",
       "      <td>1.0</td>\n",
       "    </tr>\n",
       "    <tr>\n",
       "      <th>2</th>\n",
       "      <td>1395.0</td>\n",
       "      <td>0.500500</td>\n",
       "      <td>0.179877</td>\n",
       "      <td>0.0</td>\n",
       "      <td>0.383721</td>\n",
       "      <td>0.500000</td>\n",
       "      <td>0.627907</td>\n",
       "      <td>1.0</td>\n",
       "    </tr>\n",
       "    <tr>\n",
       "      <th>3</th>\n",
       "      <td>1395.0</td>\n",
       "      <td>0.723097</td>\n",
       "      <td>0.145117</td>\n",
       "      <td>0.0</td>\n",
       "      <td>0.640000</td>\n",
       "      <td>0.760000</td>\n",
       "      <td>0.840000</td>\n",
       "      <td>1.0</td>\n",
       "    </tr>\n",
       "    <tr>\n",
       "      <th>4</th>\n",
       "      <td>1395.0</td>\n",
       "      <td>0.175110</td>\n",
       "      <td>0.169782</td>\n",
       "      <td>0.0</td>\n",
       "      <td>0.072165</td>\n",
       "      <td>0.103093</td>\n",
       "      <td>0.216495</td>\n",
       "      <td>1.0</td>\n",
       "    </tr>\n",
       "    <tr>\n",
       "      <th>5</th>\n",
       "      <td>1395.0</td>\n",
       "      <td>0.480615</td>\n",
       "      <td>0.258486</td>\n",
       "      <td>0.0</td>\n",
       "      <td>0.270833</td>\n",
       "      <td>0.458333</td>\n",
       "      <td>0.677083</td>\n",
       "      <td>1.0</td>\n",
       "    </tr>\n",
       "    <tr>\n",
       "      <th>6</th>\n",
       "      <td>1395.0</td>\n",
       "      <td>0.131427</td>\n",
       "      <td>0.070653</td>\n",
       "      <td>0.0</td>\n",
       "      <td>0.093407</td>\n",
       "      <td>0.118524</td>\n",
       "      <td>0.152276</td>\n",
       "      <td>1.0</td>\n",
       "    </tr>\n",
       "    <tr>\n",
       "      <th>7</th>\n",
       "      <td>1395.0</td>\n",
       "      <td>0.298786</td>\n",
       "      <td>0.296839</td>\n",
       "      <td>0.0</td>\n",
       "      <td>0.030612</td>\n",
       "      <td>0.183673</td>\n",
       "      <td>0.520408</td>\n",
       "      <td>1.0</td>\n",
       "    </tr>\n",
       "    <tr>\n",
       "      <th>8</th>\n",
       "      <td>1395.0</td>\n",
       "      <td>0.057672</td>\n",
       "      <td>0.082810</td>\n",
       "      <td>0.0</td>\n",
       "      <td>0.018868</td>\n",
       "      <td>0.037736</td>\n",
       "      <td>0.056604</td>\n",
       "      <td>1.0</td>\n",
       "    </tr>\n",
       "    <tr>\n",
       "      <th>9</th>\n",
       "      <td>1395.0</td>\n",
       "      <td>0.542193</td>\n",
       "      <td>0.162211</td>\n",
       "      <td>0.0</td>\n",
       "      <td>0.426966</td>\n",
       "      <td>0.561798</td>\n",
       "      <td>0.674157</td>\n",
       "      <td>1.0</td>\n",
       "    </tr>\n",
       "  </tbody>\n",
       "</table>\n",
       "</div>"
      ],
      "text/plain": [
       "    count      mean       std  min       25%       50%       75%  max\n",
       "0  1395.0  0.456174  0.179555  0.0  0.318471  0.452229  0.557325  1.0\n",
       "1  1395.0  0.583587  0.229908  0.0  0.401042  0.604167  0.770833  1.0\n",
       "2  1395.0  0.500500  0.179877  0.0  0.383721  0.500000  0.627907  1.0\n",
       "3  1395.0  0.723097  0.145117  0.0  0.640000  0.760000  0.840000  1.0\n",
       "4  1395.0  0.175110  0.169782  0.0  0.072165  0.103093  0.216495  1.0\n",
       "5  1395.0  0.480615  0.258486  0.0  0.270833  0.458333  0.677083  1.0\n",
       "6  1395.0  0.131427  0.070653  0.0  0.093407  0.118524  0.152276  1.0\n",
       "7  1395.0  0.298786  0.296839  0.0  0.030612  0.183673  0.520408  1.0\n",
       "8  1395.0  0.057672  0.082810  0.0  0.018868  0.037736  0.056604  1.0\n",
       "9  1395.0  0.542193  0.162211  0.0  0.426966  0.561798  0.674157  1.0"
      ]
     },
     "execution_count": 85,
     "metadata": {},
     "output_type": "execute_result"
    }
   ],
   "source": [
    "from sklearn.preprocessing import MinMaxScaler\n",
    "\n",
    "scaler = MinMaxScaler()\n",
    "x_train = pd.DataFrame(scaler.fit_transform(x_train))\n",
    "x_test = pd.DataFrame(scaler.transform(x_test))\n",
    "\n",
    "x_train.describe().T"
   ]
  },
  {
   "cell_type": "markdown",
   "metadata": {},
   "source": [
    "## Models"
   ]
  },
  {
   "cell_type": "code",
   "execution_count": 86,
   "metadata": {},
   "outputs": [],
   "source": [
    "from sklearn.metrics import f1_score, accuracy_score, roc_auc_score\n",
    "\n",
    "\n",
    "def save_results(clf, X_test, y_test, nclf, df):\n",
    "    if hasattr(clf, 'best_score_'):\n",
    "        df.loc[nclf,'train XV acc'] = clf.best_score_\n",
    "    else:\n",
    "        df.loc[nclf,'train XV acc'] = np.nan\n",
    "    df.loc[nclf,'test acc'] = accuracy_score(y_test, clf.predict(X_test))\n",
    "    df.loc[nclf,'test f1 score (0)'] = f1_score(y_test, clf.predict(X_test), pos_label=0)\n",
    "    df.loc[nclf,'test f1 score (1)'] = f1_score(y_test, clf.predict(X_test), pos_label=1)\n",
    "    df.loc[nclf,'test f1 score (W)'] = f1_score(y_test, clf.predict(X_test), average='macro')\n",
    "    # df.loc[nclf,'ROC AUC'] = roc_auc_score(y_test, clf.predict_proba(X_test)[:,1])\n",
    "    return df\n",
    "\n",
    "results_df = pd.DataFrame()"
   ]
  },
  {
   "cell_type": "code",
   "execution_count": 87,
   "metadata": {},
   "outputs": [],
   "source": [
    "niter = 15\n",
    "cv = 10"
   ]
  },
  {
   "cell_type": "markdown",
   "metadata": {},
   "source": [
    "### Naive-Bayes"
   ]
  },
  {
   "cell_type": "code",
   "execution_count": 88,
   "metadata": {},
   "outputs": [],
   "source": [
    "from sklearn.naive_bayes import GaussianNB\n",
    "from sklearn.model_selection import GridSearchCV\n"
   ]
  },
  {
   "cell_type": "code",
   "execution_count": 89,
   "metadata": {},
   "outputs": [
    {
     "name": "stdout",
     "output_type": "stream",
     "text": [
      "Priors: [0.59928315 0.40071685]\n",
      "Means:\n",
      "\n"
     ]
    },
    {
     "data": {
      "text/html": [
       "<div>\n",
       "<style scoped>\n",
       "    .dataframe tbody tr th:only-of-type {\n",
       "        vertical-align: middle;\n",
       "    }\n",
       "\n",
       "    .dataframe tbody tr th {\n",
       "        vertical-align: top;\n",
       "    }\n",
       "\n",
       "    .dataframe thead th {\n",
       "        text-align: right;\n",
       "    }\n",
       "</style>\n",
       "<table border=\"1\" class=\"dataframe\">\n",
       "  <thead>\n",
       "    <tr style=\"text-align: right;\">\n",
       "      <th></th>\n",
       "      <th>0</th>\n",
       "      <th>1</th>\n",
       "      <th>2</th>\n",
       "      <th>3</th>\n",
       "      <th>4</th>\n",
       "      <th>5</th>\n",
       "      <th>6</th>\n",
       "      <th>7</th>\n",
       "      <th>8</th>\n",
       "      <th>9</th>\n",
       "    </tr>\n",
       "  </thead>\n",
       "  <tbody>\n",
       "    <tr>\n",
       "      <th>0</th>\n",
       "      <td>0.452024</td>\n",
       "      <td>0.564132</td>\n",
       "      <td>0.497079</td>\n",
       "      <td>0.682775</td>\n",
       "      <td>0.170300</td>\n",
       "      <td>0.51008</td>\n",
       "      <td>0.136212</td>\n",
       "      <td>0.317120</td>\n",
       "      <td>0.052022</td>\n",
       "      <td>0.555615</td>\n",
       "    </tr>\n",
       "    <tr>\n",
       "      <th>1</th>\n",
       "      <td>0.462382</td>\n",
       "      <td>0.612683</td>\n",
       "      <td>0.505616</td>\n",
       "      <td>0.783399</td>\n",
       "      <td>0.182303</td>\n",
       "      <td>0.43655</td>\n",
       "      <td>0.124272</td>\n",
       "      <td>0.271367</td>\n",
       "      <td>0.066122</td>\n",
       "      <td>0.522120</td>\n",
       "    </tr>\n",
       "  </tbody>\n",
       "</table>\n",
       "</div>"
      ],
      "text/plain": [
       "          0         1         2         3         4        5         6  \\\n",
       "0  0.452024  0.564132  0.497079  0.682775  0.170300  0.51008  0.136212   \n",
       "1  0.462382  0.612683  0.505616  0.783399  0.182303  0.43655  0.124272   \n",
       "\n",
       "          7         8         9  \n",
       "0  0.317120  0.052022  0.555615  \n",
       "1  0.271367  0.066122  0.522120  "
      ]
     },
     "execution_count": 89,
     "metadata": {},
     "output_type": "execute_result"
    }
   ],
   "source": [
    "gnb_model = GaussianNB().fit(x_train, y_train)\n",
    "\n",
    "print('Priors:', gnb_model.class_prior_)\n",
    "print('Means:\\n')\n",
    "means =pd.DataFrame(gnb_model.theta_)\n",
    "means.columns=x_train.columns\n",
    "means"
   ]
  },
  {
   "cell_type": "code",
   "execution_count": 90,
   "metadata": {},
   "outputs": [
    {
     "name": "stdout",
     "output_type": "stream",
     "text": [
      "              precision    recall  f1-score   support\n",
      "\n",
      "    Pre-2000       0.76      0.73      0.74       375\n",
      "   Post-2000       0.57      0.62      0.59       224\n",
      "\n",
      "    accuracy                           0.69       599\n",
      "   macro avg       0.67      0.67      0.67       599\n",
      "weighted avg       0.69      0.69      0.69       599\n",
      "\n"
     ]
    }
   ],
   "source": [
    "print(classification_report(gnb_model.predict(x_test), y_test,target_names=clss))\n",
    "results_df = save_results(gnb_model, x_test, y_test, 'GNB', results_df)"
   ]
  },
  {
   "cell_type": "code",
   "execution_count": 91,
   "metadata": {},
   "outputs": [
    {
     "data": {
      "image/png": "[encoded data removed]",
      "text/plain": [
       "<Figure size 800x800 with 2 Axes>"
      ]
     },
     "metadata": {},
     "output_type": "display_data"
    }
   ],
   "source": [
    "plt.figure(figsize=(8,8));\n",
    "ConfusionMatrixDisplay.from_estimator(gnb_model, x_test,y_test, display_labels=['M', 'B'], ax=plt.subplot());"
   ]
  },
  {
   "cell_type": "markdown",
   "metadata": {},
   "source": [
    "### QDA"
   ]
  },
  {
   "cell_type": "code",
   "execution_count": 51,
   "metadata": {},
   "outputs": [],
   "source": [
    "from sklearn.discriminant_analysis import LinearDiscriminantAnalysis, QuadraticDiscriminantAnalysis"
   ]
  },
  {
   "cell_type": "code",
   "execution_count": 92,
   "metadata": {},
   "outputs": [],
   "source": [
    "qda = QuadraticDiscriminantAnalysis()\n",
    "param = {'reg_param':np.linspace(0,1,21, endpoint=True)}\n",
    "qda_gs =  GridSearchCV(qda,param,cv=cv, n_jobs=-1, scoring='f1_weighted', refit=True).fit(x_train, y_train);"
   ]
  },
  {
   "cell_type": "code",
   "execution_count": 93,
   "metadata": {},
   "outputs": [
    {
     "data": {
      "text/html": [
       "<table border=\"1\" class=\"dataframe\">\n",
       "  <thead>\n",
       "    <tr style=\"text-align: right;\">\n",
       "      <th></th>\n",
       "      <th>params</th>\n",
       "      <th>mean_test_score</th>\n",
       "      <th>rank_test_score</th>\n",
       "    </tr>\n",
       "  </thead>\n",
       "  <tbody>\n",
       "    <tr>\n",
       "      <th>0</th>\n",
       "      <td>{'reg_param': 0.0}</td>\n",
       "      <td>0.736601</td>\n",
       "      <td>1</td>\n",
       "    </tr>\n",
       "    <tr>\n",
       "      <th>1</th>\n",
       "      <td>{'reg_param': 0.05}</td>\n",
       "      <td>0.572521</td>\n",
       "      <td>2</td>\n",
       "    </tr>\n",
       "    <tr>\n",
       "      <th>2</th>\n",
       "      <td>{'reg_param': 0.1}</td>\n",
       "      <td>0.470508</td>\n",
       "      <td>3</td>\n",
       "    </tr>\n",
       "    <tr>\n",
       "      <th>3</th>\n",
       "      <td>{'reg_param': 0.15000000000000002}</td>\n",
       "      <td>0.450370</td>\n",
       "      <td>4</td>\n",
       "    </tr>\n",
       "    <tr>\n",
       "      <th>4</th>\n",
       "      <td>{'reg_param': 0.2}</td>\n",
       "      <td>0.449126</td>\n",
       "      <td>5</td>\n",
       "    </tr>\n",
       "  </tbody>\n",
       "</table>"
      ],
      "text/plain": [
       "<IPython.core.display.HTML object>"
      ]
     },
     "metadata": {},
     "output_type": "display_data"
    }
   ],
   "source": [
    "show_html(pd.DataFrame(qda_gs.cv_results_).loc[:,['params', 'mean_test_score','rank_test_score']].sort_values(by='rank_test_score').head().to_html())"
   ]
  },
  {
   "cell_type": "code",
   "execution_count": 94,
   "metadata": {},
   "outputs": [
    {
     "name": "stdout",
     "output_type": "stream",
     "text": [
      "              precision    recall  f1-score   support\n",
      "\n",
      "    Pre-2000       0.79      0.74      0.76       379\n",
      "   Post-2000       0.60      0.65      0.62       220\n",
      "\n",
      "    accuracy                           0.71       599\n",
      "   macro avg       0.69      0.70      0.69       599\n",
      "weighted avg       0.72      0.71      0.71       599\n",
      "\n"
     ]
    }
   ],
   "source": [
    "print(classification_report(qda_gs.predict(x_test), y_test,target_names=clss))\n",
    "results_df = save_results(qda_gs, x_test, y_test, 'QDA', results_df)"
   ]
  },
  {
   "cell_type": "code",
   "execution_count": 95,
   "metadata": {},
   "outputs": [
    {
     "data": {
      "image/png": "[encoded data removed]",
      "text/plain": [
       "<Figure size 800x800 with 2 Axes>"
      ]
     },
     "metadata": {},
     "output_type": "display_data"
    }
   ],
   "source": [
    "plt.figure(figsize=(8,8));\n",
    "ConfusionMatrixDisplay.from_estimator(qda_gs, x_test,y_test, display_labels=['M', 'B'], ax=plt.subplot());"
   ]
  },
  {
   "cell_type": "markdown",
   "metadata": {},
   "source": [
    "### SVM lineal"
   ]
  },
  {
   "cell_type": "code",
   "execution_count": 96,
   "metadata": {},
   "outputs": [],
   "source": [
    "from sklearn.model_selection import cross_val_score\n",
    "\n",
    "\n",
    "param = {'C': 10**np.linspace(-3, 3, 101)}\n",
    "\n",
    "lsvm = BayesSearchCV(SVC(kernel='linear', random_state=0), \n",
    "                     param, \n",
    "                     n_iter=niter,\n",
    "                     cv=cv,\n",
    "                     n_jobs=-1, \n",
    "                     refit=True, \n",
    "                     random_state=0, scoring='f1_weighted').fit(x_train, y_train)\n",
    "# y_test_predicted_lsvm = lsvm.predict(x_test)\n",
    "\n",
    "# r2_lsvm_train = np.mean(cross_val_score(lsvm, x_train, y_train))\n",
    "# r2_lsvm_test = np.mean(cross_val_score(lsvm, x_test, y_test))\n",
    "\n",
    "# print(f'Train R2 score: {r2_lsvm_train}')\n",
    "# print(f'Test R2 score: {r2_lsvm_test}')"
   ]
  },
  {
   "cell_type": "code",
   "execution_count": 98,
   "metadata": {},
   "outputs": [
    {
     "data": {
      "text/html": [
       "<table border=\"1\" class=\"dataframe\">\n",
       "  <thead>\n",
       "    <tr style=\"text-align: right;\">\n",
       "      <th></th>\n",
       "      <th>params</th>\n",
       "      <th>mean_test_score</th>\n",
       "      <th>rank_test_score</th>\n",
       "    </tr>\n",
       "  </thead>\n",
       "  <tbody>\n",
       "    <tr>\n",
       "      <th>6</th>\n",
       "      <td>{'C': 660.6934480075951}</td>\n",
       "      <td>0.728195</td>\n",
       "      <td>1</td>\n",
       "    </tr>\n",
       "    <tr>\n",
       "      <th>5</th>\n",
       "      <td>{'C': 109.64781961431851}</td>\n",
       "      <td>0.727344</td>\n",
       "      <td>2</td>\n",
       "    </tr>\n",
       "    <tr>\n",
       "      <th>12</th>\n",
       "      <td>{'C': 54.954087385762485}</td>\n",
       "      <td>0.726514</td>\n",
       "      <td>3</td>\n",
       "    </tr>\n",
       "    <tr>\n",
       "      <th>13</th>\n",
       "      <td>{'C': 72.44359600749891}</td>\n",
       "      <td>0.726514</td>\n",
       "      <td>3</td>\n",
       "    </tr>\n",
       "    <tr>\n",
       "      <th>14</th>\n",
       "      <td>{'C': 15.848931924611142}</td>\n",
       "      <td>0.725059</td>\n",
       "      <td>5</td>\n",
       "    </tr>\n",
       "  </tbody>\n",
       "</table>"
      ],
      "text/plain": [
       "<IPython.core.display.HTML object>"
      ]
     },
     "metadata": {},
     "output_type": "display_data"
    }
   ],
   "source": [
    "show_html(pd.DataFrame(lsvm.cv_results_).loc[:,['params', 'mean_test_score','rank_test_score']].sort_values(by='rank_test_score').head().to_html())"
   ]
  },
  {
   "cell_type": "code",
   "execution_count": 99,
   "metadata": {},
   "outputs": [
    {
     "name": "stdout",
     "output_type": "stream",
     "text": [
      "              precision    recall  f1-score   support\n",
      "\n",
      "    Pre-2000       0.81      0.74      0.77       394\n",
      "   Post-2000       0.57      0.66      0.61       205\n",
      "\n",
      "    accuracy                           0.71       599\n",
      "   macro avg       0.69      0.70      0.69       599\n",
      "weighted avg       0.73      0.71      0.72       599\n",
      "\n"
     ]
    }
   ],
   "source": [
    "print(classification_report(lsvm.predict(x_test), y_test, target_names=clss))\n",
    "results_df = save_results(lsvm, x_test, y_test, 'SVM Lineal', results_df)"
   ]
  },
  {
   "cell_type": "code",
   "execution_count": 100,
   "metadata": {},
   "outputs": [
    {
     "data": {
      "image/png": "[encoded data removed]",
      "text/plain": [
       "<Figure size 800x800 with 2 Axes>"
      ]
     },
     "metadata": {},
     "output_type": "display_data"
    }
   ],
   "source": [
    "from matplotlib import pyplot as plt\n",
    "import seaborn as sns\n",
    "sns.set()\n",
    "\n",
    "\n",
    "plt.figure(figsize=(8,8));\n",
    "ConfusionMatrixDisplay.from_estimator(lsvm, x_test, y_test, display_labels=clss, ax=plt.subplot());"
   ]
  },
  {
   "cell_type": "markdown",
   "metadata": {},
   "source": [
    "### SVM Polinomial"
   ]
  },
  {
   "cell_type": "code",
   "execution_count": 101,
   "metadata": {},
   "outputs": [],
   "source": [
    "param = {'C': 10**np.linspace(-3, 3, 101),\n",
    "         'degree':[2,3]}\n",
    "\n",
    "qsvm = BayesSearchCV(SVC(kernel='poly', random_state=0), \n",
    "                     param, \n",
    "                     n_iter=niter,\n",
    "                     cv=cv, \n",
    "                     n_jobs=-1, \n",
    "                     refit=True, \n",
    "                     random_state=0, scoring='f1_weighted').fit(x_train, y_train)\n",
    "# y_test_predicted_qsvm = qsvm.predict(x_test)\n",
    "# r2_qsvm_train = np.mean(cross_val_score(qsvm, x_train, y_train))\n",
    "# r2_qsvm_test = np.mean(cross_val_score(qsvm, x_test, y_test))\n",
    "\n",
    "# print(f'Train R2 score: {r2_qsvm_train}')\n",
    "# print(f'Test R2 score: {r2_qsvm_test}')"
   ]
  },
  {
   "cell_type": "code",
   "execution_count": 103,
   "metadata": {},
   "outputs": [
    {
     "data": {
      "text/html": [
       "<table border=\"1\" class=\"dataframe\">\n",
       "  <thead>\n",
       "    <tr style=\"text-align: right;\">\n",
       "      <th></th>\n",
       "      <th>params</th>\n",
       "      <th>mean_test_score</th>\n",
       "      <th>rank_test_score</th>\n",
       "    </tr>\n",
       "  </thead>\n",
       "  <tbody>\n",
       "    <tr>\n",
       "      <th>11</th>\n",
       "      <td>{'C': 2.2908676527677723, 'degree': 2}</td>\n",
       "      <td>0.751921</td>\n",
       "      <td>1</td>\n",
       "    </tr>\n",
       "    <tr>\n",
       "      <th>2</th>\n",
       "      <td>{'C': 1.513561248436207, 'degree': 2}</td>\n",
       "      <td>0.750782</td>\n",
       "      <td>2</td>\n",
       "    </tr>\n",
       "    <tr>\n",
       "      <th>12</th>\n",
       "      <td>{'C': 6.025595860743575, 'degree': 2}</td>\n",
       "      <td>0.747748</td>\n",
       "      <td>3</td>\n",
       "    </tr>\n",
       "    <tr>\n",
       "      <th>7</th>\n",
       "      <td>{'C': 1.1481536214968828, 'degree': 3}</td>\n",
       "      <td>0.740358</td>\n",
       "      <td>4</td>\n",
       "    </tr>\n",
       "    <tr>\n",
       "      <th>13</th>\n",
       "      <td>{'C': 0.43651583224016566, 'degree': 2}</td>\n",
       "      <td>0.740010</td>\n",
       "      <td>5</td>\n",
       "    </tr>\n",
       "  </tbody>\n",
       "</table>"
      ],
      "text/plain": [
       "<IPython.core.display.HTML object>"
      ]
     },
     "metadata": {},
     "output_type": "display_data"
    }
   ],
   "source": [
    "show_html(pd.DataFrame(qsvm.cv_results_).loc[:,['params', 'mean_test_score','rank_test_score']].sort_values(by='rank_test_score').head().to_html())"
   ]
  },
  {
   "cell_type": "code",
   "execution_count": 104,
   "metadata": {},
   "outputs": [
    {
     "name": "stdout",
     "output_type": "stream",
     "text": [
      "              precision    recall  f1-score   support\n",
      "\n",
      "    Pre-2000       0.82      0.75      0.79       390\n",
      "   Post-2000       0.60      0.69      0.64       209\n",
      "\n",
      "    accuracy                           0.73       599\n",
      "   macro avg       0.71      0.72      0.71       599\n",
      "weighted avg       0.74      0.73      0.73       599\n",
      "\n"
     ]
    }
   ],
   "source": [
    "print(classification_report(qsvm.predict(x_test), y_test, target_names=clss))\n",
    "results_df = save_results(qsvm, x_test, y_test, 'SVM Polinomic', results_df)"
   ]
  },
  {
   "cell_type": "code",
   "execution_count": 105,
   "metadata": {},
   "outputs": [
    {
     "data": {
      "image/png": "[encoded data removed]",
      "text/plain": [
       "<Figure size 800x800 with 2 Axes>"
      ]
     },
     "metadata": {},
     "output_type": "display_data"
    }
   ],
   "source": [
    "plt.figure(figsize=(8,8));\n",
    "ConfusionMatrixDisplay.from_estimator(qsvm, x_test, y_test, display_labels=clss, ax=plt.subplot());"
   ]
  },
  {
   "cell_type": "markdown",
   "metadata": {},
   "source": [
    "### SVM RBF"
   ]
  },
  {
   "cell_type": "code",
   "execution_count": 106,
   "metadata": {},
   "outputs": [],
   "source": [
    "param = {'C':10**np.linspace(-3,3,101), \n",
    "         'gamma':['scale','auto']}\n",
    "\n",
    "rbfsvm = BayesSearchCV(SVC(kernel='rbf', random_state=0), \n",
    "                     param, \n",
    "                     n_iter=niter, \n",
    "                     cv=cv,\n",
    "                     scoring='f1_weighted',\n",
    "                     n_jobs=-1, \n",
    "                     refit=True, \n",
    "                     random_state=0).fit(x_train, y_train)\n",
    "# y_test_predicted_rbfsvm = rbfsvm.predict(x_test)\n",
    "# r2_rbfsvm_train = np.mean(cross_val_score(rbfsvm, x_train, y_train))\n",
    "# r2_rbfsvm_test = np.mean(cross_val_score(rbfsvm, x_test, y_test))\n",
    "\n",
    "# print(f'Train R2 score: {r2_rbfsvm_train}')\n",
    "# print(f'Test R2 score: {r2_rbfsvm_test}')"
   ]
  },
  {
   "cell_type": "code",
   "execution_count": 27,
   "metadata": {},
   "outputs": [
    {
     "data": {
      "text/html": [
       "<table border=\"1\" class=\"dataframe\">\n",
       "  <thead>\n",
       "    <tr style=\"text-align: right;\">\n",
       "      <th></th>\n",
       "      <th>params</th>\n",
       "      <th>mean_test_score</th>\n",
       "      <th>rank_test_score</th>\n",
       "    </tr>\n",
       "  </thead>\n",
       "  <tbody>\n",
       "    <tr>\n",
       "      <th>13</th>\n",
       "      <td>{'C': 125.89254117941661, 'gamma': 'auto'}</td>\n",
       "      <td>0.767354</td>\n",
       "      <td>1</td>\n",
       "    </tr>\n",
       "    <tr>\n",
       "      <th>10</th>\n",
       "      <td>{'C': 331.13112148259074, 'gamma': 'auto'}</td>\n",
       "      <td>0.766250</td>\n",
       "      <td>2</td>\n",
       "    </tr>\n",
       "    <tr>\n",
       "      <th>12</th>\n",
       "      <td>{'C': 6.918309709189363, 'gamma': 'scale'}</td>\n",
       "      <td>0.763992</td>\n",
       "      <td>3</td>\n",
       "    </tr>\n",
       "    <tr>\n",
       "      <th>0</th>\n",
       "      <td>{'C': 1.513561248436207, 'gamma': 'scale'}</td>\n",
       "      <td>0.742618</td>\n",
       "      <td>4</td>\n",
       "    </tr>\n",
       "    <tr>\n",
       "      <th>7</th>\n",
       "      <td>{'C': 1.1481536214968828, 'gamma': 'scale'}</td>\n",
       "      <td>0.737811</td>\n",
       "      <td>5</td>\n",
       "    </tr>\n",
       "  </tbody>\n",
       "</table>"
      ],
      "text/plain": [
       "<IPython.core.display.HTML object>"
      ]
     },
     "metadata": {},
     "output_type": "display_data"
    }
   ],
   "source": [
    "show_html(pd.DataFrame(rbfsvm.cv_results_).loc[:,['params', 'mean_test_score','rank_test_score']].sort_values(by='rank_test_score').head().to_html())"
   ]
  },
  {
   "cell_type": "code",
   "execution_count": 28,
   "metadata": {},
   "outputs": [
    {
     "name": "stdout",
     "output_type": "stream",
     "text": [
      "              precision    recall  f1-score   support\n",
      "\n",
      "    Pre-2000       0.84      0.77      0.81       391\n",
      "   Post-2000       0.63      0.73      0.68       208\n",
      "\n",
      "    accuracy                           0.76       599\n",
      "   macro avg       0.74      0.75      0.74       599\n",
      "weighted avg       0.77      0.76      0.76       599\n",
      "\n"
     ]
    }
   ],
   "source": [
    "print(classification_report(rbfsvm.predict(x_test), y_test, target_names=clss))\n",
    "results_df = save_results(rbfsvm, x_test, y_test, 'SVM RBF', results_df)"
   ]
  },
  {
   "cell_type": "code",
   "execution_count": 29,
   "metadata": {},
   "outputs": [
    {
     "data": {
      "image/png": "[encoded data removed]",
      "text/plain": [
       "<Figure size 800x800 with 2 Axes>"
      ]
     },
     "metadata": {},
     "output_type": "display_data"
    }
   ],
   "source": [
    "plt.figure(figsize=(8,8));\n",
    "ConfusionMatrixDisplay.from_estimator(rbfsvm, x_test, y_test, display_labels=clss, ax=plt.subplot());"
   ]
  },
  {
   "cell_type": "markdown",
   "metadata": {},
   "source": [
    "### KNN"
   ]
  },
  {
   "cell_type": "code",
   "execution_count": 31,
   "metadata": {},
   "outputs": [],
   "source": [
    "from sklearn.neighbors import KNeighborsClassifier\n",
    "\n",
    "\n",
    "param = {'n_neighbors':[1, 3, 5, 7, 11, 15], \n",
    "          'weights':['distance', 'uniform'], \n",
    "          'leaf_size':[1, 5, 10, 20, 30],\n",
    "          'metric': ['l2', 'l1', 'cosine']}\n",
    "\n",
    "knn = BayesSearchCV(KNeighborsClassifier(), \n",
    "                     param, \n",
    "                     n_iter=niter,\n",
    "                     cv=cv,\n",
    "                     scoring='f1_weighted', \n",
    "                     n_jobs=-1, \n",
    "                     refit=True, \n",
    "                     random_state=0).fit(x_train, y_train)\n",
    "# y_test_predicted_knn = knn.predict(x_test)\n",
    "# r2_knn_train = np.mean(cross_val_score(knn, x_train, y_train))\n",
    "# r2_knn_test = np.mean(cross_val_score(knn, x_test, y_test))\n",
    "\n",
    "# print(f'Train R2 score: {r2_knn_train}')\n",
    "# print(f'Test R2 score: {r2_knn_test}')"
   ]
  },
  {
   "cell_type": "code",
   "execution_count": 32,
   "metadata": {},
   "outputs": [
    {
     "data": {
      "text/html": [
       "<table border=\"1\" class=\"dataframe\">\n",
       "  <thead>\n",
       "    <tr style=\"text-align: right;\">\n",
       "      <th></th>\n",
       "      <th>params</th>\n",
       "      <th>mean_test_score</th>\n",
       "      <th>rank_test_score</th>\n",
       "    </tr>\n",
       "  </thead>\n",
       "  <tbody>\n",
       "    <tr>\n",
       "      <th>11</th>\n",
       "      <td>{'leaf_size': 5, 'metric': 'l1', 'n_neighbors': 7, 'weights': 'distance'}</td>\n",
       "      <td>0.726731</td>\n",
       "      <td>1</td>\n",
       "    </tr>\n",
       "    <tr>\n",
       "      <th>0</th>\n",
       "      <td>{'leaf_size': 10, 'metric': 'l1', 'n_neighbors': 7, 'weights': 'uniform'}</td>\n",
       "      <td>0.726246</td>\n",
       "      <td>2</td>\n",
       "    </tr>\n",
       "    <tr>\n",
       "      <th>10</th>\n",
       "      <td>{'leaf_size': 1, 'metric': 'l1', 'n_neighbors': 7, 'weights': 'uniform'}</td>\n",
       "      <td>0.726246</td>\n",
       "      <td>2</td>\n",
       "    </tr>\n",
       "    <tr>\n",
       "      <th>7</th>\n",
       "      <td>{'leaf_size': 10, 'metric': 'l1', 'n_neighbors': 11, 'weights': 'distance'}</td>\n",
       "      <td>0.718735</td>\n",
       "      <td>4</td>\n",
       "    </tr>\n",
       "    <tr>\n",
       "      <th>13</th>\n",
       "      <td>{'leaf_size': 10, 'metric': 'l1', 'n_neighbors': 15, 'weights': 'distance'}</td>\n",
       "      <td>0.718143</td>\n",
       "      <td>5</td>\n",
       "    </tr>\n",
       "  </tbody>\n",
       "</table>"
      ],
      "text/plain": [
       "<IPython.core.display.HTML object>"
      ]
     },
     "metadata": {},
     "output_type": "display_data"
    }
   ],
   "source": [
    "show_html(pd.DataFrame(knn.cv_results_).loc[:,['params', 'mean_test_score','rank_test_score']].sort_values(by='rank_test_score').head().to_html())"
   ]
  },
  {
   "cell_type": "code",
   "execution_count": 33,
   "metadata": {},
   "outputs": [
    {
     "name": "stdout",
     "output_type": "stream",
     "text": [
      "              precision    recall  f1-score   support\n",
      "\n",
      "    Pre-2000       0.81      0.73      0.77       400\n",
      "   Post-2000       0.55      0.66      0.60       199\n",
      "\n",
      "    accuracy                           0.70       599\n",
      "   macro avg       0.68      0.69      0.68       599\n",
      "weighted avg       0.72      0.70      0.71       599\n",
      "\n"
     ]
    }
   ],
   "source": [
    "print(classification_report(knn.predict(x_test), y_test, target_names=clss))\n",
    "results_df = save_results(knn, x_test, y_test, 'KNN', results_df)"
   ]
  },
  {
   "cell_type": "code",
   "execution_count": 34,
   "metadata": {},
   "outputs": [
    {
     "data": {
      "image/png": "[encoded data removed]",
      "text/plain": [
       "<Figure size 800x800 with 2 Axes>"
      ]
     },
     "metadata": {},
     "output_type": "display_data"
    }
   ],
   "source": [
    "plt.figure(figsize=(8,8));\n",
    "ConfusionMatrixDisplay.from_estimator(knn, x_test, y_test, display_labels=clss, ax=plt.subplot());"
   ]
  },
  {
   "cell_type": "markdown",
   "metadata": {},
   "source": [
    "### Random Forest"
   ]
  },
  {
   "cell_type": "code",
   "execution_count": 36,
   "metadata": {},
   "outputs": [],
   "source": [
    "from sklearn.ensemble import RandomForestClassifier\n",
    "\n",
    "\n",
    "param = {'n_estimators': [5,10,25,40, 50, 75,100, 200], \n",
    "         'criterion':['gini', 'entropy'], \n",
    "         'max_depth':[None, 1, 2, 3,  5,  8, 9,10,15],\n",
    "         'min_samples_leaf':[1,2,3,5,10]}\n",
    "\n",
    "rforest = BayesSearchCV(RandomForestClassifier(), \n",
    "                        param, n_iter=niter, cv=cv, scoring='f1_weighted', n_jobs=-1, refit=True, random_state=0).fit(x_train, y_train)\n",
    "# y_test_predicted_rforest = rforest.predict(x_test)\n",
    "# r2_rforest_train = np.mean(cross_val_score(rforest, x_train, y_train))\n",
    "# r2_rforest_test = np.mean(cross_val_score(rforest, x_test, y_test))\n",
    "\n",
    "# print(f'Train R2 score: {r2_rforest_train}')\n",
    "# print(f'Test R2 score: {r2_rforest_test}')"
   ]
  },
  {
   "cell_type": "code",
   "execution_count": 37,
   "metadata": {},
   "outputs": [
    {
     "data": {
      "text/html": [
       "<table border=\"1\" class=\"dataframe\">\n",
       "  <thead>\n",
       "    <tr style=\"text-align: right;\">\n",
       "      <th></th>\n",
       "      <th>params</th>\n",
       "      <th>mean_test_score</th>\n",
       "      <th>rank_test_score</th>\n",
       "    </tr>\n",
       "  </thead>\n",
       "  <tbody>\n",
       "    <tr>\n",
       "      <th>0</th>\n",
       "      <td>{'criterion': 'gini', 'max_depth': 8, 'min_samples_leaf': 3, 'n_estimators': 75}</td>\n",
       "      <td>0.766068</td>\n",
       "      <td>1</td>\n",
       "    </tr>\n",
       "    <tr>\n",
       "      <th>14</th>\n",
       "      <td>{'criterion': 'entropy', 'max_depth': 10, 'min_samples_leaf': 1, 'n_estimators': 75}</td>\n",
       "      <td>0.763893</td>\n",
       "      <td>2</td>\n",
       "    </tr>\n",
       "    <tr>\n",
       "      <th>8</th>\n",
       "      <td>{'criterion': 'entropy', 'max_depth': 10, 'min_samples_leaf': 5, 'n_estimators': 200}</td>\n",
       "      <td>0.760095</td>\n",
       "      <td>3</td>\n",
       "    </tr>\n",
       "    <tr>\n",
       "      <th>13</th>\n",
       "      <td>{'criterion': 'gini', 'max_depth': 10, 'min_samples_leaf': 2, 'n_estimators': 25}</td>\n",
       "      <td>0.759814</td>\n",
       "      <td>4</td>\n",
       "    </tr>\n",
       "    <tr>\n",
       "      <th>1</th>\n",
       "      <td>{'criterion': 'entropy', 'max_depth': 15, 'min_samples_leaf': 10, 'n_estimators': 50}</td>\n",
       "      <td>0.757620</td>\n",
       "      <td>5</td>\n",
       "    </tr>\n",
       "  </tbody>\n",
       "</table>"
      ],
      "text/plain": [
       "<IPython.core.display.HTML object>"
      ]
     },
     "metadata": {},
     "output_type": "display_data"
    }
   ],
   "source": [
    "show_html(pd.DataFrame(rforest.cv_results_).loc[:,['params', 'mean_test_score','rank_test_score']].sort_values(by='rank_test_score').head().to_html())"
   ]
  },
  {
   "cell_type": "code",
   "execution_count": 38,
   "metadata": {},
   "outputs": [
    {
     "name": "stdout",
     "output_type": "stream",
     "text": [
      "              precision    recall  f1-score   support\n",
      "\n",
      "    Pre-2000       0.87      0.75      0.81       414\n",
      "   Post-2000       0.57      0.75      0.65       185\n",
      "\n",
      "    accuracy                           0.75       599\n",
      "   macro avg       0.72      0.75      0.73       599\n",
      "weighted avg       0.78      0.75      0.76       599\n",
      "\n"
     ]
    }
   ],
   "source": [
    "print(classification_report(rforest.predict(x_test), y_test, target_names=clss))\n",
    "results_df = save_results(rforest, x_test, y_test, 'Random Forest', results_df)"
   ]
  },
  {
   "cell_type": "code",
   "execution_count": 39,
   "metadata": {},
   "outputs": [
    {
     "data": {
      "image/png": "[encoded data removed]",
      "text/plain": [
       "<Figure size 800x800 with 2 Axes>"
      ]
     },
     "metadata": {},
     "output_type": "display_data"
    }
   ],
   "source": [
    "plt.figure(figsize=(8,8));\n",
    "ConfusionMatrixDisplay.from_estimator(rforest, x_test, y_test, display_labels=clss, ax=plt.subplot());"
   ]
  },
  {
   "cell_type": "markdown",
   "metadata": {},
   "source": [
    "### Gradient Boosting"
   ]
  },
  {
   "cell_type": "code",
   "execution_count": 40,
   "metadata": {},
   "outputs": [],
   "source": [
    "from sklearn.ensemble import GradientBoostingClassifier\n",
    "\n",
    "\n",
    "param = {'n_estimators': [5,10,25,40, 50, 75,100, 200], \n",
    "         'loss':['log_loss', 'exponential'], \n",
    "         'criterion':['friedman_mse', 'squared_error'], \n",
    "         'max_depth':[None, 1, 2, 3,  5,  8, 9,10,15],\n",
    "         'min_samples_leaf':[1,2,3,5,10], \n",
    "         'learning_rate':[0.1,0.5, 1,3, 5, 10, 15]}\n",
    "\n",
    "gboost = BayesSearchCV(GradientBoostingClassifier(random_state=0, n_iter_no_change=5), \n",
    "                        param, \n",
    "                        n_iter=15,\n",
    "                        cv=cv, \n",
    "                        n_jobs=-1, \n",
    "                        refit=True, \n",
    "                        random_state=0, scoring='f1_weighted').fit(x_train, y_train)"
   ]
  },
  {
   "cell_type": "code",
   "execution_count": 41,
   "metadata": {},
   "outputs": [
    {
     "data": {
      "text/html": [
       "<table border=\"1\" class=\"dataframe\">\n",
       "  <thead>\n",
       "    <tr style=\"text-align: right;\">\n",
       "      <th></th>\n",
       "      <th>params</th>\n",
       "      <th>mean_test_score</th>\n",
       "      <th>rank_test_score</th>\n",
       "    </tr>\n",
       "  </thead>\n",
       "  <tbody>\n",
       "    <tr>\n",
       "      <th>4</th>\n",
       "      <td>{'criterion': 'friedman_mse', 'learning_rate': 0.5, 'loss': 'log_loss', 'max_depth': 2, 'min_samples_leaf': 2, 'n_estimators': 25}</td>\n",
       "      <td>0.757650</td>\n",
       "      <td>1</td>\n",
       "    </tr>\n",
       "    <tr>\n",
       "      <th>11</th>\n",
       "      <td>{'criterion': 'friedman_mse', 'learning_rate': 0.5, 'loss': 'exponential', 'max_depth': 3, 'min_samples_leaf': 1, 'n_estimators': 75}</td>\n",
       "      <td>0.757080</td>\n",
       "      <td>2</td>\n",
       "    </tr>\n",
       "    <tr>\n",
       "      <th>14</th>\n",
       "      <td>{'criterion': 'friedman_mse', 'learning_rate': 1.0, 'loss': 'exponential', 'max_depth': 3, 'min_samples_leaf': 3, 'n_estimators': 75}</td>\n",
       "      <td>0.739337</td>\n",
       "      <td>3</td>\n",
       "    </tr>\n",
       "    <tr>\n",
       "      <th>2</th>\n",
       "      <td>{'criterion': 'squared_error', 'learning_rate': 0.1, 'loss': 'exponential', 'max_depth': 2, 'min_samples_leaf': 2, 'n_estimators': 25}</td>\n",
       "      <td>0.730508</td>\n",
       "      <td>4</td>\n",
       "    </tr>\n",
       "    <tr>\n",
       "      <th>12</th>\n",
       "      <td>{'criterion': 'friedman_mse', 'learning_rate': 0.1, 'loss': 'exponential', 'max_depth': 2, 'min_samples_leaf': 2, 'n_estimators': 25}</td>\n",
       "      <td>0.730508</td>\n",
       "      <td>4</td>\n",
       "    </tr>\n",
       "  </tbody>\n",
       "</table>"
      ],
      "text/plain": [
       "<IPython.core.display.HTML object>"
      ]
     },
     "metadata": {},
     "output_type": "display_data"
    }
   ],
   "source": [
    "show_html(pd.DataFrame(gboost.cv_results_).loc[:,['params', 'mean_test_score','rank_test_score']].sort_values(by='rank_test_score').head().to_html())"
   ]
  },
  {
   "cell_type": "code",
   "execution_count": null,
   "metadata": {},
   "outputs": [],
   "source": [
    "# from sklearn.ensemble import GradientBoostingClassifier\n",
    "\n",
    "# param = {'n_estimators': [5,10,25,40, 50, 75,100, 200], \n",
    "#          'loss':['log_loss', 'exponential'], \n",
    "#          'criterion':['friedman_mse', 'squared_error'], \n",
    "#          'max_depth':[None, 1, 2, 3,  5,  8, 9,10,15],\n",
    "#          'min_samples_leaf':[1,2,3,5,10], \n",
    "#          'learning_rate':[0.1,0.5, 1,3, 5, 10, 15]}\n",
    "\n",
    "# gboost = BayesSearchCV(GradientBoostingClassifier(random_state=0, n_iter_no_change=5), \n",
    "#                         param, \n",
    "#                         n_iter=niter, \n",
    "#                         n_jobs=-1, \n",
    "#                         refit=True, \n",
    "#                         random_state=0).fit(x_train, y_train)\n",
    "# y_test_predicted_gboost = gboost.predict(x_test)\n",
    "# r2_gboost_train = np.mean(cross_val_score(gboost, x_train, y_train))\n",
    "# r2_gboost_test = np.mean(cross_val_score(gboost, x_test, y_test))\n",
    "\n",
    "# print(f'Train R2 score: {r2_gboost_train}')\n",
    "# print(f'Test R2 score: {r2_gboost_test}')"
   ]
  },
  {
   "cell_type": "code",
   "execution_count": 42,
   "metadata": {},
   "outputs": [
    {
     "name": "stdout",
     "output_type": "stream",
     "text": [
      "              precision    recall  f1-score   support\n",
      "\n",
      "    Pre-2000       0.84      0.74      0.78       409\n",
      "   Post-2000       0.55      0.69      0.61       190\n",
      "\n",
      "    accuracy                           0.72       599\n",
      "   macro avg       0.69      0.72      0.70       599\n",
      "weighted avg       0.75      0.72      0.73       599\n",
      "\n"
     ]
    }
   ],
   "source": [
    "print(classification_report(gboost.predict(x_test), y_test, target_names=clss))\n",
    "results_df = save_results(gboost, x_test, y_test, 'Gradient Boosting', results_df)"
   ]
  },
  {
   "cell_type": "code",
   "execution_count": 43,
   "metadata": {},
   "outputs": [
    {
     "data": {
      "image/png": "[encoded data removed]",
      "text/plain": [
       "<Figure size 800x800 with 2 Axes>"
      ]
     },
     "metadata": {},
     "output_type": "display_data"
    }
   ],
   "source": [
    "plt.figure(figsize=(8,8));\n",
    "ConfusionMatrixDisplay.from_estimator(gboost, x_test, y_test, display_labels=clss, ax=plt.subplot());"
   ]
  },
  {
   "cell_type": "markdown",
   "metadata": {},
   "source": [
    "### MLP"
   ]
  },
  {
   "cell_type": "code",
   "execution_count": 44,
   "metadata": {},
   "outputs": [],
   "source": [
    "from sklearn.neural_network import MLPClassifier"
   ]
  },
  {
   "cell_type": "code",
   "execution_count": 45,
   "metadata": {},
   "outputs": [],
   "source": [
    "param = {'hidden_layer_sizes':[10, 50, 100, 200], \n",
    "         'activation':['relu', 'logistic', 'identity'], \n",
    "         'learning_rate_init': [0.001, 0.01, 0.1]  }\n",
    "\n",
    "mlp =  BayesSearchCV(MLPClassifier(max_iter=10000, early_stopping=True, n_iter_no_change=20,learning_rate='adaptive',random_state=0), \n",
    "                     param, cv=cv, n_jobs=-1, refit=True, scoring='f1_weighted').fit(x_train, y_train)"
   ]
  },
  {
   "cell_type": "code",
   "execution_count": 46,
   "metadata": {},
   "outputs": [
    {
     "data": {
      "text/html": [
       "<table border=\"1\" class=\"dataframe\">\n",
       "  <thead>\n",
       "    <tr style=\"text-align: right;\">\n",
       "      <th></th>\n",
       "      <th>params</th>\n",
       "      <th>mean_test_score</th>\n",
       "      <th>rank_test_score</th>\n",
       "    </tr>\n",
       "  </thead>\n",
       "  <tbody>\n",
       "    <tr>\n",
       "      <th>15</th>\n",
       "      <td>{'activation': 'logistic', 'hidden_layer_sizes': 10, 'learning_rate_init': 0.1}</td>\n",
       "      <td>0.756882</td>\n",
       "      <td>1</td>\n",
       "    </tr>\n",
       "    <tr>\n",
       "      <th>29</th>\n",
       "      <td>{'activation': 'logistic', 'hidden_layer_sizes': 10, 'learning_rate_init': 0.1}</td>\n",
       "      <td>0.756882</td>\n",
       "      <td>1</td>\n",
       "    </tr>\n",
       "    <tr>\n",
       "      <th>28</th>\n",
       "      <td>{'activation': 'logistic', 'hidden_layer_sizes': 10, 'learning_rate_init': 0.1}</td>\n",
       "      <td>0.756882</td>\n",
       "      <td>1</td>\n",
       "    </tr>\n",
       "    <tr>\n",
       "      <th>31</th>\n",
       "      <td>{'activation': 'logistic', 'hidden_layer_sizes': 10, 'learning_rate_init': 0.1}</td>\n",
       "      <td>0.756882</td>\n",
       "      <td>1</td>\n",
       "    </tr>\n",
       "    <tr>\n",
       "      <th>48</th>\n",
       "      <td>{'activation': 'logistic', 'hidden_layer_sizes': 10, 'learning_rate_init': 0.1}</td>\n",
       "      <td>0.756882</td>\n",
       "      <td>1</td>\n",
       "    </tr>\n",
       "  </tbody>\n",
       "</table>"
      ],
      "text/plain": [
       "<IPython.core.display.HTML object>"
      ]
     },
     "metadata": {},
     "output_type": "display_data"
    }
   ],
   "source": [
    "show_html(pd.DataFrame(mlp.cv_results_).loc[:,['params', 'mean_test_score','rank_test_score']].sort_values(by='rank_test_score').head().to_html())"
   ]
  },
  {
   "cell_type": "code",
   "execution_count": 47,
   "metadata": {},
   "outputs": [
    {
     "name": "stdout",
     "output_type": "stream",
     "text": [
      "              precision    recall  f1-score   support\n",
      "\n",
      "    Pre-2000       0.80      0.80      0.80       359\n",
      "   Post-2000       0.70      0.70      0.70       240\n",
      "\n",
      "    accuracy                           0.76       599\n",
      "   macro avg       0.75      0.75      0.75       599\n",
      "weighted avg       0.76      0.76      0.76       599\n",
      "\n"
     ]
    }
   ],
   "source": [
    "print(classification_report(mlp.predict(x_test), y_test, target_names=clss))\n",
    "results_df = save_results(mlp, x_test, y_test, 'MLP', results_df)"
   ]
  },
  {
   "cell_type": "code",
   "execution_count": 48,
   "metadata": {},
   "outputs": [
    {
     "data": {
      "image/png": "[encoded data removed]",
      "text/plain": [
       "<Figure size 800x800 with 2 Axes>"
      ]
     },
     "metadata": {},
     "output_type": "display_data"
    }
   ],
   "source": [
    "plt.figure(figsize=(8,8));\n",
    "ConfusionMatrixDisplay.from_estimator(mlp, x_test, y_test, display_labels=clss, ax=plt.subplot());"
   ]
  },
  {
   "cell_type": "markdown",
   "metadata": {},
   "source": [
    "## Conclusions"
   ]
  },
  {
   "cell_type": "code",
   "execution_count": 64,
   "metadata": {},
   "outputs": [
    {
     "data": {
      "text/html": [
       "<div>\n",
       "<style scoped>\n",
       "    .dataframe tbody tr th:only-of-type {\n",
       "        vertical-align: middle;\n",
       "    }\n",
       "\n",
       "    .dataframe tbody tr th {\n",
       "        vertical-align: top;\n",
       "    }\n",
       "\n",
       "    .dataframe thead th {\n",
       "        text-align: right;\n",
       "    }\n",
       "</style>\n",
       "<table border=\"1\" class=\"dataframe\">\n",
       "  <thead>\n",
       "    <tr style=\"text-align: right;\">\n",
       "      <th></th>\n",
       "      <th>train XV acc</th>\n",
       "      <th>test acc</th>\n",
       "      <th>test f1 score (0)</th>\n",
       "      <th>test f1 score (1)</th>\n",
       "      <th>test f1 score (W)</th>\n",
       "    </tr>\n",
       "  </thead>\n",
       "  <tbody>\n",
       "    <tr>\n",
       "      <th>MLP</th>\n",
       "      <td>0.756882</td>\n",
       "      <td>0.759599</td>\n",
       "      <td>0.799443</td>\n",
       "      <td>0.700000</td>\n",
       "      <td>0.749721</td>\n",
       "    </tr>\n",
       "    <tr>\n",
       "      <th>SVM Polinomic</th>\n",
       "      <td>0.768006</td>\n",
       "      <td>0.762938</td>\n",
       "      <td>0.811671</td>\n",
       "      <td>0.680180</td>\n",
       "      <td>0.745926</td>\n",
       "    </tr>\n",
       "    <tr>\n",
       "      <th>SVM RBF</th>\n",
       "      <td>0.767354</td>\n",
       "      <td>0.759599</td>\n",
       "      <td>0.808000</td>\n",
       "      <td>0.678571</td>\n",
       "      <td>0.743286</td>\n",
       "    </tr>\n",
       "    <tr>\n",
       "      <th>SVM Lineal</th>\n",
       "      <td>0.747882</td>\n",
       "      <td>0.746244</td>\n",
       "      <td>0.794595</td>\n",
       "      <td>0.668122</td>\n",
       "      <td>0.731358</td>\n",
       "    </tr>\n",
       "    <tr>\n",
       "      <th>Random Forest</th>\n",
       "      <td>0.766068</td>\n",
       "      <td>0.751252</td>\n",
       "      <td>0.807245</td>\n",
       "      <td>0.649412</td>\n",
       "      <td>0.728328</td>\n",
       "    </tr>\n",
       "    <tr>\n",
       "      <th>Gradient Boosting</th>\n",
       "      <td>0.757650</td>\n",
       "      <td>0.722871</td>\n",
       "      <td>0.783854</td>\n",
       "      <td>0.613953</td>\n",
       "      <td>0.698904</td>\n",
       "    </tr>\n",
       "    <tr>\n",
       "      <th>GNB</th>\n",
       "      <td>NaN</td>\n",
       "      <td>0.694491</td>\n",
       "      <td>0.726457</td>\n",
       "      <td>0.654064</td>\n",
       "      <td>0.690261</td>\n",
       "    </tr>\n",
       "    <tr>\n",
       "      <th>QDA</th>\n",
       "      <td>0.718284</td>\n",
       "      <td>0.686144</td>\n",
       "      <td>0.702532</td>\n",
       "      <td>0.667845</td>\n",
       "      <td>0.685188</td>\n",
       "    </tr>\n",
       "    <tr>\n",
       "      <th>KNN</th>\n",
       "      <td>0.726731</td>\n",
       "      <td>0.704508</td>\n",
       "      <td>0.766798</td>\n",
       "      <td>0.596811</td>\n",
       "      <td>0.681805</td>\n",
       "    </tr>\n",
       "  </tbody>\n",
       "</table>\n",
       "</div>"
      ],
      "text/plain": [
       "                   train XV acc  test acc  test f1 score (0)  \\\n",
       "MLP                    0.756882  0.759599           0.799443   \n",
       "SVM Polinomic          0.768006  0.762938           0.811671   \n",
       "SVM RBF                0.767354  0.759599           0.808000   \n",
       "SVM Lineal             0.747882  0.746244           0.794595   \n",
       "Random Forest          0.766068  0.751252           0.807245   \n",
       "Gradient Boosting      0.757650  0.722871           0.783854   \n",
       "GNB                         NaN  0.694491           0.726457   \n",
       "QDA                    0.718284  0.686144           0.702532   \n",
       "KNN                    0.726731  0.704508           0.766798   \n",
       "\n",
       "                   test f1 score (1)  test f1 score (W)  \n",
       "MLP                         0.700000           0.749721  \n",
       "SVM Polinomic               0.680180           0.745926  \n",
       "SVM RBF                     0.678571           0.743286  \n",
       "SVM Lineal                  0.668122           0.731358  \n",
       "Random Forest               0.649412           0.728328  \n",
       "Gradient Boosting           0.613953           0.698904  \n",
       "GNB                         0.654064           0.690261  \n",
       "QDA                         0.667845           0.685188  \n",
       "KNN                         0.596811           0.681805  "
      ]
     },
     "execution_count": 64,
     "metadata": {},
     "output_type": "execute_result"
    }
   ],
   "source": [
    "results_sorted = results_df.sort_values(by=['test f1 score (W)'], ascending=False)\n",
    "results_sorted"
   ]
  },
  {
   "cell_type": "code",
   "execution_count": 65,
   "metadata": {},
   "outputs": [
    {
     "data": {
      "image/png": "[encoded data removed]",
      "text/plain": [
       "<Figure size 1000x600 with 1 Axes>"
      ]
     },
     "metadata": {},
     "output_type": "display_data"
    }
   ],
   "source": [
    "plt.figure(figsize=(10, 6))\n",
    "results_sorted['test f1 score (W)'].plot(kind='bar', color='skyblue')\n",
    "plt.title('F1-Scores dels Models')\n",
    "plt.xlabel('Model')\n",
    "plt.ylabel('F1 Score')\n",
    "plt.ylim(0.0, 1.0)\n",
    "plt.xticks(rotation=45, ha='right')\n",
    "plt.show()"
   ]
  },
  {
   "cell_type": "markdown",
   "metadata": {},
   "source": [
    "## Neural network tensorFlow"
   ]
  },
  {
   "cell_type": "code",
   "execution_count": 66,
   "metadata": {},
   "outputs": [
    {
     "name": "stderr",
     "output_type": "stream",
     "text": [
      "2024-01-04 11:31:00.674500: I tensorflow/core/platform/cpu_feature_guard.cc:182] This TensorFlow binary is optimized to use available CPU instructions in performance-critical operations.\n",
      "To enable the following instructions: AVX2 AVX512F AVX512_VNNI FMA, in other operations, rebuild TensorFlow with the appropriate compiler flags.\n"
     ]
    }
   ],
   "source": [
    "import tensorflow as tf\n",
    "from tensorflow.keras.models import Sequential\n",
    "from tensorflow.keras.layers import Dense, Dropout\n",
    "from sklearn.model_selection import train_test_split\n",
    "from sklearn.preprocessing import StandardScaler\n",
    "from sklearn.metrics import f1_score\n"
   ]
  },
  {
   "cell_type": "code",
   "execution_count": 74,
   "metadata": {},
   "outputs": [
    {
     "ename": "AttributeError",
     "evalue": "module 'keras.api._v2.keras.metrics' has no attribute 'BinaryF1Score'",
     "output_type": "error",
     "traceback": [
      "\u001b[0;31m---------------------------------------------------------------------------\u001b[0m",
      "\u001b[0;31mAttributeError\u001b[0m                            Traceback (most recent call last)",
      "Cell \u001b[0;32mIn[74], line 10\u001b[0m\n\u001b[1;32m      7\u001b[0m model\u001b[38;5;241m.\u001b[39madd(Dense(\u001b[38;5;241m1\u001b[39m, activation\u001b[38;5;241m=\u001b[39m\u001b[38;5;124m'\u001b[39m\u001b[38;5;124msigmoid\u001b[39m\u001b[38;5;124m'\u001b[39m))\n\u001b[1;32m      9\u001b[0m \u001b[38;5;66;03m# Compile the model\u001b[39;00m\n\u001b[0;32m---> 10\u001b[0m model\u001b[38;5;241m.\u001b[39mcompile(optimizer\u001b[38;5;241m=\u001b[39m\u001b[38;5;124m'\u001b[39m\u001b[38;5;124madam\u001b[39m\u001b[38;5;124m'\u001b[39m, loss\u001b[38;5;241m=\u001b[39m\u001b[38;5;124m'\u001b[39m\u001b[38;5;124mbinary_crossentropy\u001b[39m\u001b[38;5;124m'\u001b[39m, metrics\u001b[38;5;241m=\u001b[39m[\u001b[43mtf\u001b[49m\u001b[38;5;241;43m.\u001b[39;49m\u001b[43mkeras\u001b[49m\u001b[38;5;241;43m.\u001b[39;49m\u001b[43mmetrics\u001b[49m\u001b[38;5;241;43m.\u001b[39;49m\u001b[43mBinaryF1Score\u001b[49m()])\n\u001b[1;32m     12\u001b[0m \u001b[38;5;66;03m# Train the model\u001b[39;00m\n\u001b[1;32m     13\u001b[0m model\u001b[38;5;241m.\u001b[39mfit(x_train, y_train, epochs\u001b[38;5;241m=\u001b[39m\u001b[38;5;241m20\u001b[39m, batch_size\u001b[38;5;241m=\u001b[39m\u001b[38;5;241m64\u001b[39m, validation_split\u001b[38;5;241m=\u001b[39m\u001b[38;5;241m0.2\u001b[39m)\n",
      "\u001b[0;31mAttributeError\u001b[0m: module 'keras.api._v2.keras.metrics' has no attribute 'BinaryF1Score'"
     ]
    }
   ],
   "source": [
    "\n",
    "# Define the neural network architecture\n",
    "model = Sequential()\n",
    "model.add(Dense(64, activation='relu', input_shape=(x_train.shape[1],)))\n",
    "model.add(Dropout(0.5))\n",
    "model.add(Dense(32, activation='relu'))\n",
    "model.add(Dropout(0.5))\n",
    "model.add(Dense(1, activation='sigmoid'))\n",
    "\n",
    "# Compile the model\n",
    "model.compile(optimizer='adam', loss='binary_crossentropy', metrics=[tf.keras.metrics.BinaryF1Score()])\n",
    "\n",
    "# Train the model\n",
    "model.fit(x_train, y_train, epochs=20, batch_size=64, validation_split=0.2)\n",
    "\n",
    "# Make predictions on the test set\n",
    "y_pred_prob = model.predict(x_test)\n",
    "y_pred = (y_pred_prob > 0.5).astype(int)\n",
    "\n",
    "# Evaluate the model\n",
    "accuracy = f1_score(y_test, y_pred)\n",
    "print(f'Test f1-score: {accuracy:.4f}')"
   ]
  },
  {
   "cell_type": "code",
   "execution_count": null,
   "metadata": {},
   "outputs": [],
   "source": []
  }
 ],
 "metadata": {
  "kernelspec": {
   "display_name": "Python 3",
   "language": "python",
   "name": "python3"
  },
  "language_info": {
   "codemirror_mode": {
    "name": "ipython",
    "version": 3
   },
   "file_extension": ".py",
   "mimetype": "text/x-python",
   "name": "python",
   "nbconvert_exporter": "python",
   "pygments_lexer": "ipython3",
   "version": "3.11.5"
  }
 },
 "nbformat": 4,
 "nbformat_minor": 2
}
