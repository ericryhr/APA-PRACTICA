{
 "cells": [
  {
   "cell_type": "markdown",
   "metadata": {},
   "source": [
    "# Classificació"
   ]
  },
  {
   "cell_type": "markdown",
   "metadata": {},
   "source": [
    "### Libraries and loading data"
   ]
  },
  {
   "cell_type": "code",
   "execution_count": 1,
   "metadata": {},
   "outputs": [],
   "source": [
    "import pandas as pd\n",
    "from sklearn.svm import SVC\n",
    "from skopt import BayesSearchCV\n",
    "import numpy as np\n",
    "np.int = int\n",
    "\n",
    "from IPython.display import display, HTML\n",
    "show_html = lambda html: display(HTML(html))\n",
    "\n",
    "from sklearn.metrics import  ConfusionMatrixDisplay, classification_report\n",
    "\n",
    "import warnings\n",
    "warnings.filterwarnings(\"ignore\")"
   ]
  },
  {
   "cell_type": "code",
   "execution_count": 2,
   "metadata": {},
   "outputs": [],
   "source": [
    "df_train = pd.read_csv('../datasets/data_train_class7.csv')\n",
    "df_test = pd.read_csv('../datasets/data_test_class7.csv')"
   ]
  },
  {
   "cell_type": "code",
   "execution_count": 3,
   "metadata": {},
   "outputs": [
    {
     "data": {
      "text/html": [
       "<div>\n",
       "<style scoped>\n",
       "    .dataframe tbody tr th:only-of-type {\n",
       "        vertical-align: middle;\n",
       "    }\n",
       "\n",
       "    .dataframe tbody tr th {\n",
       "        vertical-align: top;\n",
       "    }\n",
       "\n",
       "    .dataframe thead th {\n",
       "        text-align: right;\n",
       "    }\n",
       "</style>\n",
       "<table border=\"1\" class=\"dataframe\">\n",
       "  <thead>\n",
       "    <tr style=\"text-align: right;\">\n",
       "      <th></th>\n",
       "      <th>BPM</th>\n",
       "      <th>Energy</th>\n",
       "      <th>Danceability</th>\n",
       "      <th>Loudness</th>\n",
       "      <th>Liveness</th>\n",
       "      <th>Valence</th>\n",
       "      <th>Length</th>\n",
       "      <th>Acousticness</th>\n",
       "      <th>Speechiness</th>\n",
       "      <th>Popularity</th>\n",
       "      <th>is_recent</th>\n",
       "      <th>genre_0</th>\n",
       "      <th>genre_1</th>\n",
       "      <th>genre_2</th>\n",
       "      <th>genre_3</th>\n",
       "      <th>genre_4</th>\n",
       "      <th>genre_5</th>\n",
       "      <th>genre_6</th>\n",
       "    </tr>\n",
       "  </thead>\n",
       "  <tbody>\n",
       "    <tr>\n",
       "      <th>0</th>\n",
       "      <td>123</td>\n",
       "      <td>73</td>\n",
       "      <td>48</td>\n",
       "      <td>-8</td>\n",
       "      <td>11</td>\n",
       "      <td>87</td>\n",
       "      <td>140</td>\n",
       "      <td>57</td>\n",
       "      <td>17</td>\n",
       "      <td>65</td>\n",
       "      <td>1</td>\n",
       "      <td>0</td>\n",
       "      <td>0</td>\n",
       "      <td>0</td>\n",
       "      <td>0</td>\n",
       "      <td>1</td>\n",
       "      <td>0</td>\n",
       "      <td>0</td>\n",
       "    </tr>\n",
       "    <tr>\n",
       "      <th>1</th>\n",
       "      <td>99</td>\n",
       "      <td>21</td>\n",
       "      <td>34</td>\n",
       "      <td>-17</td>\n",
       "      <td>18</td>\n",
       "      <td>29</td>\n",
       "      <td>218</td>\n",
       "      <td>40</td>\n",
       "      <td>3</td>\n",
       "      <td>70</td>\n",
       "      <td>0</td>\n",
       "      <td>0</td>\n",
       "      <td>0</td>\n",
       "      <td>0</td>\n",
       "      <td>0</td>\n",
       "      <td>1</td>\n",
       "      <td>0</td>\n",
       "      <td>0</td>\n",
       "    </tr>\n",
       "    <tr>\n",
       "      <th>2</th>\n",
       "      <td>71</td>\n",
       "      <td>58</td>\n",
       "      <td>39</td>\n",
       "      <td>-7</td>\n",
       "      <td>22</td>\n",
       "      <td>38</td>\n",
       "      <td>295</td>\n",
       "      <td>47</td>\n",
       "      <td>3</td>\n",
       "      <td>63</td>\n",
       "      <td>0</td>\n",
       "      <td>1</td>\n",
       "      <td>0</td>\n",
       "      <td>0</td>\n",
       "      <td>0</td>\n",
       "      <td>0</td>\n",
       "      <td>0</td>\n",
       "      <td>0</td>\n",
       "    </tr>\n",
       "    <tr>\n",
       "      <th>3</th>\n",
       "      <td>135</td>\n",
       "      <td>23</td>\n",
       "      <td>40</td>\n",
       "      <td>-9</td>\n",
       "      <td>11</td>\n",
       "      <td>28</td>\n",
       "      <td>222</td>\n",
       "      <td>89</td>\n",
       "      <td>4</td>\n",
       "      <td>61</td>\n",
       "      <td>1</td>\n",
       "      <td>0</td>\n",
       "      <td>0</td>\n",
       "      <td>0</td>\n",
       "      <td>1</td>\n",
       "      <td>0</td>\n",
       "      <td>0</td>\n",
       "      <td>0</td>\n",
       "    </tr>\n",
       "    <tr>\n",
       "      <th>4</th>\n",
       "      <td>159</td>\n",
       "      <td>16</td>\n",
       "      <td>41</td>\n",
       "      <td>-22</td>\n",
       "      <td>12</td>\n",
       "      <td>42</td>\n",
       "      <td>199</td>\n",
       "      <td>88</td>\n",
       "      <td>3</td>\n",
       "      <td>77</td>\n",
       "      <td>0</td>\n",
       "      <td>0</td>\n",
       "      <td>1</td>\n",
       "      <td>0</td>\n",
       "      <td>0</td>\n",
       "      <td>0</td>\n",
       "      <td>0</td>\n",
       "      <td>0</td>\n",
       "    </tr>\n",
       "  </tbody>\n",
       "</table>\n",
       "</div>"
      ],
      "text/plain": [
       "   BPM  Energy  Danceability  Loudness  Liveness  Valence  Length  \\\n",
       "0  123      73            48        -8        11       87     140   \n",
       "1   99      21            34       -17        18       29     218   \n",
       "2   71      58            39        -7        22       38     295   \n",
       "3  135      23            40        -9        11       28     222   \n",
       "4  159      16            41       -22        12       42     199   \n",
       "\n",
       "   Acousticness  Speechiness  Popularity  is_recent  genre_0  genre_1  \\\n",
       "0            57           17          65          1        0        0   \n",
       "1            40            3          70          0        0        0   \n",
       "2            47            3          63          0        1        0   \n",
       "3            89            4          61          1        0        0   \n",
       "4            88            3          77          0        0        1   \n",
       "\n",
       "   genre_2  genre_3  genre_4  genre_5  genre_6  \n",
       "0        0        0        1        0        0  \n",
       "1        0        0        1        0        0  \n",
       "2        0        0        0        0        0  \n",
       "3        0        1        0        0        0  \n",
       "4        0        0        0        0        0  "
      ]
     },
     "execution_count": 3,
     "metadata": {},
     "output_type": "execute_result"
    }
   ],
   "source": [
    "df_train.head()"
   ]
  },
  {
   "cell_type": "code",
   "execution_count": 4,
   "metadata": {},
   "outputs": [],
   "source": [
    "x_train = df_train.drop(columns=['is_recent'])\n",
    "y_train = df_train['is_recent']\n",
    "\n",
    "x_test = df_test.drop(columns=['is_recent'])\n",
    "y_test = df_test['is_recent']\n",
    "\n",
    "clss = ['Pre-2000', 'Post-2000']"
   ]
  },
  {
   "cell_type": "code",
   "execution_count": 5,
   "metadata": {},
   "outputs": [
    {
     "data": {
      "text/html": [
       "<div>\n",
       "<style scoped>\n",
       "    .dataframe tbody tr th:only-of-type {\n",
       "        vertical-align: middle;\n",
       "    }\n",
       "\n",
       "    .dataframe tbody tr th {\n",
       "        vertical-align: top;\n",
       "    }\n",
       "\n",
       "    .dataframe thead th {\n",
       "        text-align: right;\n",
       "    }\n",
       "</style>\n",
       "<table border=\"1\" class=\"dataframe\">\n",
       "  <thead>\n",
       "    <tr style=\"text-align: right;\">\n",
       "      <th></th>\n",
       "      <th>count</th>\n",
       "      <th>mean</th>\n",
       "      <th>std</th>\n",
       "      <th>min</th>\n",
       "      <th>25%</th>\n",
       "      <th>50%</th>\n",
       "      <th>75%</th>\n",
       "      <th>max</th>\n",
       "    </tr>\n",
       "  </thead>\n",
       "  <tbody>\n",
       "    <tr>\n",
       "      <th>0</th>\n",
       "      <td>1395.0</td>\n",
       "      <td>0.456174</td>\n",
       "      <td>0.179555</td>\n",
       "      <td>0.0</td>\n",
       "      <td>0.318471</td>\n",
       "      <td>0.452229</td>\n",
       "      <td>0.557325</td>\n",
       "      <td>1.0</td>\n",
       "    </tr>\n",
       "    <tr>\n",
       "      <th>1</th>\n",
       "      <td>1395.0</td>\n",
       "      <td>0.583587</td>\n",
       "      <td>0.229908</td>\n",
       "      <td>0.0</td>\n",
       "      <td>0.401042</td>\n",
       "      <td>0.604167</td>\n",
       "      <td>0.770833</td>\n",
       "      <td>1.0</td>\n",
       "    </tr>\n",
       "    <tr>\n",
       "      <th>2</th>\n",
       "      <td>1395.0</td>\n",
       "      <td>0.500500</td>\n",
       "      <td>0.179877</td>\n",
       "      <td>0.0</td>\n",
       "      <td>0.383721</td>\n",
       "      <td>0.500000</td>\n",
       "      <td>0.627907</td>\n",
       "      <td>1.0</td>\n",
       "    </tr>\n",
       "    <tr>\n",
       "      <th>3</th>\n",
       "      <td>1395.0</td>\n",
       "      <td>0.723097</td>\n",
       "      <td>0.145117</td>\n",
       "      <td>0.0</td>\n",
       "      <td>0.640000</td>\n",
       "      <td>0.760000</td>\n",
       "      <td>0.840000</td>\n",
       "      <td>1.0</td>\n",
       "    </tr>\n",
       "    <tr>\n",
       "      <th>4</th>\n",
       "      <td>1395.0</td>\n",
       "      <td>0.175110</td>\n",
       "      <td>0.169782</td>\n",
       "      <td>0.0</td>\n",
       "      <td>0.072165</td>\n",
       "      <td>0.103093</td>\n",
       "      <td>0.216495</td>\n",
       "      <td>1.0</td>\n",
       "    </tr>\n",
       "    <tr>\n",
       "      <th>5</th>\n",
       "      <td>1395.0</td>\n",
       "      <td>0.480615</td>\n",
       "      <td>0.258486</td>\n",
       "      <td>0.0</td>\n",
       "      <td>0.270833</td>\n",
       "      <td>0.458333</td>\n",
       "      <td>0.677083</td>\n",
       "      <td>1.0</td>\n",
       "    </tr>\n",
       "    <tr>\n",
       "      <th>6</th>\n",
       "      <td>1395.0</td>\n",
       "      <td>0.131427</td>\n",
       "      <td>0.070653</td>\n",
       "      <td>0.0</td>\n",
       "      <td>0.093407</td>\n",
       "      <td>0.118524</td>\n",
       "      <td>0.152276</td>\n",
       "      <td>1.0</td>\n",
       "    </tr>\n",
       "    <tr>\n",
       "      <th>7</th>\n",
       "      <td>1395.0</td>\n",
       "      <td>0.298786</td>\n",
       "      <td>0.296839</td>\n",
       "      <td>0.0</td>\n",
       "      <td>0.030612</td>\n",
       "      <td>0.183673</td>\n",
       "      <td>0.520408</td>\n",
       "      <td>1.0</td>\n",
       "    </tr>\n",
       "    <tr>\n",
       "      <th>8</th>\n",
       "      <td>1395.0</td>\n",
       "      <td>0.057672</td>\n",
       "      <td>0.082810</td>\n",
       "      <td>0.0</td>\n",
       "      <td>0.018868</td>\n",
       "      <td>0.037736</td>\n",
       "      <td>0.056604</td>\n",
       "      <td>1.0</td>\n",
       "    </tr>\n",
       "    <tr>\n",
       "      <th>9</th>\n",
       "      <td>1395.0</td>\n",
       "      <td>0.542193</td>\n",
       "      <td>0.162211</td>\n",
       "      <td>0.0</td>\n",
       "      <td>0.426966</td>\n",
       "      <td>0.561798</td>\n",
       "      <td>0.674157</td>\n",
       "      <td>1.0</td>\n",
       "    </tr>\n",
       "    <tr>\n",
       "      <th>10</th>\n",
       "      <td>1395.0</td>\n",
       "      <td>0.091039</td>\n",
       "      <td>0.287768</td>\n",
       "      <td>0.0</td>\n",
       "      <td>0.000000</td>\n",
       "      <td>0.000000</td>\n",
       "      <td>0.000000</td>\n",
       "      <td>1.0</td>\n",
       "    </tr>\n",
       "    <tr>\n",
       "      <th>11</th>\n",
       "      <td>1395.0</td>\n",
       "      <td>0.369176</td>\n",
       "      <td>0.482755</td>\n",
       "      <td>0.0</td>\n",
       "      <td>0.000000</td>\n",
       "      <td>0.000000</td>\n",
       "      <td>1.000000</td>\n",
       "      <td>1.0</td>\n",
       "    </tr>\n",
       "    <tr>\n",
       "      <th>12</th>\n",
       "      <td>1395.0</td>\n",
       "      <td>0.176344</td>\n",
       "      <td>0.381249</td>\n",
       "      <td>0.0</td>\n",
       "      <td>0.000000</td>\n",
       "      <td>0.000000</td>\n",
       "      <td>0.000000</td>\n",
       "      <td>1.0</td>\n",
       "    </tr>\n",
       "    <tr>\n",
       "      <th>13</th>\n",
       "      <td>1395.0</td>\n",
       "      <td>0.090323</td>\n",
       "      <td>0.286746</td>\n",
       "      <td>0.0</td>\n",
       "      <td>0.000000</td>\n",
       "      <td>0.000000</td>\n",
       "      <td>0.000000</td>\n",
       "      <td>1.0</td>\n",
       "    </tr>\n",
       "    <tr>\n",
       "      <th>14</th>\n",
       "      <td>1395.0</td>\n",
       "      <td>0.063082</td>\n",
       "      <td>0.243198</td>\n",
       "      <td>0.0</td>\n",
       "      <td>0.000000</td>\n",
       "      <td>0.000000</td>\n",
       "      <td>0.000000</td>\n",
       "      <td>1.0</td>\n",
       "    </tr>\n",
       "    <tr>\n",
       "      <th>15</th>\n",
       "      <td>1395.0</td>\n",
       "      <td>0.170609</td>\n",
       "      <td>0.376302</td>\n",
       "      <td>0.0</td>\n",
       "      <td>0.000000</td>\n",
       "      <td>0.000000</td>\n",
       "      <td>0.000000</td>\n",
       "      <td>1.0</td>\n",
       "    </tr>\n",
       "    <tr>\n",
       "      <th>16</th>\n",
       "      <td>1395.0</td>\n",
       "      <td>0.039427</td>\n",
       "      <td>0.194677</td>\n",
       "      <td>0.0</td>\n",
       "      <td>0.000000</td>\n",
       "      <td>0.000000</td>\n",
       "      <td>0.000000</td>\n",
       "      <td>1.0</td>\n",
       "    </tr>\n",
       "  </tbody>\n",
       "</table>\n",
       "</div>"
      ],
      "text/plain": [
       "     count      mean       std  min       25%       50%       75%  max\n",
       "0   1395.0  0.456174  0.179555  0.0  0.318471  0.452229  0.557325  1.0\n",
       "1   1395.0  0.583587  0.229908  0.0  0.401042  0.604167  0.770833  1.0\n",
       "2   1395.0  0.500500  0.179877  0.0  0.383721  0.500000  0.627907  1.0\n",
       "3   1395.0  0.723097  0.145117  0.0  0.640000  0.760000  0.840000  1.0\n",
       "4   1395.0  0.175110  0.169782  0.0  0.072165  0.103093  0.216495  1.0\n",
       "5   1395.0  0.480615  0.258486  0.0  0.270833  0.458333  0.677083  1.0\n",
       "6   1395.0  0.131427  0.070653  0.0  0.093407  0.118524  0.152276  1.0\n",
       "7   1395.0  0.298786  0.296839  0.0  0.030612  0.183673  0.520408  1.0\n",
       "8   1395.0  0.057672  0.082810  0.0  0.018868  0.037736  0.056604  1.0\n",
       "9   1395.0  0.542193  0.162211  0.0  0.426966  0.561798  0.674157  1.0\n",
       "10  1395.0  0.091039  0.287768  0.0  0.000000  0.000000  0.000000  1.0\n",
       "11  1395.0  0.369176  0.482755  0.0  0.000000  0.000000  1.000000  1.0\n",
       "12  1395.0  0.176344  0.381249  0.0  0.000000  0.000000  0.000000  1.0\n",
       "13  1395.0  0.090323  0.286746  0.0  0.000000  0.000000  0.000000  1.0\n",
       "14  1395.0  0.063082  0.243198  0.0  0.000000  0.000000  0.000000  1.0\n",
       "15  1395.0  0.170609  0.376302  0.0  0.000000  0.000000  0.000000  1.0\n",
       "16  1395.0  0.039427  0.194677  0.0  0.000000  0.000000  0.000000  1.0"
      ]
     },
     "execution_count": 5,
     "metadata": {},
     "output_type": "execute_result"
    }
   ],
   "source": [
    "from sklearn.preprocessing import MinMaxScaler\n",
    "\n",
    "scaler = MinMaxScaler()\n",
    "x_train = pd.DataFrame(scaler.fit_transform(x_train))\n",
    "x_test = pd.DataFrame(scaler.transform(x_test))\n",
    "\n",
    "x_train.describe().T"
   ]
  },
  {
   "cell_type": "markdown",
   "metadata": {},
   "source": [
    "## Models"
   ]
  },
  {
   "cell_type": "code",
   "execution_count": 43,
   "metadata": {},
   "outputs": [],
   "source": [
    "from sklearn.metrics import f1_score, accuracy_score, roc_auc_score\n",
    "\n",
    "\n",
    "def save_results(clf, X_test, y_test, nclf, df):\n",
    "    if hasattr(clf, 'best_score_'):\n",
    "        df.loc[nclf,'train XV acc'] = clf.best_score_\n",
    "    else:\n",
    "        df.loc[nclf,'train XV acc'] = np.nan\n",
    "    df.loc[nclf,'test acc'] = accuracy_score(y_test, clf.predict(X_test))\n",
    "    df.loc[nclf,'test f1 score (0)'] = f1_score(y_test, clf.predict(X_test), pos_label=0)\n",
    "    df.loc[nclf,'test f1 score (1)'] = f1_score(y_test, clf.predict(X_test), pos_label=1)\n",
    "    df.loc[nclf,'test f1 score (W)'] = f1_score(y_test, clf.predict(X_test), average='macro')\n",
    "    # df.loc[nclf,'ROC AUC'] = roc_auc_score(y_test, clf.predict_proba(X_test)[:,1])\n",
    "    return df\n",
    "\n",
    "results_df = pd.DataFrame()"
   ]
  },
  {
   "cell_type": "markdown",
   "metadata": {},
   "source": [
    "### SVM"
   ]
  },
  {
   "cell_type": "code",
   "execution_count": 6,
   "metadata": {},
   "outputs": [
    {
     "name": "stdout",
     "output_type": "stream",
     "text": [
      "Train R2 score: 0.7455197132616489\n",
      "Test R2 score: 0.7444957983193277\n"
     ]
    }
   ],
   "source": [
    "from sklearn.model_selection import cross_val_score\n",
    "\n",
    "\n",
    "param = {'C': 10**np.linspace(-3, 3, 101)}\n",
    "niter = 15\n",
    "\n",
    "lsvm = BayesSearchCV(SVC(kernel='linear', random_state=0), \n",
    "                     param, \n",
    "                     n_iter=niter, \n",
    "                     n_jobs=-1, \n",
    "                     refit=True, \n",
    "                     random_state=0).fit(x_train, y_train)\n",
    "y_test_predicted_lsvm = lsvm.predict(x_test)\n",
    "r2_lsvm_train = np.mean(cross_val_score(lsvm, x_train, y_train))\n",
    "r2_lsvm_test = np.mean(cross_val_score(lsvm, x_test, y_test))\n",
    "\n",
    "print(f'Train R2 score: {r2_lsvm_train}')\n",
    "print(f'Test R2 score: {r2_lsvm_test}')"
   ]
  },
  {
   "cell_type": "code",
   "execution_count": 7,
   "metadata": {},
   "outputs": [
    {
     "data": {
      "text/html": [
       "<table border=\"1\" class=\"dataframe\">\n",
       "  <thead>\n",
       "    <tr style=\"text-align: right;\">\n",
       "      <th></th>\n",
       "      <th>params</th>\n",
       "      <th>mean_test_score</th>\n",
       "      <th>rank_test_score</th>\n",
       "    </tr>\n",
       "  </thead>\n",
       "  <tbody>\n",
       "    <tr>\n",
       "      <th>6</th>\n",
       "      <td>{'C': 660.6934480075951}</td>\n",
       "      <td>0.748387</td>\n",
       "      <td>1</td>\n",
       "    </tr>\n",
       "    <tr>\n",
       "      <th>5</th>\n",
       "      <td>{'C': 109.64781961431851}</td>\n",
       "      <td>0.747670</td>\n",
       "      <td>2</td>\n",
       "    </tr>\n",
       "    <tr>\n",
       "      <th>12</th>\n",
       "      <td>{'C': 54.954087385762485}</td>\n",
       "      <td>0.746953</td>\n",
       "      <td>3</td>\n",
       "    </tr>\n",
       "    <tr>\n",
       "      <th>13</th>\n",
       "      <td>{'C': 72.44359600749891}</td>\n",
       "      <td>0.746953</td>\n",
       "      <td>3</td>\n",
       "    </tr>\n",
       "    <tr>\n",
       "      <th>14</th>\n",
       "      <td>{'C': 15.848931924611142}</td>\n",
       "      <td>0.740502</td>\n",
       "      <td>5</td>\n",
       "    </tr>\n",
       "  </tbody>\n",
       "</table>"
      ],
      "text/plain": [
       "<IPython.core.display.HTML object>"
      ]
     },
     "metadata": {},
     "output_type": "display_data"
    }
   ],
   "source": [
    "show_html(pd.DataFrame(lsvm.cv_results_).loc[:,['params', 'mean_test_score','rank_test_score']].sort_values(by='rank_test_score').head().to_html())"
   ]
  },
  {
   "cell_type": "code",
   "execution_count": 44,
   "metadata": {},
   "outputs": [
    {
     "name": "stdout",
     "output_type": "stream",
     "text": [
      "              precision    recall  f1-score   support\n",
      "\n",
      "    Pre-2000       0.82      0.77      0.80       381\n",
      "   Post-2000       0.64      0.71      0.67       218\n",
      "\n",
      "    accuracy                           0.75       599\n",
      "   macro avg       0.73      0.74      0.73       599\n",
      "weighted avg       0.76      0.75      0.75       599\n",
      "\n"
     ]
    }
   ],
   "source": [
    "print(classification_report(lsvm.predict(x_test), y_test, target_names=clss))\n",
    "results_df = save_results(lsvm, x_test, y_test, 'SVM Lineal', results_df)"
   ]
  },
  {
   "cell_type": "code",
   "execution_count": 9,
   "metadata": {},
   "outputs": [
    {
     "data": {
      "image/png": "[encoded data removed]",
      "text/plain": [
       "<Figure size 800x800 with 2 Axes>"
      ]
     },
     "metadata": {},
     "output_type": "display_data"
    }
   ],
   "source": [
    "from matplotlib import pyplot as plt\n",
    "import seaborn as sns\n",
    "sns.set()\n",
    "\n",
    "\n",
    "plt.figure(figsize=(8,8));\n",
    "ConfusionMatrixDisplay.from_estimator(lsvm, x_test, y_test, display_labels=clss, ax=plt.subplot());"
   ]
  },
  {
   "cell_type": "markdown",
   "metadata": {},
   "source": [
    "### SVM Polinomial"
   ]
  },
  {
   "cell_type": "code",
   "execution_count": 45,
   "metadata": {},
   "outputs": [
    {
     "name": "stdout",
     "output_type": "stream",
     "text": [
      "Train R2 score: 0.7655913978494624\n",
      "Test R2 score: 0.7178571428571429\n"
     ]
    }
   ],
   "source": [
    "param = {'C': 10**np.linspace(-3, 3, 101),\n",
    "         'degree':[2,3]}\n",
    "\n",
    "qsvm = BayesSearchCV(SVC(kernel='poly', random_state=0), \n",
    "                     param, \n",
    "                     n_iter=niter, \n",
    "                     n_jobs=-1, \n",
    "                     refit=True, \n",
    "                     random_state=0).fit(x_train, y_train)\n",
    "y_test_predicted_qsvm = qsvm.predict(x_test)\n",
    "r2_qsvm_train = np.mean(cross_val_score(qsvm, x_train, y_train))\n",
    "r2_qsvm_test = np.mean(cross_val_score(qsvm, x_test, y_test))\n",
    "\n",
    "print(f'Train R2 score: {r2_qsvm_train}')\n",
    "print(f'Test R2 score: {r2_qsvm_test}')"
   ]
  },
  {
   "cell_type": "code",
   "execution_count": null,
   "metadata": {},
   "outputs": [
    {
     "data": {
      "text/html": [
       "<table border=\"1\" class=\"dataframe\">\n",
       "  <thead>\n",
       "    <tr style=\"text-align: right;\">\n",
       "      <th></th>\n",
       "      <th>params</th>\n",
       "      <th>mean_test_score</th>\n",
       "      <th>rank_test_score</th>\n",
       "    </tr>\n",
       "  </thead>\n",
       "  <tbody>\n",
       "    <tr>\n",
       "      <th>11</th>\n",
       "      <td>{'C': 5.248074602497723, 'degree': 3}</td>\n",
       "      <td>0.767742</td>\n",
       "      <td>1</td>\n",
       "    </tr>\n",
       "    <tr>\n",
       "      <th>7</th>\n",
       "      <td>{'C': 1.1481536214968828, 'degree': 3}</td>\n",
       "      <td>0.762007</td>\n",
       "      <td>2</td>\n",
       "    </tr>\n",
       "    <tr>\n",
       "      <th>0</th>\n",
       "      <td>{'C': 1.513561248436207, 'degree': 3}</td>\n",
       "      <td>0.761290</td>\n",
       "      <td>3</td>\n",
       "    </tr>\n",
       "    <tr>\n",
       "      <th>13</th>\n",
       "      <td>{'C': 6.918309709189363, 'degree': 2}</td>\n",
       "      <td>0.760573</td>\n",
       "      <td>4</td>\n",
       "    </tr>\n",
       "    <tr>\n",
       "      <th>14</th>\n",
       "      <td>{'C': 6.918309709189363, 'degree': 3}</td>\n",
       "      <td>0.759140</td>\n",
       "      <td>5</td>\n",
       "    </tr>\n",
       "  </tbody>\n",
       "</table>"
      ],
      "text/plain": [
       "<IPython.core.display.HTML object>"
      ]
     },
     "metadata": {},
     "output_type": "display_data"
    }
   ],
   "source": [
    "show_html(pd.DataFrame(qsvm.cv_results_).loc[:,['params', 'mean_test_score','rank_test_score']].sort_values(by='rank_test_score').head().to_html())"
   ]
  },
  {
   "cell_type": "code",
   "execution_count": 46,
   "metadata": {},
   "outputs": [
    {
     "name": "stdout",
     "output_type": "stream",
     "text": [
      "              precision    recall  f1-score   support\n",
      "\n",
      "    Pre-2000       0.84      0.77      0.80       394\n",
      "   Post-2000       0.62      0.73      0.67       205\n",
      "\n",
      "    accuracy                           0.75       599\n",
      "   macro avg       0.73      0.75      0.74       599\n",
      "weighted avg       0.77      0.75      0.76       599\n",
      "\n"
     ]
    }
   ],
   "source": [
    "print(classification_report(qsvm.predict(x_test), y_test, target_names=clss))\n",
    "results_df = save_results(qsvm, x_test, y_test, 'SVM Polinomic', results_df)"
   ]
  },
  {
   "cell_type": "code",
   "execution_count": 13,
   "metadata": {},
   "outputs": [
    {
     "data": {
      "image/png": "[encoded data removed]",
      "text/plain": [
       "<Figure size 800x800 with 2 Axes>"
      ]
     },
     "metadata": {},
     "output_type": "display_data"
    }
   ],
   "source": [
    "plt.figure(figsize=(8,8));\n",
    "ConfusionMatrixDisplay.from_estimator(qsvm, x_test, y_test, display_labels=clss, ax=plt.subplot());"
   ]
  },
  {
   "cell_type": "markdown",
   "metadata": {},
   "source": [
    "### SVM RBF"
   ]
  },
  {
   "cell_type": "code",
   "execution_count": 14,
   "metadata": {},
   "outputs": [
    {
     "name": "stdout",
     "output_type": "stream",
     "text": [
      "Train R2 score: 0.7655913978494623\n",
      "Test R2 score: 0.7495518207282913\n"
     ]
    }
   ],
   "source": [
    "param = {'C':10**np.linspace(-3,3,101), \n",
    "         'gamma':['scale','auto']}\n",
    "\n",
    "rbfsvm = BayesSearchCV(SVC(kernel='rbf', random_state=0), \n",
    "                     param, \n",
    "                     n_iter=niter, \n",
    "                     n_jobs=-1, \n",
    "                     refit=True, \n",
    "                     random_state=0).fit(x_train, y_train)\n",
    "y_test_predicted_rbfsvm = rbfsvm.predict(x_test)\n",
    "r2_rbfsvm_train = np.mean(cross_val_score(rbfsvm, x_train, y_train))\n",
    "r2_rbfsvm_test = np.mean(cross_val_score(rbfsvm, x_test, y_test))\n",
    "\n",
    "print(f'Train R2 score: {r2_rbfsvm_train}')\n",
    "print(f'Test R2 score: {r2_rbfsvm_test}')"
   ]
  },
  {
   "cell_type": "code",
   "execution_count": 15,
   "metadata": {},
   "outputs": [
    {
     "data": {
      "text/html": [
       "<table border=\"1\" class=\"dataframe\">\n",
       "  <thead>\n",
       "    <tr style=\"text-align: right;\">\n",
       "      <th></th>\n",
       "      <th>params</th>\n",
       "      <th>mean_test_score</th>\n",
       "      <th>rank_test_score</th>\n",
       "    </tr>\n",
       "  </thead>\n",
       "  <tbody>\n",
       "    <tr>\n",
       "      <th>10</th>\n",
       "      <td>{'C': 109.64781961431851, 'gamma': 'auto'}</td>\n",
       "      <td>0.765591</td>\n",
       "      <td>1</td>\n",
       "    </tr>\n",
       "    <tr>\n",
       "      <th>11</th>\n",
       "      <td>{'C': 109.64781961431851, 'gamma': 'auto'}</td>\n",
       "      <td>0.765591</td>\n",
       "      <td>1</td>\n",
       "    </tr>\n",
       "    <tr>\n",
       "      <th>12</th>\n",
       "      <td>{'C': 6.918309709189363, 'gamma': 'scale'}</td>\n",
       "      <td>0.758423</td>\n",
       "      <td>3</td>\n",
       "    </tr>\n",
       "    <tr>\n",
       "      <th>13</th>\n",
       "      <td>{'C': 6.918309709189363, 'gamma': 'auto'}</td>\n",
       "      <td>0.751971</td>\n",
       "      <td>4</td>\n",
       "    </tr>\n",
       "    <tr>\n",
       "      <th>5</th>\n",
       "      <td>{'C': 109.64781961431851, 'gamma': 'scale'}</td>\n",
       "      <td>0.751254</td>\n",
       "      <td>5</td>\n",
       "    </tr>\n",
       "  </tbody>\n",
       "</table>"
      ],
      "text/plain": [
       "<IPython.core.display.HTML object>"
      ]
     },
     "metadata": {},
     "output_type": "display_data"
    }
   ],
   "source": [
    "show_html(pd.DataFrame(rbfsvm.cv_results_).loc[:,['params', 'mean_test_score','rank_test_score']].sort_values(by='rank_test_score').head().to_html())"
   ]
  },
  {
   "cell_type": "code",
   "execution_count": 47,
   "metadata": {},
   "outputs": [
    {
     "name": "stdout",
     "output_type": "stream",
     "text": [
      "              precision    recall  f1-score   support\n",
      "\n",
      "    Pre-2000       0.84      0.77      0.81       391\n",
      "   Post-2000       0.63      0.73      0.68       208\n",
      "\n",
      "    accuracy                           0.76       599\n",
      "   macro avg       0.74      0.75      0.74       599\n",
      "weighted avg       0.77      0.76      0.76       599\n",
      "\n"
     ]
    }
   ],
   "source": [
    "print(classification_report(rbfsvm.predict(x_test), y_test, target_names=clss))\n",
    "results_df = save_results(rbfsvm, x_test, y_test, 'SVM RBF', results_df)"
   ]
  },
  {
   "cell_type": "code",
   "execution_count": 16,
   "metadata": {},
   "outputs": [
    {
     "data": {
      "image/png": "[encoded data removed]",
      "text/plain": [
       "<Figure size 800x800 with 2 Axes>"
      ]
     },
     "metadata": {},
     "output_type": "display_data"
    }
   ],
   "source": [
    "plt.figure(figsize=(8,8));\n",
    "ConfusionMatrixDisplay.from_estimator(rbfsvm, x_test, y_test, display_labels=clss, ax=plt.subplot());"
   ]
  },
  {
   "cell_type": "markdown",
   "metadata": {},
   "source": [
    "### KNN"
   ]
  },
  {
   "cell_type": "code",
   "execution_count": 18,
   "metadata": {},
   "outputs": [
    {
     "name": "stdout",
     "output_type": "stream",
     "text": [
      "Train R2 score: 0.7103942652329749\n",
      "Test R2 score: 0.6844677871148461\n"
     ]
    }
   ],
   "source": [
    "from sklearn.neighbors import KNeighborsClassifier\n",
    "\n",
    "\n",
    "param = {'n_neighbors':[1, 3, 5, 7, 11, 15], \n",
    "          'weights':['distance', 'uniform'], \n",
    "          'leaf_size':[1, 5, 10, 20, 30],\n",
    "          'metric': ['l2', 'l1', 'cosine']}\n",
    "\n",
    "knn = BayesSearchCV(KNeighborsClassifier(), \n",
    "                     param, \n",
    "                     n_iter=niter, \n",
    "                     n_jobs=-1, \n",
    "                     refit=True, \n",
    "                     random_state=0).fit(x_train, y_train)\n",
    "y_test_predicted_knn = knn.predict(x_test)\n",
    "r2_knn_train = np.mean(cross_val_score(knn, x_train, y_train))\n",
    "r2_knn_test = np.mean(cross_val_score(knn, x_test, y_test))\n",
    "\n",
    "print(f'Train R2 score: {r2_knn_train}')\n",
    "print(f'Test R2 score: {r2_knn_test}')"
   ]
  },
  {
   "cell_type": "code",
   "execution_count": 48,
   "metadata": {},
   "outputs": [
    {
     "data": {
      "text/html": [
       "<table border=\"1\" class=\"dataframe\">\n",
       "  <thead>\n",
       "    <tr style=\"text-align: right;\">\n",
       "      <th></th>\n",
       "      <th>params</th>\n",
       "      <th>mean_test_score</th>\n",
       "      <th>rank_test_score</th>\n",
       "    </tr>\n",
       "  </thead>\n",
       "  <tbody>\n",
       "    <tr>\n",
       "      <th>7</th>\n",
       "      <td>{'leaf_size': 10, 'metric': 'l1', 'n_neighbors': 11, 'weights': 'distance'}</td>\n",
       "      <td>0.723297</td>\n",
       "      <td>1</td>\n",
       "    </tr>\n",
       "    <tr>\n",
       "      <th>10</th>\n",
       "      <td>{'leaf_size': 5, 'metric': 'l1', 'n_neighbors': 11, 'weights': 'uniform'}</td>\n",
       "      <td>0.719713</td>\n",
       "      <td>2</td>\n",
       "    </tr>\n",
       "    <tr>\n",
       "      <th>13</th>\n",
       "      <td>{'leaf_size': 10, 'metric': 'l1', 'n_neighbors': 15, 'weights': 'distance'}</td>\n",
       "      <td>0.716129</td>\n",
       "      <td>3</td>\n",
       "    </tr>\n",
       "    <tr>\n",
       "      <th>5</th>\n",
       "      <td>{'leaf_size': 20, 'metric': 'l2', 'n_neighbors': 11, 'weights': 'distance'}</td>\n",
       "      <td>0.713262</td>\n",
       "      <td>4</td>\n",
       "    </tr>\n",
       "    <tr>\n",
       "      <th>14</th>\n",
       "      <td>{'leaf_size': 20, 'metric': 'l1', 'n_neighbors': 5, 'weights': 'distance'}</td>\n",
       "      <td>0.711828</td>\n",
       "      <td>5</td>\n",
       "    </tr>\n",
       "  </tbody>\n",
       "</table>"
      ],
      "text/plain": [
       "<IPython.core.display.HTML object>"
      ]
     },
     "metadata": {},
     "output_type": "display_data"
    }
   ],
   "source": [
    "show_html(pd.DataFrame(knn.cv_results_).loc[:,['params', 'mean_test_score','rank_test_score']].sort_values(by='rank_test_score').head().to_html())"
   ]
  },
  {
   "cell_type": "code",
   "execution_count": 49,
   "metadata": {},
   "outputs": [
    {
     "name": "stdout",
     "output_type": "stream",
     "text": [
      "              precision    recall  f1-score   support\n",
      "\n",
      "    Pre-2000       0.82      0.74      0.78       397\n",
      "   Post-2000       0.57      0.68      0.62       202\n",
      "\n",
      "    accuracy                           0.72       599\n",
      "   macro avg       0.69      0.71      0.70       599\n",
      "weighted avg       0.74      0.72      0.72       599\n",
      "\n"
     ]
    }
   ],
   "source": [
    "print(classification_report(knn.predict(x_test), y_test, target_names=clss))\n",
    "results_df = save_results(knn, x_test, y_test, 'KNN', results_df)"
   ]
  },
  {
   "cell_type": "code",
   "execution_count": 21,
   "metadata": {},
   "outputs": [
    {
     "data": {
      "image/png": "[encoded data removed]",
      "text/plain": [
       "<Figure size 800x800 with 2 Axes>"
      ]
     },
     "metadata": {},
     "output_type": "display_data"
    }
   ],
   "source": [
    "plt.figure(figsize=(8,8));\n",
    "ConfusionMatrixDisplay.from_estimator(knn, x_test, y_test, display_labels=clss, ax=plt.subplot());"
   ]
  },
  {
   "cell_type": "markdown",
   "metadata": {},
   "source": [
    "### Random Forest"
   ]
  },
  {
   "cell_type": "code",
   "execution_count": 32,
   "metadata": {},
   "outputs": [
    {
     "name": "stdout",
     "output_type": "stream",
     "text": [
      "Train R2 score: 0.7620071684587814\n",
      "Test R2 score: 0.717829131652661\n"
     ]
    }
   ],
   "source": [
    "from sklearn.ensemble import RandomForestClassifier\n",
    "\n",
    "\n",
    "param = {'n_estimators': [5,10,25,40, 50, 75,100, 200], \n",
    "         'criterion':['gini', 'entropy'], \n",
    "         'max_depth':[None, 1, 2, 3,  5,  8, 9,10,15],\n",
    "         'min_samples_leaf':[1,2,3,5,10]}\n",
    "\n",
    "rforest = BayesSearchCV(RandomForestClassifier(), param, n_iter=niter, n_jobs=-1, refit=True, random_state=0).fit(x_train, y_train)\n",
    "y_test_predicted_rforest = rforest.predict(x_test)\n",
    "r2_rforest_train = np.mean(cross_val_score(rforest, x_train, y_train))\n",
    "r2_rforest_test = np.mean(cross_val_score(rforest, x_test, y_test))\n",
    "\n",
    "print(f'Train R2 score: {r2_rforest_train}')\n",
    "print(f'Test R2 score: {r2_rforest_test}')"
   ]
  },
  {
   "cell_type": "code",
   "execution_count": 23,
   "metadata": {},
   "outputs": [
    {
     "data": {
      "text/html": [
       "<table border=\"1\" class=\"dataframe\">\n",
       "  <thead>\n",
       "    <tr style=\"text-align: right;\">\n",
       "      <th></th>\n",
       "      <th>params</th>\n",
       "      <th>mean_test_score</th>\n",
       "      <th>rank_test_score</th>\n",
       "    </tr>\n",
       "  </thead>\n",
       "  <tbody>\n",
       "    <tr>\n",
       "      <th>3</th>\n",
       "      <td>{'criterion': 'entropy', 'max_depth': 9, 'min_samples_leaf': 3, 'n_estimators': 40}</td>\n",
       "      <td>0.770609</td>\n",
       "      <td>1</td>\n",
       "    </tr>\n",
       "    <tr>\n",
       "      <th>11</th>\n",
       "      <td>{'criterion': 'gini', 'max_depth': 10, 'min_samples_leaf': 3, 'n_estimators': 40}</td>\n",
       "      <td>0.770609</td>\n",
       "      <td>1</td>\n",
       "    </tr>\n",
       "    <tr>\n",
       "      <th>8</th>\n",
       "      <td>{'criterion': 'entropy', 'max_depth': 10, 'min_samples_leaf': 5, 'n_estimators': 200}</td>\n",
       "      <td>0.769892</td>\n",
       "      <td>3</td>\n",
       "    </tr>\n",
       "    <tr>\n",
       "      <th>5</th>\n",
       "      <td>{'criterion': 'gini', 'max_depth': 15, 'min_samples_leaf': 5, 'n_estimators': 40}</td>\n",
       "      <td>0.767742</td>\n",
       "      <td>4</td>\n",
       "    </tr>\n",
       "    <tr>\n",
       "      <th>13</th>\n",
       "      <td>{'criterion': 'entropy', 'max_depth': None, 'min_samples_leaf': 5, 'n_estimators': 75}</td>\n",
       "      <td>0.763441</td>\n",
       "      <td>5</td>\n",
       "    </tr>\n",
       "  </tbody>\n",
       "</table>"
      ],
      "text/plain": [
       "<IPython.core.display.HTML object>"
      ]
     },
     "metadata": {},
     "output_type": "display_data"
    }
   ],
   "source": [
    "show_html(pd.DataFrame(rforest.cv_results_).loc[:,['params', 'mean_test_score','rank_test_score']].sort_values(by='rank_test_score').head().to_html())"
   ]
  },
  {
   "cell_type": "code",
   "execution_count": 50,
   "metadata": {},
   "outputs": [
    {
     "name": "stdout",
     "output_type": "stream",
     "text": [
      "              precision    recall  f1-score   support\n",
      "\n",
      "    Pre-2000       0.86      0.74      0.79       419\n",
      "   Post-2000       0.54      0.72      0.62       180\n",
      "\n",
      "    accuracy                           0.73       599\n",
      "   macro avg       0.70      0.73      0.71       599\n",
      "weighted avg       0.76      0.73      0.74       599\n",
      "\n"
     ]
    }
   ],
   "source": [
    "print(classification_report(rforest.predict(x_test), y_test, target_names=clss))\n",
    "results_df = save_results(rforest, x_test, y_test, 'Random Forest', results_df)"
   ]
  },
  {
   "cell_type": "code",
   "execution_count": 25,
   "metadata": {},
   "outputs": [
    {
     "data": {
      "image/png": "[encoded data removed]",
      "text/plain": [
       "<Figure size 800x800 with 2 Axes>"
      ]
     },
     "metadata": {},
     "output_type": "display_data"
    }
   ],
   "source": [
    "plt.figure(figsize=(8,8));\n",
    "ConfusionMatrixDisplay.from_estimator(rforest, x_test, y_test, display_labels=clss, ax=plt.subplot());"
   ]
  },
  {
   "cell_type": "markdown",
   "metadata": {},
   "source": [
    "### Gradient Boosting"
   ]
  },
  {
   "cell_type": "code",
   "execution_count": 27,
   "metadata": {},
   "outputs": [
    {
     "name": "stdout",
     "output_type": "stream",
     "text": [
      "Train R2 score: 0.7455197132616488\n",
      "Test R2 score: 0.7044957983193278\n"
     ]
    }
   ],
   "source": [
    "from sklearn.ensemble import GradientBoostingClassifier\n",
    "\n",
    "\n",
    "param = {'n_estimators': [5,10,25,40, 50, 75,100, 200], \n",
    "         'loss':['log_loss', 'exponential'], \n",
    "         'criterion':['friedman_mse', 'squared_error'], \n",
    "         'max_depth':[None, 1, 2, 3,  5,  8, 9,10,15],\n",
    "         'min_samples_leaf':[1,2,3,5,10], \n",
    "         'learning_rate':[0.1,0.5, 1,3, 5, 10, 15]}\n",
    "\n",
    "gboost = BayesSearchCV(GradientBoostingClassifier(random_state=0, n_iter_no_change=5), \n",
    "                        param, \n",
    "                        n_iter=niter, \n",
    "                        n_jobs=-1, \n",
    "                        refit=True, \n",
    "                        random_state=0).fit(x_train, y_train)\n",
    "y_test_predicted_gboost = gboost.predict(x_test)\n",
    "r2_gboost_train = np.mean(cross_val_score(gboost, x_train, y_train))\n",
    "r2_gboost_test = np.mean(cross_val_score(gboost, x_test, y_test))\n",
    "\n",
    "print(f'Train R2 score: {r2_gboost_train}')\n",
    "print(f'Test R2 score: {r2_gboost_test}')"
   ]
  },
  {
   "cell_type": "code",
   "execution_count": 28,
   "metadata": {},
   "outputs": [
    {
     "data": {
      "text/html": [
       "<table border=\"1\" class=\"dataframe\">\n",
       "  <thead>\n",
       "    <tr style=\"text-align: right;\">\n",
       "      <th></th>\n",
       "      <th>params</th>\n",
       "      <th>mean_test_score</th>\n",
       "      <th>rank_test_score</th>\n",
       "    </tr>\n",
       "  </thead>\n",
       "  <tbody>\n",
       "    <tr>\n",
       "      <th>4</th>\n",
       "      <td>{'criterion': 'friedman_mse', 'learning_rate': 0.5, 'loss': 'log_loss', 'max_depth': 2, 'min_samples_leaf': 2, 'n_estimators': 25}</td>\n",
       "      <td>0.748387</td>\n",
       "      <td>1</td>\n",
       "    </tr>\n",
       "    <tr>\n",
       "      <th>12</th>\n",
       "      <td>{'criterion': 'squared_error', 'learning_rate': 1.0, 'loss': 'exponential', 'max_depth': 15, 'min_samples_leaf': 2, 'n_estimators': 25}</td>\n",
       "      <td>0.734050</td>\n",
       "      <td>2</td>\n",
       "    </tr>\n",
       "    <tr>\n",
       "      <th>14</th>\n",
       "      <td>{'criterion': 'friedman_mse', 'learning_rate': 0.1, 'loss': 'exponential', 'max_depth': 8, 'min_samples_leaf': 2, 'n_estimators': 75}</td>\n",
       "      <td>0.730466</td>\n",
       "      <td>3</td>\n",
       "    </tr>\n",
       "    <tr>\n",
       "      <th>2</th>\n",
       "      <td>{'criterion': 'squared_error', 'learning_rate': 0.1, 'loss': 'exponential', 'max_depth': 2, 'min_samples_leaf': 2, 'n_estimators': 25}</td>\n",
       "      <td>0.730466</td>\n",
       "      <td>4</td>\n",
       "    </tr>\n",
       "    <tr>\n",
       "      <th>11</th>\n",
       "      <td>{'criterion': 'friedman_mse', 'learning_rate': 1.0, 'loss': 'log_loss', 'max_depth': 5, 'min_samples_leaf': 5, 'n_estimators': 10}</td>\n",
       "      <td>0.726165</td>\n",
       "      <td>5</td>\n",
       "    </tr>\n",
       "  </tbody>\n",
       "</table>"
      ],
      "text/plain": [
       "<IPython.core.display.HTML object>"
      ]
     },
     "metadata": {},
     "output_type": "display_data"
    }
   ],
   "source": [
    "show_html(pd.DataFrame(gboost.cv_results_).loc[:,['params', 'mean_test_score','rank_test_score']].sort_values(by='rank_test_score').head().to_html())"
   ]
  },
  {
   "cell_type": "code",
   "execution_count": 51,
   "metadata": {},
   "outputs": [
    {
     "name": "stdout",
     "output_type": "stream",
     "text": [
      "              precision    recall  f1-score   support\n",
      "\n",
      "    Pre-2000       0.84      0.74      0.78       409\n",
      "   Post-2000       0.55      0.69      0.61       190\n",
      "\n",
      "    accuracy                           0.72       599\n",
      "   macro avg       0.69      0.72      0.70       599\n",
      "weighted avg       0.75      0.72      0.73       599\n",
      "\n"
     ]
    }
   ],
   "source": [
    "print(classification_report(gboost.predict(x_test), y_test, target_names=clss))\n",
    "results_df = save_results(rforest, x_test, y_test, 'Gradient Boosting', results_df)"
   ]
  },
  {
   "cell_type": "code",
   "execution_count": 29,
   "metadata": {},
   "outputs": [
    {
     "data": {
      "image/png": "[encoded data removed]",
      "text/plain": [
       "<Figure size 800x800 with 2 Axes>"
      ]
     },
     "metadata": {},
     "output_type": "display_data"
    }
   ],
   "source": [
    "plt.figure(figsize=(8,8));\n",
    "ConfusionMatrixDisplay.from_estimator(gboost, x_test, y_test, display_labels=clss, ax=plt.subplot());"
   ]
  },
  {
   "cell_type": "markdown",
   "metadata": {},
   "source": [
    "## Conclusions"
   ]
  },
  {
   "cell_type": "code",
   "execution_count": 52,
   "metadata": {},
   "outputs": [
    {
     "data": {
      "text/html": [
       "<div>\n",
       "<style scoped>\n",
       "    .dataframe tbody tr th:only-of-type {\n",
       "        vertical-align: middle;\n",
       "    }\n",
       "\n",
       "    .dataframe tbody tr th {\n",
       "        vertical-align: top;\n",
       "    }\n",
       "\n",
       "    .dataframe thead th {\n",
       "        text-align: right;\n",
       "    }\n",
       "</style>\n",
       "<table border=\"1\" class=\"dataframe\">\n",
       "  <thead>\n",
       "    <tr style=\"text-align: right;\">\n",
       "      <th></th>\n",
       "      <th>train XV acc</th>\n",
       "      <th>test acc</th>\n",
       "      <th>test f1 score (0)</th>\n",
       "      <th>test f1 score (1)</th>\n",
       "      <th>test f1 score (W)</th>\n",
       "    </tr>\n",
       "  </thead>\n",
       "  <tbody>\n",
       "    <tr>\n",
       "      <th>SVM RBF</th>\n",
       "      <td>0.765591</td>\n",
       "      <td>0.759599</td>\n",
       "      <td>0.808000</td>\n",
       "      <td>0.678571</td>\n",
       "      <td>0.743286</td>\n",
       "    </tr>\n",
       "    <tr>\n",
       "      <th>SVM Polinomic</th>\n",
       "      <td>0.767742</td>\n",
       "      <td>0.754591</td>\n",
       "      <td>0.804781</td>\n",
       "      <td>0.669663</td>\n",
       "      <td>0.737222</td>\n",
       "    </tr>\n",
       "    <tr>\n",
       "      <th>SVM Lineal</th>\n",
       "      <td>0.748387</td>\n",
       "      <td>0.749583</td>\n",
       "      <td>0.797297</td>\n",
       "      <td>0.672489</td>\n",
       "      <td>0.734893</td>\n",
       "    </tr>\n",
       "    <tr>\n",
       "      <th>Random Forest</th>\n",
       "      <td>0.770609</td>\n",
       "      <td>0.732888</td>\n",
       "      <td>0.794344</td>\n",
       "      <td>0.619048</td>\n",
       "      <td>0.706696</td>\n",
       "    </tr>\n",
       "    <tr>\n",
       "      <th>Gradient Boosting</th>\n",
       "      <td>0.770609</td>\n",
       "      <td>0.732888</td>\n",
       "      <td>0.794344</td>\n",
       "      <td>0.619048</td>\n",
       "      <td>0.706696</td>\n",
       "    </tr>\n",
       "    <tr>\n",
       "      <th>KNN</th>\n",
       "      <td>0.723297</td>\n",
       "      <td>0.719533</td>\n",
       "      <td>0.777778</td>\n",
       "      <td>0.619910</td>\n",
       "      <td>0.698844</td>\n",
       "    </tr>\n",
       "  </tbody>\n",
       "</table>\n",
       "</div>"
      ],
      "text/plain": [
       "                   train XV acc  test acc  test f1 score (0)  \\\n",
       "SVM RBF                0.765591  0.759599           0.808000   \n",
       "SVM Polinomic          0.767742  0.754591           0.804781   \n",
       "SVM Lineal             0.748387  0.749583           0.797297   \n",
       "Random Forest          0.770609  0.732888           0.794344   \n",
       "Gradient Boosting      0.770609  0.732888           0.794344   \n",
       "KNN                    0.723297  0.719533           0.777778   \n",
       "\n",
       "                   test f1 score (1)  test f1 score (W)  \n",
       "SVM RBF                     0.678571           0.743286  \n",
       "SVM Polinomic               0.669663           0.737222  \n",
       "SVM Lineal                  0.672489           0.734893  \n",
       "Random Forest               0.619048           0.706696  \n",
       "Gradient Boosting           0.619048           0.706696  \n",
       "KNN                         0.619910           0.698844  "
      ]
     },
     "execution_count": 52,
     "metadata": {},
     "output_type": "execute_result"
    }
   ],
   "source": [
    "results_sorted = results_df.sort_values(by=['test f1 score (W)'], ascending=False)\n",
    "results_sorted"
   ]
  },
  {
   "cell_type": "code",
   "execution_count": 53,
   "metadata": {},
   "outputs": [
    {
     "data": {
      "image/png": "[encoded data removed]",
      "text/plain": [
       "<Figure size 1000x600 with 1 Axes>"
      ]
     },
     "metadata": {},
     "output_type": "display_data"
    }
   ],
   "source": [
    "plt.figure(figsize=(10, 6))\n",
    "results_sorted['test f1 score (W)'].plot(kind='bar', color='skyblue')\n",
    "plt.title('F1-Scores dels Models')\n",
    "plt.xlabel('Model')\n",
    "plt.ylabel('F1 Score')\n",
    "plt.ylim(0.0, 1.0)\n",
    "plt.xticks(rotation=45, ha='right')\n",
    "plt.show()"
   ]
  }
 ],
 "metadata": {
  "kernelspec": {
   "display_name": "Python 3",
   "language": "python",
   "name": "python3"
  },
  "language_info": {
   "codemirror_mode": {
    "name": "ipython",
    "version": 3
   },
   "file_extension": ".py",
   "mimetype": "text/x-python",
   "name": "python",
   "nbconvert_exporter": "python",
   "pygments_lexer": "ipython3",
   "version": "3.10.12"
  }
 },
 "nbformat": 4,
 "nbformat_minor": 2
}
