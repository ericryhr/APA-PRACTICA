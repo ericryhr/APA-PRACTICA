{
 "cells": [
  {
   "cell_type": "markdown",
   "metadata": {},
   "source": [
    "# Classificació"
   ]
  },
  {
   "cell_type": "markdown",
   "metadata": {},
   "source": [
    "### Libraries and loading data"
   ]
  },
  {
   "cell_type": "code",
   "execution_count": 92,
   "metadata": {},
   "outputs": [],
   "source": [
    "import pandas as pd\n",
    "from sklearn.svm import SVC\n",
    "from skopt import BayesSearchCV\n",
    "import numpy as np\n",
    "np.int = int\n",
    "\n",
    "from matplotlib import pyplot as plt\n",
    "import seaborn as sns\n",
    "sns.set()\n",
    "\n",
    "from IPython.display import display, HTML\n",
    "show_html = lambda html: display(HTML(html))\n",
    "\n",
    "from sklearn.metrics import  ConfusionMatrixDisplay, classification_report, RocCurveDisplay\n",
    "from sklearn.model_selection import cross_val_score\n",
    "from sklearn.inspection import permutation_importance\n",
    "from numpy.random import choice\n",
    "\n",
    "from yellowbrick.classifier.rocauc import roc_auc\n",
    "\n",
    "import warnings\n",
    "warnings.filterwarnings(\"ignore\")"
   ]
  },
  {
   "cell_type": "code",
   "execution_count": 93,
   "metadata": {},
   "outputs": [],
   "source": [
    "df_train = pd.read_csv('../datasets/data_train_class7.csv')\n",
    "df_test = pd.read_csv('../datasets/data_test_class7.csv')"
   ]
  },
  {
   "cell_type": "code",
   "execution_count": 94,
   "metadata": {},
   "outputs": [
    {
     "data": {
      "text/html": [
       "<div>\n",
       "<style scoped>\n",
       "    .dataframe tbody tr th:only-of-type {\n",
       "        vertical-align: middle;\n",
       "    }\n",
       "\n",
       "    .dataframe tbody tr th {\n",
       "        vertical-align: top;\n",
       "    }\n",
       "\n",
       "    .dataframe thead th {\n",
       "        text-align: right;\n",
       "    }\n",
       "</style>\n",
       "<table border=\"1\" class=\"dataframe\">\n",
       "  <thead>\n",
       "    <tr style=\"text-align: right;\">\n",
       "      <th></th>\n",
       "      <th>BPM</th>\n",
       "      <th>Energy</th>\n",
       "      <th>Danceability</th>\n",
       "      <th>Loudness</th>\n",
       "      <th>Liveness</th>\n",
       "      <th>Valence</th>\n",
       "      <th>Length</th>\n",
       "      <th>Acousticness</th>\n",
       "      <th>Speechiness</th>\n",
       "      <th>Popularity</th>\n",
       "      <th>is_recent</th>\n",
       "      <th>genre_0</th>\n",
       "      <th>genre_1</th>\n",
       "      <th>genre_2</th>\n",
       "      <th>genre_3</th>\n",
       "      <th>genre_4</th>\n",
       "      <th>genre_5</th>\n",
       "      <th>genre_6</th>\n",
       "    </tr>\n",
       "  </thead>\n",
       "  <tbody>\n",
       "    <tr>\n",
       "      <th>0</th>\n",
       "      <td>123</td>\n",
       "      <td>73</td>\n",
       "      <td>48</td>\n",
       "      <td>-8</td>\n",
       "      <td>11</td>\n",
       "      <td>87</td>\n",
       "      <td>140</td>\n",
       "      <td>57</td>\n",
       "      <td>17</td>\n",
       "      <td>65</td>\n",
       "      <td>1</td>\n",
       "      <td>0</td>\n",
       "      <td>0</td>\n",
       "      <td>0</td>\n",
       "      <td>0</td>\n",
       "      <td>1</td>\n",
       "      <td>0</td>\n",
       "      <td>0</td>\n",
       "    </tr>\n",
       "    <tr>\n",
       "      <th>1</th>\n",
       "      <td>99</td>\n",
       "      <td>21</td>\n",
       "      <td>34</td>\n",
       "      <td>-17</td>\n",
       "      <td>18</td>\n",
       "      <td>29</td>\n",
       "      <td>218</td>\n",
       "      <td>40</td>\n",
       "      <td>3</td>\n",
       "      <td>70</td>\n",
       "      <td>0</td>\n",
       "      <td>0</td>\n",
       "      <td>0</td>\n",
       "      <td>0</td>\n",
       "      <td>0</td>\n",
       "      <td>1</td>\n",
       "      <td>0</td>\n",
       "      <td>0</td>\n",
       "    </tr>\n",
       "    <tr>\n",
       "      <th>2</th>\n",
       "      <td>71</td>\n",
       "      <td>58</td>\n",
       "      <td>39</td>\n",
       "      <td>-7</td>\n",
       "      <td>22</td>\n",
       "      <td>38</td>\n",
       "      <td>295</td>\n",
       "      <td>47</td>\n",
       "      <td>3</td>\n",
       "      <td>63</td>\n",
       "      <td>0</td>\n",
       "      <td>1</td>\n",
       "      <td>0</td>\n",
       "      <td>0</td>\n",
       "      <td>0</td>\n",
       "      <td>0</td>\n",
       "      <td>0</td>\n",
       "      <td>0</td>\n",
       "    </tr>\n",
       "    <tr>\n",
       "      <th>3</th>\n",
       "      <td>135</td>\n",
       "      <td>23</td>\n",
       "      <td>40</td>\n",
       "      <td>-9</td>\n",
       "      <td>11</td>\n",
       "      <td>28</td>\n",
       "      <td>222</td>\n",
       "      <td>89</td>\n",
       "      <td>4</td>\n",
       "      <td>61</td>\n",
       "      <td>1</td>\n",
       "      <td>0</td>\n",
       "      <td>0</td>\n",
       "      <td>0</td>\n",
       "      <td>1</td>\n",
       "      <td>0</td>\n",
       "      <td>0</td>\n",
       "      <td>0</td>\n",
       "    </tr>\n",
       "    <tr>\n",
       "      <th>4</th>\n",
       "      <td>159</td>\n",
       "      <td>16</td>\n",
       "      <td>41</td>\n",
       "      <td>-22</td>\n",
       "      <td>12</td>\n",
       "      <td>42</td>\n",
       "      <td>199</td>\n",
       "      <td>88</td>\n",
       "      <td>3</td>\n",
       "      <td>77</td>\n",
       "      <td>0</td>\n",
       "      <td>0</td>\n",
       "      <td>1</td>\n",
       "      <td>0</td>\n",
       "      <td>0</td>\n",
       "      <td>0</td>\n",
       "      <td>0</td>\n",
       "      <td>0</td>\n",
       "    </tr>\n",
       "  </tbody>\n",
       "</table>\n",
       "</div>"
      ],
      "text/plain": [
       "   BPM  Energy  Danceability  Loudness  Liveness  Valence  Length  \\\n",
       "0  123      73            48        -8        11       87     140   \n",
       "1   99      21            34       -17        18       29     218   \n",
       "2   71      58            39        -7        22       38     295   \n",
       "3  135      23            40        -9        11       28     222   \n",
       "4  159      16            41       -22        12       42     199   \n",
       "\n",
       "   Acousticness  Speechiness  Popularity  is_recent  genre_0  genre_1  \\\n",
       "0            57           17          65          1        0        0   \n",
       "1            40            3          70          0        0        0   \n",
       "2            47            3          63          0        1        0   \n",
       "3            89            4          61          1        0        0   \n",
       "4            88            3          77          0        0        1   \n",
       "\n",
       "   genre_2  genre_3  genre_4  genre_5  genre_6  \n",
       "0        0        0        1        0        0  \n",
       "1        0        0        1        0        0  \n",
       "2        0        0        0        0        0  \n",
       "3        0        1        0        0        0  \n",
       "4        0        0        0        0        0  "
      ]
     },
     "execution_count": 94,
     "metadata": {},
     "output_type": "execute_result"
    }
   ],
   "source": [
    "df_train.head()"
   ]
  },
  {
   "cell_type": "code",
   "execution_count": 95,
   "metadata": {},
   "outputs": [],
   "source": [
    "x_train = df_train.drop(columns=['is_recent', 'Length'])\n",
    "y_train = df_train['is_recent']\n",
    "\n",
    "x_test = df_test.drop(columns=['is_recent', 'Length'])\n",
    "y_test = df_test['is_recent']\n",
    "\n",
    "clss = ['Pre-2000', 'Post-2000']"
   ]
  },
  {
   "cell_type": "code",
   "execution_count": 96,
   "metadata": {},
   "outputs": [
    {
     "data": {
      "text/html": [
       "<div>\n",
       "<style scoped>\n",
       "    .dataframe tbody tr th:only-of-type {\n",
       "        vertical-align: middle;\n",
       "    }\n",
       "\n",
       "    .dataframe tbody tr th {\n",
       "        vertical-align: top;\n",
       "    }\n",
       "\n",
       "    .dataframe thead th {\n",
       "        text-align: right;\n",
       "    }\n",
       "</style>\n",
       "<table border=\"1\" class=\"dataframe\">\n",
       "  <thead>\n",
       "    <tr style=\"text-align: right;\">\n",
       "      <th></th>\n",
       "      <th>count</th>\n",
       "      <th>mean</th>\n",
       "      <th>std</th>\n",
       "      <th>min</th>\n",
       "      <th>25%</th>\n",
       "      <th>50%</th>\n",
       "      <th>75%</th>\n",
       "      <th>max</th>\n",
       "    </tr>\n",
       "  </thead>\n",
       "  <tbody>\n",
       "    <tr>\n",
       "      <th>BPM</th>\n",
       "      <td>1395.0</td>\n",
       "      <td>0.456174</td>\n",
       "      <td>0.179555</td>\n",
       "      <td>0.0</td>\n",
       "      <td>0.318471</td>\n",
       "      <td>0.452229</td>\n",
       "      <td>0.557325</td>\n",
       "      <td>1.0</td>\n",
       "    </tr>\n",
       "    <tr>\n",
       "      <th>Energy</th>\n",
       "      <td>1395.0</td>\n",
       "      <td>0.583587</td>\n",
       "      <td>0.229908</td>\n",
       "      <td>0.0</td>\n",
       "      <td>0.401042</td>\n",
       "      <td>0.604167</td>\n",
       "      <td>0.770833</td>\n",
       "      <td>1.0</td>\n",
       "    </tr>\n",
       "    <tr>\n",
       "      <th>Danceability</th>\n",
       "      <td>1395.0</td>\n",
       "      <td>0.500500</td>\n",
       "      <td>0.179877</td>\n",
       "      <td>0.0</td>\n",
       "      <td>0.383721</td>\n",
       "      <td>0.500000</td>\n",
       "      <td>0.627907</td>\n",
       "      <td>1.0</td>\n",
       "    </tr>\n",
       "    <tr>\n",
       "      <th>Loudness</th>\n",
       "      <td>1395.0</td>\n",
       "      <td>0.723097</td>\n",
       "      <td>0.145117</td>\n",
       "      <td>0.0</td>\n",
       "      <td>0.640000</td>\n",
       "      <td>0.760000</td>\n",
       "      <td>0.840000</td>\n",
       "      <td>1.0</td>\n",
       "    </tr>\n",
       "    <tr>\n",
       "      <th>Liveness</th>\n",
       "      <td>1395.0</td>\n",
       "      <td>0.175110</td>\n",
       "      <td>0.169782</td>\n",
       "      <td>0.0</td>\n",
       "      <td>0.072165</td>\n",
       "      <td>0.103093</td>\n",
       "      <td>0.216495</td>\n",
       "      <td>1.0</td>\n",
       "    </tr>\n",
       "    <tr>\n",
       "      <th>Valence</th>\n",
       "      <td>1395.0</td>\n",
       "      <td>0.480615</td>\n",
       "      <td>0.258486</td>\n",
       "      <td>0.0</td>\n",
       "      <td>0.270833</td>\n",
       "      <td>0.458333</td>\n",
       "      <td>0.677083</td>\n",
       "      <td>1.0</td>\n",
       "    </tr>\n",
       "    <tr>\n",
       "      <th>Acousticness</th>\n",
       "      <td>1395.0</td>\n",
       "      <td>0.298786</td>\n",
       "      <td>0.296839</td>\n",
       "      <td>0.0</td>\n",
       "      <td>0.030612</td>\n",
       "      <td>0.183673</td>\n",
       "      <td>0.520408</td>\n",
       "      <td>1.0</td>\n",
       "    </tr>\n",
       "    <tr>\n",
       "      <th>Speechiness</th>\n",
       "      <td>1395.0</td>\n",
       "      <td>0.057672</td>\n",
       "      <td>0.082810</td>\n",
       "      <td>0.0</td>\n",
       "      <td>0.018868</td>\n",
       "      <td>0.037736</td>\n",
       "      <td>0.056604</td>\n",
       "      <td>1.0</td>\n",
       "    </tr>\n",
       "    <tr>\n",
       "      <th>Popularity</th>\n",
       "      <td>1395.0</td>\n",
       "      <td>0.542193</td>\n",
       "      <td>0.162211</td>\n",
       "      <td>0.0</td>\n",
       "      <td>0.426966</td>\n",
       "      <td>0.561798</td>\n",
       "      <td>0.674157</td>\n",
       "      <td>1.0</td>\n",
       "    </tr>\n",
       "    <tr>\n",
       "      <th>genre_0</th>\n",
       "      <td>1395.0</td>\n",
       "      <td>0.091039</td>\n",
       "      <td>0.287768</td>\n",
       "      <td>0.0</td>\n",
       "      <td>0.000000</td>\n",
       "      <td>0.000000</td>\n",
       "      <td>0.000000</td>\n",
       "      <td>1.0</td>\n",
       "    </tr>\n",
       "    <tr>\n",
       "      <th>genre_1</th>\n",
       "      <td>1395.0</td>\n",
       "      <td>0.369176</td>\n",
       "      <td>0.482755</td>\n",
       "      <td>0.0</td>\n",
       "      <td>0.000000</td>\n",
       "      <td>0.000000</td>\n",
       "      <td>1.000000</td>\n",
       "      <td>1.0</td>\n",
       "    </tr>\n",
       "    <tr>\n",
       "      <th>genre_2</th>\n",
       "      <td>1395.0</td>\n",
       "      <td>0.176344</td>\n",
       "      <td>0.381249</td>\n",
       "      <td>0.0</td>\n",
       "      <td>0.000000</td>\n",
       "      <td>0.000000</td>\n",
       "      <td>0.000000</td>\n",
       "      <td>1.0</td>\n",
       "    </tr>\n",
       "    <tr>\n",
       "      <th>genre_3</th>\n",
       "      <td>1395.0</td>\n",
       "      <td>0.090323</td>\n",
       "      <td>0.286746</td>\n",
       "      <td>0.0</td>\n",
       "      <td>0.000000</td>\n",
       "      <td>0.000000</td>\n",
       "      <td>0.000000</td>\n",
       "      <td>1.0</td>\n",
       "    </tr>\n",
       "    <tr>\n",
       "      <th>genre_4</th>\n",
       "      <td>1395.0</td>\n",
       "      <td>0.063082</td>\n",
       "      <td>0.243198</td>\n",
       "      <td>0.0</td>\n",
       "      <td>0.000000</td>\n",
       "      <td>0.000000</td>\n",
       "      <td>0.000000</td>\n",
       "      <td>1.0</td>\n",
       "    </tr>\n",
       "    <tr>\n",
       "      <th>genre_5</th>\n",
       "      <td>1395.0</td>\n",
       "      <td>0.170609</td>\n",
       "      <td>0.376302</td>\n",
       "      <td>0.0</td>\n",
       "      <td>0.000000</td>\n",
       "      <td>0.000000</td>\n",
       "      <td>0.000000</td>\n",
       "      <td>1.0</td>\n",
       "    </tr>\n",
       "    <tr>\n",
       "      <th>genre_6</th>\n",
       "      <td>1395.0</td>\n",
       "      <td>0.039427</td>\n",
       "      <td>0.194677</td>\n",
       "      <td>0.0</td>\n",
       "      <td>0.000000</td>\n",
       "      <td>0.000000</td>\n",
       "      <td>0.000000</td>\n",
       "      <td>1.0</td>\n",
       "    </tr>\n",
       "  </tbody>\n",
       "</table>\n",
       "</div>"
      ],
      "text/plain": [
       "               count      mean       std  min       25%       50%       75%  \\\n",
       "BPM           1395.0  0.456174  0.179555  0.0  0.318471  0.452229  0.557325   \n",
       "Energy        1395.0  0.583587  0.229908  0.0  0.401042  0.604167  0.770833   \n",
       "Danceability  1395.0  0.500500  0.179877  0.0  0.383721  0.500000  0.627907   \n",
       "Loudness      1395.0  0.723097  0.145117  0.0  0.640000  0.760000  0.840000   \n",
       "Liveness      1395.0  0.175110  0.169782  0.0  0.072165  0.103093  0.216495   \n",
       "Valence       1395.0  0.480615  0.258486  0.0  0.270833  0.458333  0.677083   \n",
       "Acousticness  1395.0  0.298786  0.296839  0.0  0.030612  0.183673  0.520408   \n",
       "Speechiness   1395.0  0.057672  0.082810  0.0  0.018868  0.037736  0.056604   \n",
       "Popularity    1395.0  0.542193  0.162211  0.0  0.426966  0.561798  0.674157   \n",
       "genre_0       1395.0  0.091039  0.287768  0.0  0.000000  0.000000  0.000000   \n",
       "genre_1       1395.0  0.369176  0.482755  0.0  0.000000  0.000000  1.000000   \n",
       "genre_2       1395.0  0.176344  0.381249  0.0  0.000000  0.000000  0.000000   \n",
       "genre_3       1395.0  0.090323  0.286746  0.0  0.000000  0.000000  0.000000   \n",
       "genre_4       1395.0  0.063082  0.243198  0.0  0.000000  0.000000  0.000000   \n",
       "genre_5       1395.0  0.170609  0.376302  0.0  0.000000  0.000000  0.000000   \n",
       "genre_6       1395.0  0.039427  0.194677  0.0  0.000000  0.000000  0.000000   \n",
       "\n",
       "              max  \n",
       "BPM           1.0  \n",
       "Energy        1.0  \n",
       "Danceability  1.0  \n",
       "Loudness      1.0  \n",
       "Liveness      1.0  \n",
       "Valence       1.0  \n",
       "Acousticness  1.0  \n",
       "Speechiness   1.0  \n",
       "Popularity    1.0  \n",
       "genre_0       1.0  \n",
       "genre_1       1.0  \n",
       "genre_2       1.0  \n",
       "genre_3       1.0  \n",
       "genre_4       1.0  \n",
       "genre_5       1.0  \n",
       "genre_6       1.0  "
      ]
     },
     "execution_count": 96,
     "metadata": {},
     "output_type": "execute_result"
    }
   ],
   "source": [
    "from sklearn.preprocessing import MinMaxScaler\n",
    "\n",
    "data_columns = x_train.columns\n",
    "scaler = MinMaxScaler()\n",
    "x_train_norm = pd.DataFrame(scaler.fit_transform(x_train))\n",
    "x_test_norm = pd.DataFrame(scaler.transform(x_test))\n",
    "x_train_norm.columns = x_test_norm.columns = data_columns\n",
    "\n",
    "x_train_norm.describe().T"
   ]
  },
  {
   "cell_type": "markdown",
   "metadata": {},
   "source": [
    "## Oversampling y Undersampling"
   ]
  },
  {
   "cell_type": "code",
   "execution_count": 97,
   "metadata": {},
   "outputs": [],
   "source": [
    "# print(\"ORIGINAL\")\n",
    "# print(\"Clase 0:\", sum(y_train == 0))\n",
    "# print(\"Clase 1:\", sum(y_train == 1))\n",
    "# rus = RandomUnderSampler(random_state=42)\n",
    "# x_train_norm, y_train = rus.fit_resample(x_train_norm, y_train)\n",
    "# print(\"OVERSAMPLING\")\n",
    "# print(\"Clase 0:\", sum(y_train == 0))\n",
    "# print(\"Clase 1:\", sum(y_train == 1))"
   ]
  },
  {
   "cell_type": "code",
   "execution_count": 98,
   "metadata": {},
   "outputs": [],
   "source": [
    "# print(\"ORIGINAL\")\n",
    "# print(\"Clase 0:\", sum(y_train == 0))\n",
    "# print(\"Clase 1:\", sum(y_train == 1))\n",
    "# rus = RandomOverSampler(random_state=42)\n",
    "# x_train_norm, y_train = rus.fit_resample(x_train_norm, y_train)\n",
    "# print(\"OVERSAMPLING\")\n",
    "# print(\"Clase 0:\", sum(y_train == 0))\n",
    "# print(\"Clase 1:\", sum(y_train == 1))"
   ]
  },
  {
   "cell_type": "markdown",
   "metadata": {},
   "source": [
    "## Models"
   ]
  },
  {
   "cell_type": "code",
   "execution_count": 99,
   "metadata": {},
   "outputs": [],
   "source": [
    "from sklearn.metrics import f1_score, accuracy_score, roc_auc_score\n",
    "\n",
    "\n",
    "def save_results(clf, X_test, y_test, nclf, df):\n",
    "    if hasattr(clf, 'best_score_'):\n",
    "        df.loc[nclf,'train XV acc'] = clf.best_score_\n",
    "    else:\n",
    "        df.loc[nclf,'train XV acc'] = np.nan\n",
    "    df.loc[nclf,'test acc'] = accuracy_score(y_test, clf.predict(X_test))\n",
    "    df.loc[nclf,'test f1 score (0)'] = f1_score(y_test, clf.predict(X_test), pos_label=0)\n",
    "    df.loc[nclf,'test f1 score (1)'] = f1_score(y_test, clf.predict(X_test), pos_label=1)\n",
    "    df.loc[nclf,'test f1 score (W)'] = f1_score(y_test, clf.predict(X_test), average='macro')\n",
    "    # df.loc[nclf,'ROC AUC'] = roc_auc_score(y_test, clf.predict_proba(X_test)[:,1])\n",
    "    return df\n",
    "\n",
    "results_df = pd.DataFrame()"
   ]
  },
  {
   "cell_type": "code",
   "execution_count": 100,
   "metadata": {},
   "outputs": [],
   "source": [
    "niter = 15\n",
    "cv = 10"
   ]
  },
  {
   "cell_type": "markdown",
   "metadata": {},
   "source": [
    "### Naive-Bayes"
   ]
  },
  {
   "cell_type": "code",
   "execution_count": 101,
   "metadata": {},
   "outputs": [],
   "source": [
    "from sklearn.naive_bayes import GaussianNB\n",
    "from sklearn.model_selection import GridSearchCV\n"
   ]
  },
  {
   "cell_type": "code",
   "execution_count": 102,
   "metadata": {},
   "outputs": [
    {
     "name": "stdout",
     "output_type": "stream",
     "text": [
      "Priors: [0.59928315 0.40071685]\n",
      "Means:\n",
      "\n"
     ]
    },
    {
     "data": {
      "text/html": [
       "<div>\n",
       "<style scoped>\n",
       "    .dataframe tbody tr th:only-of-type {\n",
       "        vertical-align: middle;\n",
       "    }\n",
       "\n",
       "    .dataframe tbody tr th {\n",
       "        vertical-align: top;\n",
       "    }\n",
       "\n",
       "    .dataframe thead th {\n",
       "        text-align: right;\n",
       "    }\n",
       "</style>\n",
       "<table border=\"1\" class=\"dataframe\">\n",
       "  <thead>\n",
       "    <tr style=\"text-align: right;\">\n",
       "      <th></th>\n",
       "      <th>BPM</th>\n",
       "      <th>Energy</th>\n",
       "      <th>Danceability</th>\n",
       "      <th>Loudness</th>\n",
       "      <th>Liveness</th>\n",
       "      <th>Valence</th>\n",
       "      <th>Acousticness</th>\n",
       "      <th>Speechiness</th>\n",
       "      <th>Popularity</th>\n",
       "      <th>genre_0</th>\n",
       "      <th>genre_1</th>\n",
       "      <th>genre_2</th>\n",
       "      <th>genre_3</th>\n",
       "      <th>genre_4</th>\n",
       "      <th>genre_5</th>\n",
       "      <th>genre_6</th>\n",
       "    </tr>\n",
       "  </thead>\n",
       "  <tbody>\n",
       "    <tr>\n",
       "      <th>0</th>\n",
       "      <td>0.452024</td>\n",
       "      <td>0.564132</td>\n",
       "      <td>0.497079</td>\n",
       "      <td>0.682775</td>\n",
       "      <td>0.170300</td>\n",
       "      <td>0.51008</td>\n",
       "      <td>0.317120</td>\n",
       "      <td>0.052022</td>\n",
       "      <td>0.555615</td>\n",
       "      <td>0.082536</td>\n",
       "      <td>0.488038</td>\n",
       "      <td>0.150718</td>\n",
       "      <td>0.050239</td>\n",
       "      <td>0.087321</td>\n",
       "      <td>0.105263</td>\n",
       "      <td>0.035885</td>\n",
       "    </tr>\n",
       "    <tr>\n",
       "      <th>1</th>\n",
       "      <td>0.462382</td>\n",
       "      <td>0.612683</td>\n",
       "      <td>0.505616</td>\n",
       "      <td>0.783399</td>\n",
       "      <td>0.182303</td>\n",
       "      <td>0.43655</td>\n",
       "      <td>0.271367</td>\n",
       "      <td>0.066122</td>\n",
       "      <td>0.522120</td>\n",
       "      <td>0.103757</td>\n",
       "      <td>0.191413</td>\n",
       "      <td>0.214669</td>\n",
       "      <td>0.150268</td>\n",
       "      <td>0.026834</td>\n",
       "      <td>0.268336</td>\n",
       "      <td>0.044723</td>\n",
       "    </tr>\n",
       "  </tbody>\n",
       "</table>\n",
       "</div>"
      ],
      "text/plain": [
       "        BPM    Energy  Danceability  Loudness  Liveness  Valence  \\\n",
       "0  0.452024  0.564132      0.497079  0.682775  0.170300  0.51008   \n",
       "1  0.462382  0.612683      0.505616  0.783399  0.182303  0.43655   \n",
       "\n",
       "   Acousticness  Speechiness  Popularity   genre_0   genre_1   genre_2  \\\n",
       "0      0.317120     0.052022    0.555615  0.082536  0.488038  0.150718   \n",
       "1      0.271367     0.066122    0.522120  0.103757  0.191413  0.214669   \n",
       "\n",
       "    genre_3   genre_4   genre_5   genre_6  \n",
       "0  0.050239  0.087321  0.105263  0.035885  \n",
       "1  0.150268  0.026834  0.268336  0.044723  "
      ]
     },
     "execution_count": 102,
     "metadata": {},
     "output_type": "execute_result"
    }
   ],
   "source": [
    "gnb_model = GaussianNB().fit(x_train_norm, y_train)\n",
    "\n",
    "print('Priors:', gnb_model.class_prior_)\n",
    "print('Means:\\n')\n",
    "means = pd.DataFrame(gnb_model.theta_)\n",
    "means.columns = x_train.columns\n",
    "means"
   ]
  },
  {
   "cell_type": "code",
   "execution_count": 103,
   "metadata": {},
   "outputs": [
    {
     "name": "stdout",
     "output_type": "stream",
     "text": [
      "              precision    recall  f1-score   support\n",
      "\n",
      "    Pre-2000       0.77      0.69      0.73       359\n",
      "   Post-2000       0.60      0.70      0.64       240\n",
      "\n",
      "    accuracy                           0.69       599\n",
      "   macro avg       0.69      0.69      0.69       599\n",
      "weighted avg       0.70      0.69      0.69       599\n",
      "\n"
     ]
    }
   ],
   "source": [
    "print(classification_report(y_test, gnb_model.predict(x_test_norm),target_names=clss))\n",
    "results_df = save_results(gnb_model, x_test_norm, y_test, 'GNB', results_df)"
   ]
  },
  {
   "cell_type": "code",
   "execution_count": 104,
   "metadata": {},
   "outputs": [
    {
     "data": {
      "image/png": "[encoded data removed]",
      "text/plain": [
       "<Figure size 800x800 with 2 Axes>"
      ]
     },
     "metadata": {},
     "output_type": "display_data"
    }
   ],
   "source": [
    "plt.figure(figsize=(8,8));\n",
    "ConfusionMatrixDisplay.from_estimator(gnb_model, x_test_norm,y_test, display_labels=clss, ax=plt.subplot());"
   ]
  },
  {
   "cell_type": "markdown",
   "metadata": {},
   "source": [
    "### LDA"
   ]
  },
  {
   "cell_type": "code",
   "execution_count": 105,
   "metadata": {},
   "outputs": [
    {
     "data": {
      "text/html": [
       "<table border=\"1\" class=\"dataframe\">\n",
       "  <thead>\n",
       "    <tr style=\"text-align: right;\">\n",
       "      <th></th>\n",
       "      <th>params</th>\n",
       "      <th>mean_test_score</th>\n",
       "      <th>rank_test_score</th>\n",
       "    </tr>\n",
       "  </thead>\n",
       "  <tbody>\n",
       "    <tr>\n",
       "      <th>5</th>\n",
       "      <td>{'shrinkage': 'auto', 'solver': 'eigen'}</td>\n",
       "      <td>0.751254</td>\n",
       "      <td>1</td>\n",
       "    </tr>\n",
       "    <tr>\n",
       "      <th>4</th>\n",
       "      <td>{'shrinkage': 'auto', 'solver': 'lsqr'}</td>\n",
       "      <td>0.751254</td>\n",
       "      <td>1</td>\n",
       "    </tr>\n",
       "    <tr>\n",
       "      <th>0</th>\n",
       "      <td>{'shrinkage': None, 'solver': 'svd'}</td>\n",
       "      <td>0.750702</td>\n",
       "      <td>3</td>\n",
       "    </tr>\n",
       "    <tr>\n",
       "      <th>1</th>\n",
       "      <td>{'shrinkage': None, 'solver': 'lsqr'}</td>\n",
       "      <td>0.733124</td>\n",
       "      <td>4</td>\n",
       "    </tr>\n",
       "    <tr>\n",
       "      <th>7</th>\n",
       "      <td>{'shrinkage': 0.1, 'solver': 'lsqr'}</td>\n",
       "      <td>0.731266</td>\n",
       "      <td>5</td>\n",
       "    </tr>\n",
       "  </tbody>\n",
       "</table>"
      ],
      "text/plain": [
       "<IPython.core.display.HTML object>"
      ]
     },
     "metadata": {},
     "output_type": "display_data"
    }
   ],
   "source": [
    "from sklearn.discriminant_analysis import LinearDiscriminantAnalysis\n",
    "from imblearn.under_sampling import RandomUnderSampler\n",
    "from imblearn.over_sampling import  RandomOverSampler, SMOTE\n",
    "from imblearn.pipeline import make_pipeline, Pipeline\n",
    "\n",
    "\n",
    "param = {\n",
    "    'solver': ['svd', 'lsqr', 'eigen'],\n",
    "    'shrinkage': [None, 'auto', 0.1, 0.2, 0.5]\n",
    "}\n",
    "\n",
    "lda = GridSearchCV(LinearDiscriminantAnalysis(), \n",
    "                   param, \n",
    "                   cv=cv, \n",
    "                   n_jobs=-1, \n",
    "                   scoring='f1_weighted', \n",
    "                   refit=True).fit(x_train_norm, y_train);\n",
    "\n",
    "\n",
    "show_html(pd.DataFrame(lda.cv_results_).loc[:,['params', 'mean_test_score','rank_test_score']].sort_values(by='rank_test_score').head().to_html())"
   ]
  },
  {
   "cell_type": "code",
   "execution_count": 106,
   "metadata": {},
   "outputs": [
    {
     "name": "stdout",
     "output_type": "stream",
     "text": [
      "              precision    recall  f1-score   support\n",
      "\n",
      "    Pre-2000       0.77      0.84      0.80       359\n",
      "   Post-2000       0.71      0.62      0.66       240\n",
      "\n",
      "    accuracy                           0.75       599\n",
      "   macro avg       0.74      0.73      0.73       599\n",
      "weighted avg       0.75      0.75      0.74       599\n",
      "\n"
     ]
    }
   ],
   "source": [
    "print(classification_report(y_test, lda.predict(x_test_norm), target_names=clss))\n",
    "results_df = save_results(lda, x_test_norm, y_test, 'LDA', results_df)"
   ]
  },
  {
   "cell_type": "code",
   "execution_count": 107,
   "metadata": {},
   "outputs": [
    {
     "data": {
      "image/png": "[encoded data removed]",
      "text/plain": [
       "<Figure size 800x800 with 2 Axes>"
      ]
     },
     "metadata": {},
     "output_type": "display_data"
    }
   ],
   "source": [
    "plt.figure(figsize=(8,8));\n",
    "ConfusionMatrixDisplay.from_estimator(lda, x_test_norm,y_test, display_labels=clss, ax=plt.subplot());"
   ]
  },
  {
   "cell_type": "code",
   "execution_count": 108,
   "metadata": {},
   "outputs": [
    {
     "data": {
      "image/png": "[encoded data removed]",
      "text/plain": [
       "<Figure size 1000x1000 with 1 Axes>"
      ]
     },
     "metadata": {},
     "output_type": "display_data"
    }
   ],
   "source": [
    "sns.set()\n",
    "plt.figure(figsize=(10, 10));\n",
    "roc_auc(lda, x_train_norm, y_train, x_test_norm, y_test, classes=clss);"
   ]
  },
  {
   "cell_type": "code",
   "execution_count": 109,
   "metadata": {},
   "outputs": [],
   "source": [
    "c = choice(x_test_norm.shape[0], size=500, replace=False)\n",
    "pi = permutation_importance(lda, x_test_norm.iloc[c], y_test.to_numpy()[c], n_jobs=-1, random_state=0)\n",
    "var_imp_lda = pd.DataFrame({'importance': pi.importances_mean}, index=x_test_norm.columns)"
   ]
  },
  {
   "cell_type": "code",
   "execution_count": 110,
   "metadata": {},
   "outputs": [
    {
     "data": {
      "image/png": "[encoded data removed]",
      "text/plain": [
       "<Figure size 500x400 with 1 Axes>"
      ]
     },
     "metadata": {},
     "output_type": "display_data"
    }
   ],
   "source": [
    "var_imp_lda.sort_values(by='importance').plot.barh(figsize=(5, 4), legend=False);"
   ]
  },
  {
   "cell_type": "markdown",
   "metadata": {},
   "source": [
    "### QDA"
   ]
  },
  {
   "cell_type": "code",
   "execution_count": 116,
   "metadata": {},
   "outputs": [
    {
     "name": "stderr",
     "output_type": "stream",
     "text": [
      "/usr/local/lib/python3.11/site-packages/sklearn/discriminant_analysis.py:935: UserWarning: Variables are collinear\n",
      "  warnings.warn(\"Variables are collinear\")\n",
      "/usr/local/lib/python3.11/site-packages/sklearn/discriminant_analysis.py:935: UserWarning: Variables are collinear\n",
      "  warnings.warn(\"Variables are collinear\")\n",
      "/usr/local/lib/python3.11/site-packages/sklearn/discriminant_analysis.py:935: UserWarning: Variables are collinear\n",
      "  warnings.warn(\"Variables are collinear\")\n",
      "/usr/local/lib/python3.11/site-packages/sklearn/discriminant_analysis.py:935: UserWarning: Variables are collinear\n",
      "  warnings.warn(\"Variables are collinear\")\n",
      "/usr/local/lib/python3.11/site-packages/sklearn/discriminant_analysis.py:935: UserWarning: Variables are collinear\n",
      "  warnings.warn(\"Variables are collinear\")\n",
      "/usr/local/lib/python3.11/site-packages/sklearn/discriminant_analysis.py:935: UserWarning: Variables are collinear\n",
      "  warnings.warn(\"Variables are collinear\")\n",
      "/usr/local/lib/python3.11/site-packages/sklearn/discriminant_analysis.py:935: UserWarning: Variables are collinear\n",
      "  warnings.warn(\"Variables are collinear\")\n",
      "/usr/local/lib/python3.11/site-packages/sklearn/discriminant_analysis.py:935: UserWarning: Variables are collinear\n",
      "  warnings.warn(\"Variables are collinear\")\n",
      "/usr/local/lib/python3.11/site-packages/sklearn/discriminant_analysis.py:935: UserWarning: Variables are collinear\n",
      "  warnings.warn(\"Variables are collinear\")\n",
      "/usr/local/lib/python3.11/site-packages/sklearn/discriminant_analysis.py:935: UserWarning: Variables are collinear\n",
      "  warnings.warn(\"Variables are collinear\")\n",
      "/usr/local/lib/python3.11/site-packages/sklearn/discriminant_analysis.py:935: UserWarning: Variables are collinear\n",
      "  warnings.warn(\"Variables are collinear\")\n",
      "/usr/local/lib/python3.11/site-packages/sklearn/discriminant_analysis.py:935: UserWarning: Variables are collinear\n",
      "  warnings.warn(\"Variables are collinear\")\n",
      "/usr/local/lib/python3.11/site-packages/sklearn/discriminant_analysis.py:935: UserWarning: Variables are collinear\n",
      "  warnings.warn(\"Variables are collinear\")\n",
      "/usr/local/lib/python3.11/site-packages/sklearn/discriminant_analysis.py:935: UserWarning: Variables are collinear\n",
      "  warnings.warn(\"Variables are collinear\")\n",
      "/usr/local/lib/python3.11/site-packages/sklearn/discriminant_analysis.py:935: UserWarning: Variables are collinear\n",
      "  warnings.warn(\"Variables are collinear\")\n",
      "/usr/local/lib/python3.11/site-packages/sklearn/discriminant_analysis.py:935: UserWarning: Variables are collinear\n",
      "  warnings.warn(\"Variables are collinear\")\n",
      "/usr/local/lib/python3.11/site-packages/sklearn/discriminant_analysis.py:935: UserWarning: Variables are collinear\n",
      "  warnings.warn(\"Variables are collinear\")\n",
      "/usr/local/lib/python3.11/site-packages/sklearn/discriminant_analysis.py:935: UserWarning: Variables are collinear\n",
      "  warnings.warn(\"Variables are collinear\")\n",
      "/usr/local/lib/python3.11/site-packages/sklearn/discriminant_analysis.py:935: UserWarning: Variables are collinear\n",
      "  warnings.warn(\"Variables are collinear\")\n",
      "/usr/local/lib/python3.11/site-packages/sklearn/discriminant_analysis.py:935: UserWarning: Variables are collinear\n",
      "  warnings.warn(\"Variables are collinear\")\n",
      "/usr/local/lib/python3.11/site-packages/sklearn/discriminant_analysis.py:935: UserWarning: Variables are collinear\n",
      "  warnings.warn(\"Variables are collinear\")\n",
      "/usr/local/lib/python3.11/site-packages/sklearn/discriminant_analysis.py:935: UserWarning: Variables are collinear\n",
      "  warnings.warn(\"Variables are collinear\")\n",
      "/usr/local/lib/python3.11/site-packages/sklearn/discriminant_analysis.py:935: UserWarning: Variables are collinear\n",
      "  warnings.warn(\"Variables are collinear\")\n",
      "/usr/local/lib/python3.11/site-packages/sklearn/discriminant_analysis.py:935: UserWarning: Variables are collinear\n",
      "  warnings.warn(\"Variables are collinear\")\n",
      "/usr/local/lib/python3.11/site-packages/sklearn/discriminant_analysis.py:935: UserWarning: Variables are collinear\n",
      "  warnings.warn(\"Variables are collinear\")\n",
      "/usr/local/lib/python3.11/site-packages/sklearn/discriminant_analysis.py:935: UserWarning: Variables are collinear\n",
      "  warnings.warn(\"Variables are collinear\")\n",
      "/usr/local/lib/python3.11/site-packages/sklearn/discriminant_analysis.py:935: UserWarning: Variables are collinear\n",
      "  warnings.warn(\"Variables are collinear\")\n",
      "/usr/local/lib/python3.11/site-packages/sklearn/discriminant_analysis.py:935: UserWarning: Variables are collinear\n",
      "  warnings.warn(\"Variables are collinear\")\n",
      "/usr/local/lib/python3.11/site-packages/sklearn/discriminant_analysis.py:935: UserWarning: Variables are collinear\n",
      "  warnings.warn(\"Variables are collinear\")\n",
      "/usr/local/lib/python3.11/site-packages/sklearn/discriminant_analysis.py:935: UserWarning: Variables are collinear\n",
      "  warnings.warn(\"Variables are collinear\")\n",
      "/usr/local/lib/python3.11/site-packages/sklearn/discriminant_analysis.py:935: UserWarning: Variables are collinear\n",
      "  warnings.warn(\"Variables are collinear\")\n",
      "/usr/local/lib/python3.11/site-packages/sklearn/discriminant_analysis.py:935: UserWarning: Variables are collinear\n",
      "  warnings.warn(\"Variables are collinear\")\n",
      "/usr/local/lib/python3.11/site-packages/sklearn/discriminant_analysis.py:935: UserWarning: Variables are collinear\n",
      "  warnings.warn(\"Variables are collinear\")\n",
      "/usr/local/lib/python3.11/site-packages/sklearn/discriminant_analysis.py:935: UserWarning: Variables are collinear\n",
      "  warnings.warn(\"Variables are collinear\")\n",
      "/usr/local/lib/python3.11/site-packages/sklearn/discriminant_analysis.py:935: UserWarning: Variables are collinear\n",
      "  warnings.warn(\"Variables are collinear\")\n",
      "/usr/local/lib/python3.11/site-packages/sklearn/discriminant_analysis.py:935: UserWarning: Variables are collinear\n",
      "  warnings.warn(\"Variables are collinear\")\n",
      "/usr/local/lib/python3.11/site-packages/sklearn/discriminant_analysis.py:935: UserWarning: Variables are collinear\n",
      "  warnings.warn(\"Variables are collinear\")\n",
      "/usr/local/lib/python3.11/site-packages/sklearn/discriminant_analysis.py:935: UserWarning: Variables are collinear\n",
      "  warnings.warn(\"Variables are collinear\")\n",
      "/usr/local/lib/python3.11/site-packages/sklearn/discriminant_analysis.py:935: UserWarning: Variables are collinear\n",
      "  warnings.warn(\"Variables are collinear\")\n",
      "/usr/local/lib/python3.11/site-packages/sklearn/discriminant_analysis.py:935: UserWarning: Variables are collinear\n",
      "  warnings.warn(\"Variables are collinear\")\n",
      "/usr/local/lib/python3.11/site-packages/sklearn/discriminant_analysis.py:935: UserWarning: Variables are collinear\n",
      "  warnings.warn(\"Variables are collinear\")\n",
      "/usr/local/lib/python3.11/site-packages/sklearn/discriminant_analysis.py:935: UserWarning: Variables are collinear\n",
      "  warnings.warn(\"Variables are collinear\")\n",
      "/usr/local/lib/python3.11/site-packages/sklearn/discriminant_analysis.py:935: UserWarning: Variables are collinear\n",
      "  warnings.warn(\"Variables are collinear\")\n",
      "/usr/local/lib/python3.11/site-packages/sklearn/discriminant_analysis.py:935: UserWarning: Variables are collinear\n",
      "  warnings.warn(\"Variables are collinear\")\n",
      "/usr/local/lib/python3.11/site-packages/sklearn/discriminant_analysis.py:935: UserWarning: Variables are collinear\n",
      "  warnings.warn(\"Variables are collinear\")\n",
      "/usr/local/lib/python3.11/site-packages/sklearn/discriminant_analysis.py:935: UserWarning: Variables are collinear\n",
      "  warnings.warn(\"Variables are collinear\")\n",
      "/usr/local/lib/python3.11/site-packages/sklearn/discriminant_analysis.py:935: UserWarning: Variables are collinear\n",
      "  warnings.warn(\"Variables are collinear\")\n",
      "/usr/local/lib/python3.11/site-packages/sklearn/discriminant_analysis.py:935: UserWarning: Variables are collinear\n",
      "  warnings.warn(\"Variables are collinear\")\n",
      "/usr/local/lib/python3.11/site-packages/sklearn/discriminant_analysis.py:935: UserWarning: Variables are collinear\n",
      "  warnings.warn(\"Variables are collinear\")\n",
      "/usr/local/lib/python3.11/site-packages/sklearn/discriminant_analysis.py:935: UserWarning: Variables are collinear\n",
      "  warnings.warn(\"Variables are collinear\")\n",
      "/usr/local/lib/python3.11/site-packages/sklearn/discriminant_analysis.py:935: UserWarning: Variables are collinear\n",
      "  warnings.warn(\"Variables are collinear\")\n",
      "/usr/local/lib/python3.11/site-packages/sklearn/discriminant_analysis.py:935: UserWarning: Variables are collinear\n",
      "  warnings.warn(\"Variables are collinear\")\n",
      "/usr/local/lib/python3.11/site-packages/sklearn/discriminant_analysis.py:935: UserWarning: Variables are collinear\n",
      "  warnings.warn(\"Variables are collinear\")\n",
      "/usr/local/lib/python3.11/site-packages/sklearn/discriminant_analysis.py:935: UserWarning: Variables are collinear\n",
      "  warnings.warn(\"Variables are collinear\")\n",
      "/usr/local/lib/python3.11/site-packages/sklearn/discriminant_analysis.py:935: UserWarning: Variables are collinear\n",
      "  warnings.warn(\"Variables are collinear\")\n",
      "/usr/local/lib/python3.11/site-packages/sklearn/discriminant_analysis.py:935: UserWarning: Variables are collinear\n",
      "  warnings.warn(\"Variables are collinear\")\n",
      "/usr/local/lib/python3.11/site-packages/sklearn/discriminant_analysis.py:935: UserWarning: Variables are collinear\n",
      "  warnings.warn(\"Variables are collinear\")\n",
      "/usr/local/lib/python3.11/site-packages/sklearn/discriminant_analysis.py:935: UserWarning: Variables are collinear\n",
      "  warnings.warn(\"Variables are collinear\")\n",
      "/usr/local/lib/python3.11/site-packages/sklearn/discriminant_analysis.py:935: UserWarning: Variables are collinear\n",
      "  warnings.warn(\"Variables are collinear\")\n",
      "/usr/local/lib/python3.11/site-packages/sklearn/discriminant_analysis.py:935: UserWarning: Variables are collinear\n",
      "  warnings.warn(\"Variables are collinear\")\n",
      "/usr/local/lib/python3.11/site-packages/sklearn/discriminant_analysis.py:935: UserWarning: Variables are collinear\n",
      "  warnings.warn(\"Variables are collinear\")\n",
      "/usr/local/lib/python3.11/site-packages/sklearn/discriminant_analysis.py:935: UserWarning: Variables are collinear\n",
      "  warnings.warn(\"Variables are collinear\")\n",
      "/usr/local/lib/python3.11/site-packages/sklearn/discriminant_analysis.py:935: UserWarning: Variables are collinear\n",
      "  warnings.warn(\"Variables are collinear\")\n",
      "/usr/local/lib/python3.11/site-packages/sklearn/discriminant_analysis.py:935: UserWarning: Variables are collinear\n",
      "  warnings.warn(\"Variables are collinear\")\n",
      "/usr/local/lib/python3.11/site-packages/sklearn/discriminant_analysis.py:935: UserWarning: Variables are collinear\n",
      "  warnings.warn(\"Variables are collinear\")\n",
      "/usr/local/lib/python3.11/site-packages/sklearn/discriminant_analysis.py:935: UserWarning: Variables are collinear\n",
      "  warnings.warn(\"Variables are collinear\")\n",
      "/usr/local/lib/python3.11/site-packages/sklearn/discriminant_analysis.py:935: UserWarning: Variables are collinear\n",
      "  warnings.warn(\"Variables are collinear\")\n",
      "/usr/local/lib/python3.11/site-packages/sklearn/discriminant_analysis.py:935: UserWarning: Variables are collinear\n",
      "  warnings.warn(\"Variables are collinear\")\n",
      "/usr/local/lib/python3.11/site-packages/sklearn/discriminant_analysis.py:935: UserWarning: Variables are collinear\n",
      "  warnings.warn(\"Variables are collinear\")\n",
      "/usr/local/lib/python3.11/site-packages/sklearn/discriminant_analysis.py:935: UserWarning: Variables are collinear\n",
      "  warnings.warn(\"Variables are collinear\")\n",
      "/usr/local/lib/python3.11/site-packages/sklearn/discriminant_analysis.py:935: UserWarning: Variables are collinear\n",
      "  warnings.warn(\"Variables are collinear\")\n",
      "/usr/local/lib/python3.11/site-packages/sklearn/discriminant_analysis.py:935: UserWarning: Variables are collinear\n",
      "  warnings.warn(\"Variables are collinear\")\n",
      "/usr/local/lib/python3.11/site-packages/sklearn/discriminant_analysis.py:935: UserWarning: Variables are collinear\n",
      "  warnings.warn(\"Variables are collinear\")\n",
      "/usr/local/lib/python3.11/site-packages/sklearn/discriminant_analysis.py:935: UserWarning: Variables are collinear\n",
      "  warnings.warn(\"Variables are collinear\")\n",
      "/usr/local/lib/python3.11/site-packages/sklearn/discriminant_analysis.py:935: UserWarning: Variables are collinear\n",
      "  warnings.warn(\"Variables are collinear\")\n",
      "/usr/local/lib/python3.11/site-packages/sklearn/discriminant_analysis.py:935: UserWarning: Variables are collinear\n",
      "  warnings.warn(\"Variables are collinear\")\n",
      "/usr/local/lib/python3.11/site-packages/sklearn/discriminant_analysis.py:935: UserWarning: Variables are collinear\n",
      "  warnings.warn(\"Variables are collinear\")\n",
      "/usr/local/lib/python3.11/site-packages/sklearn/discriminant_analysis.py:935: UserWarning: Variables are collinear\n",
      "  warnings.warn(\"Variables are collinear\")\n",
      "/usr/local/lib/python3.11/site-packages/sklearn/discriminant_analysis.py:935: UserWarning: Variables are collinear\n",
      "  warnings.warn(\"Variables are collinear\")\n",
      "/usr/local/lib/python3.11/site-packages/sklearn/discriminant_analysis.py:935: UserWarning: Variables are collinear\n",
      "  warnings.warn(\"Variables are collinear\")\n",
      "/usr/local/lib/python3.11/site-packages/sklearn/discriminant_analysis.py:935: UserWarning: Variables are collinear\n",
      "  warnings.warn(\"Variables are collinear\")\n",
      "/usr/local/lib/python3.11/site-packages/sklearn/discriminant_analysis.py:935: UserWarning: Variables are collinear\n",
      "  warnings.warn(\"Variables are collinear\")\n",
      "/usr/local/lib/python3.11/site-packages/sklearn/discriminant_analysis.py:935: UserWarning: Variables are collinear\n",
      "  warnings.warn(\"Variables are collinear\")\n",
      "/usr/local/lib/python3.11/site-packages/sklearn/discriminant_analysis.py:935: UserWarning: Variables are collinear\n",
      "  warnings.warn(\"Variables are collinear\")\n",
      "/usr/local/lib/python3.11/site-packages/sklearn/discriminant_analysis.py:935: UserWarning: Variables are collinear\n",
      "  warnings.warn(\"Variables are collinear\")\n",
      "/usr/local/lib/python3.11/site-packages/sklearn/discriminant_analysis.py:935: UserWarning: Variables are collinear\n",
      "  warnings.warn(\"Variables are collinear\")\n",
      "/usr/local/lib/python3.11/site-packages/sklearn/discriminant_analysis.py:935: UserWarning: Variables are collinear\n",
      "  warnings.warn(\"Variables are collinear\")\n",
      "/usr/local/lib/python3.11/site-packages/sklearn/discriminant_analysis.py:935: UserWarning: Variables are collinear\n",
      "  warnings.warn(\"Variables are collinear\")\n",
      "/usr/local/lib/python3.11/site-packages/sklearn/discriminant_analysis.py:935: UserWarning: Variables are collinear\n",
      "  warnings.warn(\"Variables are collinear\")\n",
      "/usr/local/lib/python3.11/site-packages/sklearn/discriminant_analysis.py:935: UserWarning: Variables are collinear\n",
      "  warnings.warn(\"Variables are collinear\")\n",
      "/usr/local/lib/python3.11/site-packages/sklearn/discriminant_analysis.py:935: UserWarning: Variables are collinear\n",
      "  warnings.warn(\"Variables are collinear\")\n",
      "/usr/local/lib/python3.11/site-packages/sklearn/discriminant_analysis.py:935: UserWarning: Variables are collinear\n",
      "  warnings.warn(\"Variables are collinear\")\n",
      "/usr/local/lib/python3.11/site-packages/sklearn/discriminant_analysis.py:935: UserWarning: Variables are collinear\n",
      "  warnings.warn(\"Variables are collinear\")\n",
      "/usr/local/lib/python3.11/site-packages/sklearn/discriminant_analysis.py:935: UserWarning: Variables are collinear\n",
      "  warnings.warn(\"Variables are collinear\")\n",
      "/usr/local/lib/python3.11/site-packages/sklearn/discriminant_analysis.py:935: UserWarning: Variables are collinear\n",
      "  warnings.warn(\"Variables are collinear\")\n",
      "/usr/local/lib/python3.11/site-packages/sklearn/discriminant_analysis.py:935: UserWarning: Variables are collinear\n",
      "  warnings.warn(\"Variables are collinear\")\n",
      "/usr/local/lib/python3.11/site-packages/sklearn/discriminant_analysis.py:935: UserWarning: Variables are collinear\n",
      "  warnings.warn(\"Variables are collinear\")\n",
      "/usr/local/lib/python3.11/site-packages/sklearn/discriminant_analysis.py:935: UserWarning: Variables are collinear\n",
      "  warnings.warn(\"Variables are collinear\")\n",
      "/usr/local/lib/python3.11/site-packages/sklearn/discriminant_analysis.py:935: UserWarning: Variables are collinear\n",
      "  warnings.warn(\"Variables are collinear\")\n",
      "/usr/local/lib/python3.11/site-packages/sklearn/discriminant_analysis.py:935: UserWarning: Variables are collinear\n",
      "  warnings.warn(\"Variables are collinear\")\n",
      "/usr/local/lib/python3.11/site-packages/sklearn/discriminant_analysis.py:935: UserWarning: Variables are collinear\n",
      "  warnings.warn(\"Variables are collinear\")\n",
      "/usr/local/lib/python3.11/site-packages/sklearn/discriminant_analysis.py:935: UserWarning: Variables are collinear\n",
      "  warnings.warn(\"Variables are collinear\")\n",
      "/usr/local/lib/python3.11/site-packages/sklearn/discriminant_analysis.py:935: UserWarning: Variables are collinear\n",
      "  warnings.warn(\"Variables are collinear\")\n",
      "/usr/local/lib/python3.11/site-packages/sklearn/discriminant_analysis.py:935: UserWarning: Variables are collinear\n",
      "  warnings.warn(\"Variables are collinear\")\n",
      "/usr/local/lib/python3.11/site-packages/sklearn/discriminant_analysis.py:935: UserWarning: Variables are collinear\n",
      "  warnings.warn(\"Variables are collinear\")\n",
      "/usr/local/lib/python3.11/site-packages/sklearn/discriminant_analysis.py:935: UserWarning: Variables are collinear\n",
      "  warnings.warn(\"Variables are collinear\")\n",
      "/usr/local/lib/python3.11/site-packages/sklearn/discriminant_analysis.py:935: UserWarning: Variables are collinear\n",
      "  warnings.warn(\"Variables are collinear\")\n",
      "/usr/local/lib/python3.11/site-packages/sklearn/discriminant_analysis.py:935: UserWarning: Variables are collinear\n",
      "  warnings.warn(\"Variables are collinear\")\n",
      "/usr/local/lib/python3.11/site-packages/sklearn/discriminant_analysis.py:935: UserWarning: Variables are collinear\n",
      "  warnings.warn(\"Variables are collinear\")\n",
      "/usr/local/lib/python3.11/site-packages/sklearn/discriminant_analysis.py:935: UserWarning: Variables are collinear\n",
      "  warnings.warn(\"Variables are collinear\")\n",
      "/usr/local/lib/python3.11/site-packages/sklearn/discriminant_analysis.py:935: UserWarning: Variables are collinear\n",
      "  warnings.warn(\"Variables are collinear\")\n",
      "/usr/local/lib/python3.11/site-packages/sklearn/discriminant_analysis.py:935: UserWarning: Variables are collinear\n",
      "  warnings.warn(\"Variables are collinear\")\n",
      "/usr/local/lib/python3.11/site-packages/sklearn/discriminant_analysis.py:935: UserWarning: Variables are collinear\n",
      "  warnings.warn(\"Variables are collinear\")\n",
      "/usr/local/lib/python3.11/site-packages/sklearn/discriminant_analysis.py:935: UserWarning: Variables are collinear\n",
      "  warnings.warn(\"Variables are collinear\")\n",
      "/usr/local/lib/python3.11/site-packages/sklearn/discriminant_analysis.py:935: UserWarning: Variables are collinear\n",
      "  warnings.warn(\"Variables are collinear\")\n",
      "/usr/local/lib/python3.11/site-packages/sklearn/discriminant_analysis.py:935: UserWarning: Variables are collinear\n",
      "  warnings.warn(\"Variables are collinear\")\n",
      "/usr/local/lib/python3.11/site-packages/sklearn/discriminant_analysis.py:935: UserWarning: Variables are collinear\n",
      "  warnings.warn(\"Variables are collinear\")\n",
      "/usr/local/lib/python3.11/site-packages/sklearn/discriminant_analysis.py:935: UserWarning: Variables are collinear\n",
      "  warnings.warn(\"Variables are collinear\")\n",
      "/usr/local/lib/python3.11/site-packages/sklearn/discriminant_analysis.py:935: UserWarning: Variables are collinear\n",
      "  warnings.warn(\"Variables are collinear\")\n",
      "/usr/local/lib/python3.11/site-packages/sklearn/discriminant_analysis.py:935: UserWarning: Variables are collinear\n",
      "  warnings.warn(\"Variables are collinear\")\n",
      "/usr/local/lib/python3.11/site-packages/sklearn/discriminant_analysis.py:935: UserWarning: Variables are collinear\n",
      "  warnings.warn(\"Variables are collinear\")\n",
      "/usr/local/lib/python3.11/site-packages/sklearn/discriminant_analysis.py:935: UserWarning: Variables are collinear\n",
      "  warnings.warn(\"Variables are collinear\")\n",
      "/usr/local/lib/python3.11/site-packages/sklearn/discriminant_analysis.py:935: UserWarning: Variables are collinear\n",
      "  warnings.warn(\"Variables are collinear\")\n",
      "/usr/local/lib/python3.11/site-packages/sklearn/discriminant_analysis.py:935: UserWarning: Variables are collinear\n",
      "  warnings.warn(\"Variables are collinear\")\n",
      "/usr/local/lib/python3.11/site-packages/sklearn/discriminant_analysis.py:935: UserWarning: Variables are collinear\n",
      "  warnings.warn(\"Variables are collinear\")\n",
      "/usr/local/lib/python3.11/site-packages/sklearn/discriminant_analysis.py:935: UserWarning: Variables are collinear\n",
      "  warnings.warn(\"Variables are collinear\")\n",
      "/usr/local/lib/python3.11/site-packages/sklearn/discriminant_analysis.py:935: UserWarning: Variables are collinear\n",
      "  warnings.warn(\"Variables are collinear\")\n",
      "/usr/local/lib/python3.11/site-packages/sklearn/discriminant_analysis.py:935: UserWarning: Variables are collinear\n",
      "  warnings.warn(\"Variables are collinear\")\n",
      "/usr/local/lib/python3.11/site-packages/sklearn/discriminant_analysis.py:935: UserWarning: Variables are collinear\n",
      "  warnings.warn(\"Variables are collinear\")\n",
      "/usr/local/lib/python3.11/site-packages/sklearn/discriminant_analysis.py:935: UserWarning: Variables are collinear\n",
      "  warnings.warn(\"Variables are collinear\")\n",
      "/usr/local/lib/python3.11/site-packages/sklearn/discriminant_analysis.py:935: UserWarning: Variables are collinear\n",
      "  warnings.warn(\"Variables are collinear\")\n",
      "/usr/local/lib/python3.11/site-packages/sklearn/discriminant_analysis.py:935: UserWarning: Variables are collinear\n",
      "  warnings.warn(\"Variables are collinear\")\n",
      "/usr/local/lib/python3.11/site-packages/sklearn/discriminant_analysis.py:935: UserWarning: Variables are collinear\n",
      "  warnings.warn(\"Variables are collinear\")\n",
      "/usr/local/lib/python3.11/site-packages/sklearn/discriminant_analysis.py:935: UserWarning: Variables are collinear\n",
      "  warnings.warn(\"Variables are collinear\")\n",
      "/usr/local/lib/python3.11/site-packages/sklearn/discriminant_analysis.py:935: UserWarning: Variables are collinear\n",
      "  warnings.warn(\"Variables are collinear\")\n",
      "/usr/local/lib/python3.11/site-packages/sklearn/discriminant_analysis.py:935: UserWarning: Variables are collinear\n",
      "  warnings.warn(\"Variables are collinear\")\n",
      "/usr/local/lib/python3.11/site-packages/sklearn/discriminant_analysis.py:935: UserWarning: Variables are collinear\n",
      "  warnings.warn(\"Variables are collinear\")\n",
      "/usr/local/lib/python3.11/site-packages/sklearn/discriminant_analysis.py:935: UserWarning: Variables are collinear\n",
      "  warnings.warn(\"Variables are collinear\")\n",
      "/usr/local/lib/python3.11/site-packages/sklearn/discriminant_analysis.py:935: UserWarning: Variables are collinear\n",
      "  warnings.warn(\"Variables are collinear\")\n",
      "/usr/local/lib/python3.11/site-packages/sklearn/discriminant_analysis.py:935: UserWarning: Variables are collinear\n",
      "  warnings.warn(\"Variables are collinear\")\n",
      "/usr/local/lib/python3.11/site-packages/sklearn/discriminant_analysis.py:935: UserWarning: Variables are collinear\n",
      "  warnings.warn(\"Variables are collinear\")\n",
      "/usr/local/lib/python3.11/site-packages/sklearn/discriminant_analysis.py:935: UserWarning: Variables are collinear\n",
      "  warnings.warn(\"Variables are collinear\")\n",
      "/usr/local/lib/python3.11/site-packages/sklearn/discriminant_analysis.py:935: UserWarning: Variables are collinear\n",
      "  warnings.warn(\"Variables are collinear\")\n",
      "/usr/local/lib/python3.11/site-packages/sklearn/discriminant_analysis.py:935: UserWarning: Variables are collinear\n",
      "  warnings.warn(\"Variables are collinear\")\n",
      "/usr/local/lib/python3.11/site-packages/sklearn/discriminant_analysis.py:935: UserWarning: Variables are collinear\n",
      "  warnings.warn(\"Variables are collinear\")\n",
      "/usr/local/lib/python3.11/site-packages/sklearn/discriminant_analysis.py:935: UserWarning: Variables are collinear\n",
      "  warnings.warn(\"Variables are collinear\")\n",
      "/usr/local/lib/python3.11/site-packages/sklearn/discriminant_analysis.py:935: UserWarning: Variables are collinear\n",
      "  warnings.warn(\"Variables are collinear\")\n",
      "/usr/local/lib/python3.11/site-packages/sklearn/discriminant_analysis.py:935: UserWarning: Variables are collinear\n",
      "  warnings.warn(\"Variables are collinear\")\n",
      "/usr/local/lib/python3.11/site-packages/sklearn/discriminant_analysis.py:935: UserWarning: Variables are collinear\n",
      "  warnings.warn(\"Variables are collinear\")\n",
      "/usr/local/lib/python3.11/site-packages/sklearn/discriminant_analysis.py:935: UserWarning: Variables are collinear\n",
      "  warnings.warn(\"Variables are collinear\")\n",
      "/usr/local/lib/python3.11/site-packages/sklearn/discriminant_analysis.py:935: UserWarning: Variables are collinear\n",
      "  warnings.warn(\"Variables are collinear\")\n",
      "/usr/local/lib/python3.11/site-packages/sklearn/discriminant_analysis.py:935: UserWarning: Variables are collinear\n",
      "  warnings.warn(\"Variables are collinear\")\n",
      "/usr/local/lib/python3.11/site-packages/sklearn/discriminant_analysis.py:935: UserWarning: Variables are collinear\n",
      "  warnings.warn(\"Variables are collinear\")\n",
      "/usr/local/lib/python3.11/site-packages/sklearn/discriminant_analysis.py:935: UserWarning: Variables are collinear\n",
      "  warnings.warn(\"Variables are collinear\")\n",
      "/usr/local/lib/python3.11/site-packages/sklearn/discriminant_analysis.py:935: UserWarning: Variables are collinear\n",
      "  warnings.warn(\"Variables are collinear\")\n",
      "/usr/local/lib/python3.11/site-packages/sklearn/discriminant_analysis.py:935: UserWarning: Variables are collinear\n",
      "  warnings.warn(\"Variables are collinear\")\n",
      "/usr/local/lib/python3.11/site-packages/sklearn/discriminant_analysis.py:935: UserWarning: Variables are collinear\n",
      "  warnings.warn(\"Variables are collinear\")\n",
      "/usr/local/lib/python3.11/site-packages/sklearn/discriminant_analysis.py:935: UserWarning: Variables are collinear\n",
      "  warnings.warn(\"Variables are collinear\")\n",
      "/usr/local/lib/python3.11/site-packages/sklearn/discriminant_analysis.py:935: UserWarning: Variables are collinear\n",
      "  warnings.warn(\"Variables are collinear\")\n",
      "/usr/local/lib/python3.11/site-packages/sklearn/discriminant_analysis.py:935: UserWarning: Variables are collinear\n",
      "  warnings.warn(\"Variables are collinear\")\n",
      "/usr/local/lib/python3.11/site-packages/sklearn/discriminant_analysis.py:935: UserWarning: Variables are collinear\n",
      "  warnings.warn(\"Variables are collinear\")\n",
      "/usr/local/lib/python3.11/site-packages/sklearn/discriminant_analysis.py:935: UserWarning: Variables are collinear\n",
      "  warnings.warn(\"Variables are collinear\")\n",
      "/usr/local/lib/python3.11/site-packages/sklearn/discriminant_analysis.py:935: UserWarning: Variables are collinear\n",
      "  warnings.warn(\"Variables are collinear\")\n",
      "/usr/local/lib/python3.11/site-packages/sklearn/discriminant_analysis.py:935: UserWarning: Variables are collinear\n",
      "  warnings.warn(\"Variables are collinear\")\n",
      "/usr/local/lib/python3.11/site-packages/sklearn/discriminant_analysis.py:935: UserWarning: Variables are collinear\n",
      "  warnings.warn(\"Variables are collinear\")\n",
      "/usr/local/lib/python3.11/site-packages/sklearn/discriminant_analysis.py:935: UserWarning: Variables are collinear\n",
      "  warnings.warn(\"Variables are collinear\")\n",
      "/usr/local/lib/python3.11/site-packages/sklearn/discriminant_analysis.py:935: UserWarning: Variables are collinear\n",
      "  warnings.warn(\"Variables are collinear\")\n",
      "/usr/local/lib/python3.11/site-packages/sklearn/discriminant_analysis.py:935: UserWarning: Variables are collinear\n",
      "  warnings.warn(\"Variables are collinear\")\n",
      "/usr/local/lib/python3.11/site-packages/sklearn/discriminant_analysis.py:935: UserWarning: Variables are collinear\n",
      "  warnings.warn(\"Variables are collinear\")\n",
      "/usr/local/lib/python3.11/site-packages/sklearn/discriminant_analysis.py:935: UserWarning: Variables are collinear\n",
      "  warnings.warn(\"Variables are collinear\")\n",
      "/usr/local/lib/python3.11/site-packages/sklearn/discriminant_analysis.py:935: UserWarning: Variables are collinear\n",
      "  warnings.warn(\"Variables are collinear\")\n",
      "/usr/local/lib/python3.11/site-packages/sklearn/discriminant_analysis.py:935: UserWarning: Variables are collinear\n",
      "  warnings.warn(\"Variables are collinear\")\n",
      "/usr/local/lib/python3.11/site-packages/sklearn/discriminant_analysis.py:935: UserWarning: Variables are collinear\n",
      "  warnings.warn(\"Variables are collinear\")\n",
      "/usr/local/lib/python3.11/site-packages/sklearn/discriminant_analysis.py:935: UserWarning: Variables are collinear\n",
      "  warnings.warn(\"Variables are collinear\")\n",
      "/usr/local/lib/python3.11/site-packages/sklearn/discriminant_analysis.py:935: UserWarning: Variables are collinear\n",
      "  warnings.warn(\"Variables are collinear\")\n",
      "/usr/local/lib/python3.11/site-packages/sklearn/discriminant_analysis.py:935: UserWarning: Variables are collinear\n",
      "  warnings.warn(\"Variables are collinear\")\n",
      "/usr/local/lib/python3.11/site-packages/sklearn/discriminant_analysis.py:935: UserWarning: Variables are collinear\n",
      "  warnings.warn(\"Variables are collinear\")\n",
      "/usr/local/lib/python3.11/site-packages/sklearn/discriminant_analysis.py:935: UserWarning: Variables are collinear\n",
      "  warnings.warn(\"Variables are collinear\")\n",
      "/usr/local/lib/python3.11/site-packages/sklearn/discriminant_analysis.py:935: UserWarning: Variables are collinear\n",
      "  warnings.warn(\"Variables are collinear\")\n",
      "/usr/local/lib/python3.11/site-packages/sklearn/discriminant_analysis.py:935: UserWarning: Variables are collinear\n",
      "  warnings.warn(\"Variables are collinear\")\n",
      "/usr/local/lib/python3.11/site-packages/sklearn/discriminant_analysis.py:935: UserWarning: Variables are collinear\n",
      "  warnings.warn(\"Variables are collinear\")\n",
      "/usr/local/lib/python3.11/site-packages/sklearn/discriminant_analysis.py:935: UserWarning: Variables are collinear\n",
      "  warnings.warn(\"Variables are collinear\")\n",
      "/usr/local/lib/python3.11/site-packages/sklearn/discriminant_analysis.py:935: UserWarning: Variables are collinear\n",
      "  warnings.warn(\"Variables are collinear\")\n",
      "/usr/local/lib/python3.11/site-packages/sklearn/discriminant_analysis.py:935: UserWarning: Variables are collinear\n",
      "  warnings.warn(\"Variables are collinear\")\n",
      "/usr/local/lib/python3.11/site-packages/sklearn/discriminant_analysis.py:935: UserWarning: Variables are collinear\n",
      "  warnings.warn(\"Variables are collinear\")\n",
      "/usr/local/lib/python3.11/site-packages/sklearn/discriminant_analysis.py:935: UserWarning: Variables are collinear\n",
      "  warnings.warn(\"Variables are collinear\")\n",
      "/usr/local/lib/python3.11/site-packages/sklearn/discriminant_analysis.py:935: UserWarning: Variables are collinear\n",
      "  warnings.warn(\"Variables are collinear\")\n",
      "/usr/local/lib/python3.11/site-packages/sklearn/discriminant_analysis.py:935: UserWarning: Variables are collinear\n",
      "  warnings.warn(\"Variables are collinear\")\n",
      "/usr/local/lib/python3.11/site-packages/sklearn/discriminant_analysis.py:935: UserWarning: Variables are collinear\n",
      "  warnings.warn(\"Variables are collinear\")\n",
      "/usr/local/lib/python3.11/site-packages/sklearn/discriminant_analysis.py:935: UserWarning: Variables are collinear\n",
      "  warnings.warn(\"Variables are collinear\")\n",
      "/usr/local/lib/python3.11/site-packages/sklearn/discriminant_analysis.py:935: UserWarning: Variables are collinear\n",
      "  warnings.warn(\"Variables are collinear\")\n",
      "/usr/local/lib/python3.11/site-packages/sklearn/discriminant_analysis.py:935: UserWarning: Variables are collinear\n",
      "  warnings.warn(\"Variables are collinear\")\n",
      "/usr/local/lib/python3.11/site-packages/sklearn/discriminant_analysis.py:935: UserWarning: Variables are collinear\n",
      "  warnings.warn(\"Variables are collinear\")\n",
      "/usr/local/lib/python3.11/site-packages/sklearn/discriminant_analysis.py:935: UserWarning: Variables are collinear\n",
      "  warnings.warn(\"Variables are collinear\")\n",
      "/usr/local/lib/python3.11/site-packages/sklearn/discriminant_analysis.py:935: UserWarning: Variables are collinear\n",
      "  warnings.warn(\"Variables are collinear\")\n",
      "/usr/local/lib/python3.11/site-packages/sklearn/discriminant_analysis.py:935: UserWarning: Variables are collinear\n",
      "  warnings.warn(\"Variables are collinear\")\n",
      "/usr/local/lib/python3.11/site-packages/sklearn/discriminant_analysis.py:935: UserWarning: Variables are collinear\n",
      "  warnings.warn(\"Variables are collinear\")\n",
      "/usr/local/lib/python3.11/site-packages/sklearn/discriminant_analysis.py:935: UserWarning: Variables are collinear\n",
      "  warnings.warn(\"Variables are collinear\")\n",
      "/usr/local/lib/python3.11/site-packages/sklearn/discriminant_analysis.py:935: UserWarning: Variables are collinear\n",
      "  warnings.warn(\"Variables are collinear\")\n",
      "/usr/local/lib/python3.11/site-packages/sklearn/discriminant_analysis.py:935: UserWarning: Variables are collinear\n",
      "  warnings.warn(\"Variables are collinear\")\n",
      "/usr/local/lib/python3.11/site-packages/sklearn/discriminant_analysis.py:935: UserWarning: Variables are collinear\n",
      "  warnings.warn(\"Variables are collinear\")\n",
      "/usr/local/lib/python3.11/site-packages/sklearn/discriminant_analysis.py:935: UserWarning: Variables are collinear\n",
      "  warnings.warn(\"Variables are collinear\")\n",
      "/usr/local/lib/python3.11/site-packages/sklearn/discriminant_analysis.py:935: UserWarning: Variables are collinear\n",
      "  warnings.warn(\"Variables are collinear\")\n",
      "/usr/local/lib/python3.11/site-packages/sklearn/discriminant_analysis.py:935: UserWarning: Variables are collinear\n",
      "  warnings.warn(\"Variables are collinear\")\n",
      "/usr/local/lib/python3.11/site-packages/sklearn/discriminant_analysis.py:935: UserWarning: Variables are collinear\n",
      "  warnings.warn(\"Variables are collinear\")\n",
      "/usr/local/lib/python3.11/site-packages/sklearn/discriminant_analysis.py:935: UserWarning: Variables are collinear\n",
      "  warnings.warn(\"Variables are collinear\")\n",
      "/usr/local/lib/python3.11/site-packages/sklearn/discriminant_analysis.py:935: UserWarning: Variables are collinear\n",
      "  warnings.warn(\"Variables are collinear\")\n",
      "/usr/local/lib/python3.11/site-packages/sklearn/discriminant_analysis.py:935: UserWarning: Variables are collinear\n",
      "  warnings.warn(\"Variables are collinear\")\n",
      "/usr/local/lib/python3.11/site-packages/sklearn/discriminant_analysis.py:935: UserWarning: Variables are collinear\n",
      "  warnings.warn(\"Variables are collinear\")\n",
      "/usr/local/lib/python3.11/site-packages/sklearn/discriminant_analysis.py:935: UserWarning: Variables are collinear\n",
      "  warnings.warn(\"Variables are collinear\")\n"
     ]
    },
    {
     "data": {
      "text/html": [
       "<table border=\"1\" class=\"dataframe\">\n",
       "  <thead>\n",
       "    <tr style=\"text-align: right;\">\n",
       "      <th></th>\n",
       "      <th>params</th>\n",
       "      <th>mean_test_score</th>\n",
       "      <th>rank_test_score</th>\n",
       "    </tr>\n",
       "  </thead>\n",
       "  <tbody>\n",
       "    <tr>\n",
       "      <th>3</th>\n",
       "      <td>{'reg_param': 0.15000000000000002}</td>\n",
       "      <td>0.752701</td>\n",
       "      <td>1</td>\n",
       "    </tr>\n",
       "    <tr>\n",
       "      <th>2</th>\n",
       "      <td>{'reg_param': 0.1}</td>\n",
       "      <td>0.749936</td>\n",
       "      <td>2</td>\n",
       "    </tr>\n",
       "    <tr>\n",
       "      <th>4</th>\n",
       "      <td>{'reg_param': 0.2}</td>\n",
       "      <td>0.747605</td>\n",
       "      <td>3</td>\n",
       "    </tr>\n",
       "    <tr>\n",
       "      <th>6</th>\n",
       "      <td>{'reg_param': 0.30000000000000004}</td>\n",
       "      <td>0.746773</td>\n",
       "      <td>4</td>\n",
       "    </tr>\n",
       "    <tr>\n",
       "      <th>5</th>\n",
       "      <td>{'reg_param': 0.25}</td>\n",
       "      <td>0.746222</td>\n",
       "      <td>5</td>\n",
       "    </tr>\n",
       "  </tbody>\n",
       "</table>"
      ],
      "text/plain": [
       "<IPython.core.display.HTML object>"
      ]
     },
     "metadata": {},
     "output_type": "display_data"
    }
   ],
   "source": [
    "from sklearn.discriminant_analysis import QuadraticDiscriminantAnalysis\n",
    "\n",
    "\n",
    "param = {'reg_param':np.linspace(0,1,21, endpoint=True)}\n",
    "qda =  GridSearchCV(QuadraticDiscriminantAnalysis(),\n",
    "                    param,\n",
    "                    cv=cv, \n",
    "                    n_jobs=-1, \n",
    "                    scoring='f1_weighted', \n",
    "                    refit=True).fit(x_train, y_train);\n",
    "\n",
    "show_html(pd.DataFrame(qda.cv_results_).loc[:,['params', 'mean_test_score','rank_test_score']].sort_values(by='rank_test_score').head().to_html())"
   ]
  },
  {
   "cell_type": "code",
   "execution_count": null,
   "metadata": {},
   "outputs": [],
   "source": [
    "print(classification_report(y_test, qda.predict(x_test), target_names=clss))\n",
    "results_df = save_results(qda, x_test, y_test, 'QDA', results_df)"
   ]
  },
  {
   "cell_type": "code",
   "execution_count": null,
   "metadata": {},
   "outputs": [],
   "source": [
    "plt.figure(figsize=(8,8));\n",
    "ConfusionMatrixDisplay.from_estimator(qda, x_test,y_test, display_labels=clss, ax=plt.subplot());"
   ]
  },
  {
   "cell_type": "markdown",
   "metadata": {},
   "source": [
    "### SVM lineal"
   ]
  },
  {
   "cell_type": "code",
   "execution_count": null,
   "metadata": {},
   "outputs": [],
   "source": [
    "from sklearn.model_selection import cross_val_score\n",
    "\n",
    "\n",
    "param = {'C': 10**np.linspace(-3, 3, 101)}\n",
    "\n",
    "lsvm = BayesSearchCV(SVC(kernel='linear', random_state=0), \n",
    "                     param, \n",
    "                     n_iter=niter,\n",
    "                     cv=cv,\n",
    "                     n_jobs=-1, \n",
    "                     refit=True, \n",
    "                     random_state=0, scoring='f1_weighted').fit(x_train, y_train)\n",
    "# y_test_predicted_lsvm = lsvm.predict(x_test)\n",
    "\n",
    "# r2_lsvm_train = np.mean(cross_val_score(lsvm, x_train, y_train))\n",
    "# r2_lsvm_test = np.mean(cross_val_score(lsvm, x_test, y_test))\n",
    "\n",
    "# print(f'Train R2 score: {r2_lsvm_train}')\n",
    "# print(f'Test R2 score: {r2_lsvm_test}')"
   ]
  },
  {
   "cell_type": "code",
   "execution_count": null,
   "metadata": {},
   "outputs": [],
   "source": [
    "show_html(pd.DataFrame(lsvm.cv_results_).loc[:,['params', 'mean_test_score','rank_test_score']].sort_values(by='rank_test_score').head().to_html())"
   ]
  },
  {
   "cell_type": "code",
   "execution_count": null,
   "metadata": {},
   "outputs": [],
   "source": [
    "print(classification_report(y_test, lsvm.predict(x_test), target_names=clss))\n",
    "results_df = save_results(lsvm, x_test, y_test, 'SVM Lineal', results_df)"
   ]
  },
  {
   "cell_type": "code",
   "execution_count": null,
   "metadata": {},
   "outputs": [],
   "source": [
    "from matplotlib import pyplot as plt\n",
    "import seaborn as sns\n",
    "sns.set()\n",
    "\n",
    "\n",
    "plt.figure(figsize=(8,8));\n",
    "ConfusionMatrixDisplay.from_estimator(lsvm, x_test, y_test, display_labels=clss, ax=plt.subplot());"
   ]
  },
  {
   "cell_type": "markdown",
   "metadata": {},
   "source": [
    "### SVM Polinomial"
   ]
  },
  {
   "cell_type": "code",
   "execution_count": null,
   "metadata": {},
   "outputs": [],
   "source": [
    "from sklearn.model_selection import StratifiedKFold\n",
    "\n",
    "\n",
    "param = {\n",
    "    'C': 10**np.linspace(-3, 3, 101),\n",
    "    'degree':[2, 3]\n",
    "}\n",
    "\n",
    "# stratified_cv = StratifiedKFold(n_splits=cv, shuffle=True, random_state=0)\n",
    "\n",
    "qsvm = BayesSearchCV(SVC(kernel='poly', random_state=0), \n",
    "                     param, \n",
    "                     n_iter=niter,\n",
    "                     cv=cv, \n",
    "                     n_jobs=-1, \n",
    "                     refit=True, \n",
    "                     random_state=0, scoring='f1_weighted').fit(x_train_norm, y_train)\n",
    "# y_test_predicted_qsvm = qsvm.predict(x_test)\n",
    "# r2_qsvm_train = np.mean(cross_val_score(qsvm, x_train, y_train))\n",
    "# r2_qsvm_test = np.mean(cross_val_score(qsvm, x_test, y_test))\n",
    "\n",
    "# print(f'Train R2 score: {r2_qsvm_train}')\n",
    "# print(f'Test R2 score: {r2_qsvm_test}')"
   ]
  },
  {
   "cell_type": "code",
   "execution_count": null,
   "metadata": {},
   "outputs": [],
   "source": [
    "show_html(pd.DataFrame(qsvm.cv_results_).loc[:,['params', 'mean_test_score','rank_test_score']].sort_values(by='rank_test_score').head().to_html())"
   ]
  },
  {
   "cell_type": "code",
   "execution_count": null,
   "metadata": {},
   "outputs": [],
   "source": [
    "print(classification_report(y_test, qsvm.predict(x_test_norm), target_names=clss))\n",
    "results_df = save_results(qsvm, x_test_norm, y_test, 'SVM Polinomic', results_df)"
   ]
  },
  {
   "cell_type": "code",
   "execution_count": null,
   "metadata": {},
   "outputs": [],
   "source": [
    "plt.figure(figsize=(8,8));\n",
    "ConfusionMatrixDisplay.from_estimator(qsvm, x_test_norm, y_test, display_labels=clss, ax=plt.subplot());"
   ]
  },
  {
   "cell_type": "code",
   "execution_count": null,
   "metadata": {},
   "outputs": [],
   "source": [
    "plt.figure(figsize=(10, 10));\n",
    "roc_auc(qsvm, x_train_norm, y_train, x_test_norm, y_test, classes=clss, micro=False, macro=False);"
   ]
  },
  {
   "cell_type": "markdown",
   "metadata": {},
   "source": [
    "### SVM RBF"
   ]
  },
  {
   "cell_type": "markdown",
   "metadata": {},
   "source": [
    "Standardize the data.\n",
    "Estandarización es menos sensible a outliers, proporcionando robustez frente a valores extremos que podrían distorsionar la eficacia del modelo"
   ]
  },
  {
   "cell_type": "code",
   "execution_count": 118,
   "metadata": {},
   "outputs": [
    {
     "data": {
      "text/html": [
       "<div>\n",
       "<style scoped>\n",
       "    .dataframe tbody tr th:only-of-type {\n",
       "        vertical-align: middle;\n",
       "    }\n",
       "\n",
       "    .dataframe tbody tr th {\n",
       "        vertical-align: top;\n",
       "    }\n",
       "\n",
       "    .dataframe thead th {\n",
       "        text-align: right;\n",
       "    }\n",
       "</style>\n",
       "<table border=\"1\" class=\"dataframe\">\n",
       "  <thead>\n",
       "    <tr style=\"text-align: right;\">\n",
       "      <th></th>\n",
       "      <th>count</th>\n",
       "      <th>mean</th>\n",
       "      <th>std</th>\n",
       "      <th>min</th>\n",
       "      <th>25%</th>\n",
       "      <th>50%</th>\n",
       "      <th>75%</th>\n",
       "      <th>max</th>\n",
       "    </tr>\n",
       "  </thead>\n",
       "  <tbody>\n",
       "    <tr>\n",
       "      <th>BPM</th>\n",
       "      <td>1395.0</td>\n",
       "      <td>-1.833659e-16</td>\n",
       "      <td>1.000359</td>\n",
       "      <td>-2.541494</td>\n",
       "      <td>-0.767187</td>\n",
       "      <td>-0.021979</td>\n",
       "      <td>0.563543</td>\n",
       "      <td>3.029828</td>\n",
       "    </tr>\n",
       "    <tr>\n",
       "      <th>Energy</th>\n",
       "      <td>1395.0</td>\n",
       "      <td>-6.366870e-17</td>\n",
       "      <td>1.000359</td>\n",
       "      <td>-2.539260</td>\n",
       "      <td>-0.794278</td>\n",
       "      <td>0.089544</td>\n",
       "      <td>0.814731</td>\n",
       "      <td>1.811863</td>\n",
       "    </tr>\n",
       "    <tr>\n",
       "      <th>Danceability</th>\n",
       "      <td>1395.0</td>\n",
       "      <td>-2.253872e-16</td>\n",
       "      <td>1.000359</td>\n",
       "      <td>-2.783460</td>\n",
       "      <td>-0.649451</td>\n",
       "      <td>-0.002781</td>\n",
       "      <td>0.708555</td>\n",
       "      <td>2.777897</td>\n",
       "    </tr>\n",
       "    <tr>\n",
       "      <th>Loudness</th>\n",
       "      <td>1395.0</td>\n",
       "      <td>-1.833659e-16</td>\n",
       "      <td>1.000359</td>\n",
       "      <td>-4.984636</td>\n",
       "      <td>-0.572824</td>\n",
       "      <td>0.254391</td>\n",
       "      <td>0.805867</td>\n",
       "      <td>1.908820</td>\n",
       "    </tr>\n",
       "    <tr>\n",
       "      <th>Liveness</th>\n",
       "      <td>1395.0</td>\n",
       "      <td>-5.857521e-17</td>\n",
       "      <td>1.000359</td>\n",
       "      <td>-1.031753</td>\n",
       "      <td>-0.606555</td>\n",
       "      <td>-0.424327</td>\n",
       "      <td>0.243841</td>\n",
       "      <td>4.860276</td>\n",
       "    </tr>\n",
       "    <tr>\n",
       "      <th>Valence</th>\n",
       "      <td>1395.0</td>\n",
       "      <td>4.838821e-17</td>\n",
       "      <td>1.000359</td>\n",
       "      <td>-1.860017</td>\n",
       "      <td>-0.811872</td>\n",
       "      <td>-0.086233</td>\n",
       "      <td>0.760346</td>\n",
       "      <td>2.010057</td>\n",
       "    </tr>\n",
       "    <tr>\n",
       "      <th>Acousticness</th>\n",
       "      <td>1395.0</td>\n",
       "      <td>-7.894919e-17</td>\n",
       "      <td>1.000359</td>\n",
       "      <td>-1.006920</td>\n",
       "      <td>-0.903756</td>\n",
       "      <td>-0.387933</td>\n",
       "      <td>0.746877</td>\n",
       "      <td>2.363121</td>\n",
       "    </tr>\n",
       "    <tr>\n",
       "      <th>Speechiness</th>\n",
       "      <td>1395.0</td>\n",
       "      <td>3.565447e-17</td>\n",
       "      <td>1.000359</td>\n",
       "      <td>-0.696687</td>\n",
       "      <td>-0.468760</td>\n",
       "      <td>-0.240834</td>\n",
       "      <td>-0.012908</td>\n",
       "      <td>11.383410</td>\n",
       "    </tr>\n",
       "    <tr>\n",
       "      <th>Popularity</th>\n",
       "      <td>1395.0</td>\n",
       "      <td>5.093496e-18</td>\n",
       "      <td>1.000359</td>\n",
       "      <td>-3.343712</td>\n",
       "      <td>-0.710606</td>\n",
       "      <td>0.120901</td>\n",
       "      <td>0.813824</td>\n",
       "      <td>2.823300</td>\n",
       "    </tr>\n",
       "    <tr>\n",
       "      <th>genre_0</th>\n",
       "      <td>1395.0</td>\n",
       "      <td>-4.838821e-17</td>\n",
       "      <td>1.000359</td>\n",
       "      <td>-0.316477</td>\n",
       "      <td>-0.316477</td>\n",
       "      <td>-0.316477</td>\n",
       "      <td>-0.316477</td>\n",
       "      <td>3.159787</td>\n",
       "    </tr>\n",
       "    <tr>\n",
       "      <th>genre_1</th>\n",
       "      <td>1395.0</td>\n",
       "      <td>-4.074797e-17</td>\n",
       "      <td>1.000359</td>\n",
       "      <td>-0.765001</td>\n",
       "      <td>-0.765001</td>\n",
       "      <td>-0.765001</td>\n",
       "      <td>1.307187</td>\n",
       "      <td>1.307187</td>\n",
       "    </tr>\n",
       "    <tr>\n",
       "      <th>genre_2</th>\n",
       "      <td>1395.0</td>\n",
       "      <td>-7.640244e-18</td>\n",
       "      <td>1.000359</td>\n",
       "      <td>-0.462709</td>\n",
       "      <td>-0.462709</td>\n",
       "      <td>-0.462709</td>\n",
       "      <td>-0.462709</td>\n",
       "      <td>2.161188</td>\n",
       "    </tr>\n",
       "    <tr>\n",
       "      <th>genre_3</th>\n",
       "      <td>1395.0</td>\n",
       "      <td>-1.018699e-17</td>\n",
       "      <td>1.000359</td>\n",
       "      <td>-0.315104</td>\n",
       "      <td>-0.315104</td>\n",
       "      <td>-0.315104</td>\n",
       "      <td>-0.315104</td>\n",
       "      <td>3.173551</td>\n",
       "    </tr>\n",
       "    <tr>\n",
       "      <th>genre_4</th>\n",
       "      <td>1395.0</td>\n",
       "      <td>-1.069634e-16</td>\n",
       "      <td>1.000359</td>\n",
       "      <td>-0.259480</td>\n",
       "      <td>-0.259480</td>\n",
       "      <td>-0.259480</td>\n",
       "      <td>-0.259480</td>\n",
       "      <td>3.853865</td>\n",
       "    </tr>\n",
       "    <tr>\n",
       "      <th>genre_5</th>\n",
       "      <td>1395.0</td>\n",
       "      <td>7.640244e-17</td>\n",
       "      <td>1.000359</td>\n",
       "      <td>-0.453546</td>\n",
       "      <td>-0.453546</td>\n",
       "      <td>-0.453546</td>\n",
       "      <td>-0.453546</td>\n",
       "      <td>2.204846</td>\n",
       "    </tr>\n",
       "    <tr>\n",
       "      <th>genre_6</th>\n",
       "      <td>1395.0</td>\n",
       "      <td>4.329472e-17</td>\n",
       "      <td>1.000359</td>\n",
       "      <td>-0.202595</td>\n",
       "      <td>-0.202595</td>\n",
       "      <td>-0.202595</td>\n",
       "      <td>-0.202595</td>\n",
       "      <td>4.935953</td>\n",
       "    </tr>\n",
       "  </tbody>\n",
       "</table>\n",
       "</div>"
      ],
      "text/plain": [
       "               count          mean       std       min       25%       50%  \\\n",
       "BPM           1395.0 -1.833659e-16  1.000359 -2.541494 -0.767187 -0.021979   \n",
       "Energy        1395.0 -6.366870e-17  1.000359 -2.539260 -0.794278  0.089544   \n",
       "Danceability  1395.0 -2.253872e-16  1.000359 -2.783460 -0.649451 -0.002781   \n",
       "Loudness      1395.0 -1.833659e-16  1.000359 -4.984636 -0.572824  0.254391   \n",
       "Liveness      1395.0 -5.857521e-17  1.000359 -1.031753 -0.606555 -0.424327   \n",
       "Valence       1395.0  4.838821e-17  1.000359 -1.860017 -0.811872 -0.086233   \n",
       "Acousticness  1395.0 -7.894919e-17  1.000359 -1.006920 -0.903756 -0.387933   \n",
       "Speechiness   1395.0  3.565447e-17  1.000359 -0.696687 -0.468760 -0.240834   \n",
       "Popularity    1395.0  5.093496e-18  1.000359 -3.343712 -0.710606  0.120901   \n",
       "genre_0       1395.0 -4.838821e-17  1.000359 -0.316477 -0.316477 -0.316477   \n",
       "genre_1       1395.0 -4.074797e-17  1.000359 -0.765001 -0.765001 -0.765001   \n",
       "genre_2       1395.0 -7.640244e-18  1.000359 -0.462709 -0.462709 -0.462709   \n",
       "genre_3       1395.0 -1.018699e-17  1.000359 -0.315104 -0.315104 -0.315104   \n",
       "genre_4       1395.0 -1.069634e-16  1.000359 -0.259480 -0.259480 -0.259480   \n",
       "genre_5       1395.0  7.640244e-17  1.000359 -0.453546 -0.453546 -0.453546   \n",
       "genre_6       1395.0  4.329472e-17  1.000359 -0.202595 -0.202595 -0.202595   \n",
       "\n",
       "                   75%        max  \n",
       "BPM           0.563543   3.029828  \n",
       "Energy        0.814731   1.811863  \n",
       "Danceability  0.708555   2.777897  \n",
       "Loudness      0.805867   1.908820  \n",
       "Liveness      0.243841   4.860276  \n",
       "Valence       0.760346   2.010057  \n",
       "Acousticness  0.746877   2.363121  \n",
       "Speechiness  -0.012908  11.383410  \n",
       "Popularity    0.813824   2.823300  \n",
       "genre_0      -0.316477   3.159787  \n",
       "genre_1       1.307187   1.307187  \n",
       "genre_2      -0.462709   2.161188  \n",
       "genre_3      -0.315104   3.173551  \n",
       "genre_4      -0.259480   3.853865  \n",
       "genre_5      -0.453546   2.204846  \n",
       "genre_6      -0.202595   4.935953  "
      ]
     },
     "execution_count": 118,
     "metadata": {},
     "output_type": "execute_result"
    }
   ],
   "source": [
    "from sklearn.preprocessing import StandardScaler\n",
    "\n",
    "data_columns = x_train.columns\n",
    "scaler = StandardScaler()\n",
    "x_train_standard = pd.DataFrame(scaler.fit_transform(x_train))\n",
    "x_test_standard = pd.DataFrame(scaler.transform(x_test))\n",
    "x_train_standard.columns = x_test_standard.columns = data_columns\n",
    "\n",
    "x_train_standard.describe().T"
   ]
  },
  {
   "cell_type": "markdown",
   "metadata": {},
   "source": [
    "Default model"
   ]
  },
  {
   "cell_type": "code",
   "execution_count": 119,
   "metadata": {},
   "outputs": [],
   "source": [
    "# from sklearn.model_selection import cross_val_score, StratifiedKFold"
   ]
  },
  {
   "cell_type": "code",
   "execution_count": 120,
   "metadata": {},
   "outputs": [],
   "source": [
    "# stratified_kfold = StratifiedKFold(n_splits=5, shuffle=True, random_state=42)"
   ]
  },
  {
   "cell_type": "code",
   "execution_count": 121,
   "metadata": {},
   "outputs": [
    {
     "name": "stdout",
     "output_type": "stream",
     "text": [
      "              precision    recall  f1-score   support\n",
      "\n",
      "           0       0.78      0.83      0.80       359\n",
      "           1       0.72      0.64      0.68       240\n",
      "\n",
      "    accuracy                           0.75       599\n",
      "   macro avg       0.75      0.74      0.74       599\n",
      "weighted avg       0.75      0.75      0.75       599\n",
      "\n",
      "0.7519776637080713\n",
      "5-fold CV f1-score:  0.7540630239684611\n"
     ]
    }
   ],
   "source": [
    "rbfsvm_default = SVC(kernel='rbf', random_state=0)\n",
    "rbfsvm_default.fit(x_train_standard, y_train)\n",
    "y_pred = rbfsvm_default.predict(x_test_standard);\n",
    "print(classification_report(y_test,y_pred));\n",
    "print(f1_score(y_test, y_pred, average='weighted'))\n",
    "cv_f1_score = cross_val_score(SVC(random_state=0), X=x_train_standard,  y=y_train, cv=5, scoring='f1_weighted',n_jobs=-1)\n",
    "print(\"5-fold CV f1-score: \", cv_f1_score.mean())"
   ]
  },
  {
   "cell_type": "markdown",
   "metadata": {},
   "source": [
    "BayesSearchCV (and later GridSearch) for tunning (done multiple times with different ranges)"
   ]
  },
  {
   "cell_type": "code",
   "execution_count": 122,
   "metadata": {},
   "outputs": [
    {
     "data": {
      "text/plain": [
       "array([1.00000000e-03, 4.64158883e-03, 2.15443469e-02, 1.00000000e-01,\n",
       "       4.64158883e-01, 2.15443469e+00, 1.00000000e+01, 4.64158883e+01,\n",
       "       2.15443469e+02, 1.00000000e+03])"
      ]
     },
     "execution_count": 122,
     "metadata": {},
     "output_type": "execute_result"
    }
   ],
   "source": [
    "np.logspace(-3, 3, 10)"
   ]
  },
  {
   "cell_type": "code",
   "execution_count": 123,
   "metadata": {},
   "outputs": [],
   "source": [
    "param = {'C':10**np.linspace(-1,1,50),\n",
    "         'gamma': ['auto', 'scale']\n",
    "        #  'gamma': np.logspace(-3, 3, 7)\n",
    "         }\n",
    "\n",
    "# rbfsvm = BayesSearchCV(SVC(kernel='rbf', random_state=0), \n",
    "#                      param, \n",
    "#                      cv=5,\n",
    "#                      scoring='f1_weighted',\n",
    "#                      n_jobs=-1, \n",
    "#                      refit=True, \n",
    "#                      random_state=0).fit(x_train_standard, y_train)\n",
    "\n",
    "rbfsvm = GridSearchCV(SVC(kernel='rbf', random_state=0), \n",
    "                     param, \n",
    "                     cv=5,\n",
    "                     scoring='f1_weighted',\n",
    "                     n_jobs=-1, \n",
    "                     refit=True).fit(x_train_standard, y_train)\n"
   ]
  },
  {
   "cell_type": "code",
   "execution_count": 124,
   "metadata": {},
   "outputs": [
    {
     "data": {
      "text/html": [
       "<table border=\"1\" class=\"dataframe\">\n",
       "  <thead>\n",
       "    <tr style=\"text-align: right;\">\n",
       "      <th></th>\n",
       "      <th>params</th>\n",
       "      <th>mean_test_score</th>\n",
       "      <th>rank_test_score</th>\n",
       "    </tr>\n",
       "  </thead>\n",
       "  <tbody>\n",
       "    <tr>\n",
       "      <th>65</th>\n",
       "      <td>{'C': 2.0235896477251565, 'gamma': 'scale'}</td>\n",
       "      <td>0.758446</td>\n",
       "      <td>1</td>\n",
       "    </tr>\n",
       "    <tr>\n",
       "      <th>64</th>\n",
       "      <td>{'C': 2.0235896477251565, 'gamma': 'auto'}</td>\n",
       "      <td>0.758446</td>\n",
       "      <td>1</td>\n",
       "    </tr>\n",
       "    <tr>\n",
       "      <th>55</th>\n",
       "      <td>{'C': 1.2648552168552958, 'gamma': 'scale'}</td>\n",
       "      <td>0.756714</td>\n",
       "      <td>3</td>\n",
       "    </tr>\n",
       "    <tr>\n",
       "      <th>61</th>\n",
       "      <td>{'C': 1.6768329368110073, 'gamma': 'scale'}</td>\n",
       "      <td>0.756054</td>\n",
       "      <td>4</td>\n",
       "    </tr>\n",
       "    <tr>\n",
       "      <th>60</th>\n",
       "      <td>{'C': 1.6768329368110073, 'gamma': 'auto'}</td>\n",
       "      <td>0.756054</td>\n",
       "      <td>4</td>\n",
       "    </tr>\n",
       "  </tbody>\n",
       "</table>"
      ],
      "text/plain": [
       "<IPython.core.display.HTML object>"
      ]
     },
     "metadata": {},
     "output_type": "display_data"
    }
   ],
   "source": [
    "show_html(pd.DataFrame(rbfsvm.cv_results_).loc[:,['params', 'mean_test_score','rank_test_score']].sort_values(by='rank_test_score').head().to_html())"
   ]
  },
  {
   "cell_type": "code",
   "execution_count": 125,
   "metadata": {},
   "outputs": [],
   "source": [
    "# scores = rbfsvm.cv_results_['mean_test_score']\n",
    "# scores = np.array(scores).reshape(len(param['gamma']), len(param['C']))\n",
    "\n",
    "# plt.figure(figsize=(2, 1))\n",
    "# plt.matshow(scores)\n",
    "# plt.ylabel('gamma')\n",
    "# plt.xlabel('C')\n",
    "# plt.colorbar()\n",
    "# plt.yticks(np.arange(len(param['gamma'])), param['gamma'],rotation='horizontal')\n",
    "# plt.xticks(np.arange(len(param['C'])), param['C'], rotation='vertical')\n",
    "# plt.show()"
   ]
  },
  {
   "cell_type": "code",
   "execution_count": 126,
   "metadata": {},
   "outputs": [
    {
     "data": {
      "text/plain": [
       "{'C': 2.0235896477251565, 'gamma': 'auto'}"
      ]
     },
     "execution_count": 126,
     "metadata": {},
     "output_type": "execute_result"
    }
   ],
   "source": [
    "rbfsvm.best_params_"
   ]
  },
  {
   "cell_type": "code",
   "execution_count": 127,
   "metadata": {},
   "outputs": [
    {
     "name": "stdout",
     "output_type": "stream",
     "text": [
      "              precision    recall  f1-score   support\n",
      "\n",
      "    Pre-2000       0.82      0.78      0.80       380\n",
      "   Post-2000       0.65      0.71      0.68       219\n",
      "\n",
      "    accuracy                           0.75       599\n",
      "   macro avg       0.73      0.74      0.74       599\n",
      "weighted avg       0.76      0.75      0.75       599\n",
      "\n"
     ]
    }
   ],
   "source": [
    "print(classification_report(y_test, rbfsvm.predict(x_test_standard), target_names=clss))\n",
    "results_df = save_results(rbfsvm, x_test_standard, y_test, 'SVM RBF', results_df)"
   ]
  },
  {
   "cell_type": "code",
   "execution_count": 128,
   "metadata": {},
   "outputs": [
    {
     "data": {
      "image/png": "[encoded data removed]",
      "text/plain": [
       "<Figure size 800x800 with 2 Axes>"
      ]
     },
     "metadata": {},
     "output_type": "display_data"
    }
   ],
   "source": [
    "plt.figure(figsize=(8,8));\n",
    "ConfusionMatrixDisplay.from_estimator(rbfsvm, x_test_standard, y_test, display_labels=clss, ax=plt.subplot());"
   ]
  },
  {
   "cell_type": "markdown",
   "metadata": {},
   "source": [
    "Best model"
   ]
  },
  {
   "cell_type": "code",
   "execution_count": 129,
   "metadata": {},
   "outputs": [
    {
     "name": "stdout",
     "output_type": "stream",
     "text": [
      "              precision    recall  f1-score   support\n",
      "\n",
      "           0       0.78      0.82      0.80       359\n",
      "           1       0.71      0.65      0.68       240\n",
      "\n",
      "    accuracy                           0.75       599\n",
      "   macro avg       0.74      0.73      0.74       599\n",
      "weighted avg       0.75      0.75      0.75       599\n",
      "\n",
      "0.749096082363327\n"
     ]
    }
   ],
   "source": [
    "y_pred = rbfsvm.predict(x_test_standard);\n",
    "print(classification_report(y_test,y_pred));\n",
    "print(f1_score(y_test, y_pred, average='weighted'))\n",
    "results_df = save_results(rbfsvm, x_test_standard, y_test, 'SVM RBF', results_df)"
   ]
  },
  {
   "cell_type": "code",
   "execution_count": 130,
   "metadata": {},
   "outputs": [
    {
     "data": {
      "image/png": "[encoded data removed]",
      "text/plain": [
       "<Figure size 500x500 with 1 Axes>"
      ]
     },
     "metadata": {},
     "output_type": "display_data"
    }
   ],
   "source": [
    "plt.figure(figsize=(5, 5));\n",
    "roc_auc(rbfsvm, x_train_standard, y_train, x_test_standard, y_test, classes=clss, micro=False, macro=False);"
   ]
  },
  {
   "cell_type": "markdown",
   "metadata": {},
   "source": [
    "Permutation importance"
   ]
  },
  {
   "cell_type": "code",
   "execution_count": 131,
   "metadata": {},
   "outputs": [],
   "source": [
    "c = choice(x_test_standard.shape[0], size=500, replace=False)\n",
    "pi = permutation_importance(rbfsvm, x_test_standard.iloc[c], y_test.to_numpy()[c], n_jobs=-1, random_state=0)\n",
    "var_imp_knn = pd.DataFrame({'importance': pi.importances_mean}, index=x_test_standard.columns)"
   ]
  },
  {
   "cell_type": "code",
   "execution_count": null,
   "metadata": {},
   "outputs": [],
   "source": [
    "var_imp_knn.sort_values(by='importance').plot.barh(figsize=(5, 4), legend=False);"
   ]
  },
  {
   "cell_type": "markdown",
   "metadata": {},
   "source": [
    "### KNN"
   ]
  },
  {
   "cell_type": "code",
   "execution_count": null,
   "metadata": {},
   "outputs": [],
   "source": [
    "from sklearn.neighbors import KNeighborsClassifier\n",
    "\n",
    "\n",
    "param = {'n_neighbors':[1, 3, 5, 7, 11, 15], \n",
    "          'weights':['distance', 'uniform'], \n",
    "          'leaf_size':[1, 5, 10, 20, 30],\n",
    "          'metric': ['l2', 'l1', 'cosine']}\n",
    "\n",
    "knn = BayesSearchCV(KNeighborsClassifier(), \n",
    "                     param, \n",
    "                     n_iter=niter,\n",
    "                     cv=cv,\n",
    "                     scoring='f1_weighted', \n",
    "                     n_jobs=-1, \n",
    "                     refit=True, \n",
    "                     random_state=0).fit(x_train, y_train)\n",
    "# y_test_predicted_knn = knn.predict(x_test)\n",
    "# r2_knn_train = np.mean(cross_val_score(knn, x_train, y_train))\n",
    "# r2_knn_test = np.mean(cross_val_score(knn, x_test, y_test))\n",
    "\n",
    "# print(f'Train R2 score: {r2_knn_train}')\n",
    "# print(f'Test R2 score: {r2_knn_test}')"
   ]
  },
  {
   "cell_type": "code",
   "execution_count": null,
   "metadata": {},
   "outputs": [],
   "source": [
    "show_html(pd.DataFrame(knn.cv_results_).loc[:,['params', 'mean_test_score','rank_test_score']].sort_values(by='rank_test_score').head().to_html())"
   ]
  },
  {
   "cell_type": "code",
   "execution_count": null,
   "metadata": {},
   "outputs": [],
   "source": [
    "print(classification_report(y_test, knn.predict(x_test), target_names=clss))\n",
    "results_df = save_results(knn, x_test, y_test, 'KNN', results_df)"
   ]
  },
  {
   "cell_type": "code",
   "execution_count": null,
   "metadata": {},
   "outputs": [],
   "source": [
    "plt.figure(figsize=(8,8));\n",
    "ConfusionMatrixDisplay.from_estimator(knn, x_test, y_test, display_labels=clss, ax=plt.subplot());"
   ]
  },
  {
   "cell_type": "code",
   "execution_count": null,
   "metadata": {},
   "outputs": [],
   "source": [
    "plt.figure(figsize=(10, 10));\n",
    "roc_auc(knn, x_train, y_train, x_test, y_test, classes=clss);"
   ]
  },
  {
   "cell_type": "markdown",
   "metadata": {},
   "source": [
    "### Random Forest"
   ]
  },
  {
   "cell_type": "code",
   "execution_count": null,
   "metadata": {},
   "outputs": [],
   "source": [
    "from sklearn.ensemble import RandomForestClassifier\n",
    "\n",
    "\n",
    "param = {'n_estimators': [5,10,25,40, 50, 75,100, 200], \n",
    "         'criterion':['gini', 'entropy'], \n",
    "         'max_depth':[None, 1, 2, 3,  5,  8, 9,10,15],\n",
    "         'min_samples_leaf':[1,2,3,5,10]}\n",
    "\n",
    "rforest = BayesSearchCV(RandomForestClassifier(), \n",
    "                        param, n_iter=niter, cv=cv, scoring='f1_weighted', n_jobs=-1, refit=True, random_state=0).fit(x_train, y_train)\n",
    "# y_test_predicted_rforest = rforest.predict(x_test)\n",
    "# r2_rforest_train = np.mean(cross_val_score(rforest, x_train, y_train))\n",
    "# r2_rforest_test = np.mean(cross_val_score(rforest, x_test, y_test))\n",
    "\n",
    "# print(f'Train R2 score: {r2_rforest_train}')\n",
    "# print(f'Test R2 score: {r2_rforest_test}')"
   ]
  },
  {
   "cell_type": "code",
   "execution_count": null,
   "metadata": {},
   "outputs": [],
   "source": [
    "show_html(pd.DataFrame(rforest.cv_results_).loc[:,['params', 'mean_test_score','rank_test_score']].sort_values(by='rank_test_score').head().to_html())"
   ]
  },
  {
   "cell_type": "code",
   "execution_count": null,
   "metadata": {},
   "outputs": [],
   "source": [
    "print(classification_report(y_test, rforest.predict(x_test), target_names=clss))\n",
    "results_df = save_results(rforest, x_test, y_test, 'Random Forest', results_df)"
   ]
  },
  {
   "cell_type": "code",
   "execution_count": null,
   "metadata": {},
   "outputs": [],
   "source": [
    "plt.figure(figsize=(8,8));\n",
    "ConfusionMatrixDisplay.from_estimator(rforest, x_test, y_test, display_labels=clss, ax=plt.subplot());"
   ]
  },
  {
   "cell_type": "markdown",
   "metadata": {},
   "source": [
    "### Gradient Boosting"
   ]
  },
  {
   "cell_type": "code",
   "execution_count": null,
   "metadata": {},
   "outputs": [],
   "source": [
    "from sklearn.ensemble import GradientBoostingClassifier\n",
    "\n",
    "\n",
    "param = {'n_estimators': [5,10,25,40, 50, 75,100, 200], \n",
    "         'loss':['log_loss', 'exponential'], \n",
    "         'criterion':['friedman_mse', 'squared_error'], \n",
    "         'max_depth':[None, 1, 2, 3,  5,  8, 9,10,15],\n",
    "         'min_samples_leaf':[1,2,3,5,10], \n",
    "         'learning_rate':[0.1,0.5, 1,3, 5, 10, 15]}\n",
    "\n",
    "gboost = BayesSearchCV(GradientBoostingClassifier(random_state=0, n_iter_no_change=5), \n",
    "                        param, \n",
    "                        n_iter=15,\n",
    "                        cv=cv, \n",
    "                        n_jobs=-1, \n",
    "                        refit=True, \n",
    "                        random_state=0, scoring='f1_weighted').fit(x_train, y_train)\n",
    "# y_test_predicted_gboost = gboost.predict(x_test)\n",
    "# r2_gboost_train = np.mean(cross_val_score(gboost, x_train, y_train))\n",
    "# r2_gboost_test = np.mean(cross_val_score(gboost, x_test, y_test))\n",
    "\n",
    "# print(f'Train R2 score: {r2_gboost_train}')\n",
    "# print(f'Test R2 score: {r2_gboost_test}')"
   ]
  },
  {
   "cell_type": "code",
   "execution_count": null,
   "metadata": {},
   "outputs": [],
   "source": [
    "show_html(pd.DataFrame(gboost.cv_results_).loc[:,['params', 'mean_test_score','rank_test_score']].sort_values(by='rank_test_score').head().to_html())"
   ]
  },
  {
   "cell_type": "code",
   "execution_count": null,
   "metadata": {},
   "outputs": [],
   "source": [
    "print(classification_report(y_test, gboost.predict(x_test), target_names=clss))\n",
    "results_df = save_results(gboost, x_test, y_test, 'Gradient Boosting', results_df)"
   ]
  },
  {
   "cell_type": "code",
   "execution_count": null,
   "metadata": {},
   "outputs": [],
   "source": [
    "plt.figure(figsize=(8,8));\n",
    "ConfusionMatrixDisplay.from_estimator(gboost, x_test, y_test, display_labels=clss, ax=plt.subplot());"
   ]
  },
  {
   "cell_type": "markdown",
   "metadata": {},
   "source": [
    "### MLP"
   ]
  },
  {
   "cell_type": "code",
   "execution_count": null,
   "metadata": {},
   "outputs": [],
   "source": [
    "from sklearn.neural_network import MLPClassifier"
   ]
  },
  {
   "cell_type": "code",
   "execution_count": null,
   "metadata": {},
   "outputs": [],
   "source": [
    "param = {'hidden_layer_sizes':[2, 4, 8, 12, 16, 32, 64, 100, 200], \n",
    "         'activation':['relu', 'logistic', 'identity', 'tanh'], \n",
    "         'learning_rate_init': np.logspace(-5, 1, 10),\n",
    "        'solver': ['adam', 'lbfgs', 'sgd']}\n",
    "\n",
    "mlp =  BayesSearchCV(MLPClassifier(max_iter=10000, early_stopping=True, n_iter_no_change=20,learning_rate='adaptive',random_state=0), \n",
    "                     param, cv=cv, n_jobs=-1, refit=True, scoring='f1_weighted').fit(x_train_norm, y_train)"
   ]
  },
  {
   "cell_type": "code",
   "execution_count": null,
   "metadata": {},
   "outputs": [],
   "source": [
    "show_html(pd.DataFrame(mlp.cv_results_).loc[:,['params', 'mean_test_score','rank_test_score']].sort_values(by='rank_test_score').head().to_html())"
   ]
  },
  {
   "cell_type": "code",
   "execution_count": null,
   "metadata": {},
   "outputs": [],
   "source": [
    "y_pred = mlp.predict(x_test_norm);\n",
    "print(classification_report(y_test,y_pred));\n",
    "print(f1_score(y_test, y_pred, average='weighted'))\n",
    "results_df = save_results(mlp, x_test_norm, y_test, 'MLP', results_df)\n"
   ]
  },
  {
   "cell_type": "code",
   "execution_count": null,
   "metadata": {},
   "outputs": [],
   "source": [
    "plt.figure(figsize=(8,8));\n",
    "ConfusionMatrixDisplay.from_estimator(mlp, x_test_norm, y_test, display_labels=clss, ax=plt.subplot());"
   ]
  },
  {
   "cell_type": "code",
   "execution_count": null,
   "metadata": {},
   "outputs": [],
   "source": [
    "plt.figure(figsize=(5, 5));\n",
    "roc_auc(mlp, x_train_standard, y_train, x_test_standard, y_test, classes=clss, micro=False, macro=False);"
   ]
  },
  {
   "cell_type": "code",
   "execution_count": null,
   "metadata": {},
   "outputs": [],
   "source": [
    "c = choice(x_test_standard.shape[0], size=500, replace=False)\n",
    "pi = permutation_importance(mlp, x_test_standard.iloc[c], y_test.to_numpy()[c], n_jobs=-1, random_state=0)\n",
    "var_imp_mlp = pd.DataFrame({'importance': pi.importances_mean}, index=x_test_standard.columns)"
   ]
  },
  {
   "cell_type": "code",
   "execution_count": null,
   "metadata": {},
   "outputs": [],
   "source": [
    "var_imp_mlp.sort_values(by='importance').plot.barh(figsize=(5, 4), legend=False);"
   ]
  },
  {
   "cell_type": "markdown",
   "metadata": {},
   "source": [
    "### Neural network tensorFlow"
   ]
  },
  {
   "cell_type": "code",
   "execution_count": null,
   "metadata": {},
   "outputs": [],
   "source": [
    "from tensorflow import keras\n",
    "\n",
    "\n",
    "model = keras.Sequential()\n",
    "model.add(keras.Input(shape=(x_train.shape[1])))\n",
    "model.add(keras.layers.Dense(64, activation='relu', kernel_regularizer='l2'))\n",
    "model.add(keras.layers.Dense(32, activation='relu', kernel_regularizer='l2'))\n",
    "model.add(keras.layers.Dense(1, activation='linear', kernel_regularizer='l2'))\n",
    "model.compile(loss='binary_crossentropy', optimizer='adam', metrics='AUC')\n",
    "model.fit(x_train, y_train, batch_size=64, epochs=150, verbose=0, validation_split=0.2)\n",
    "\n",
    "y_pred_prob = model.predict(x_test)\n",
    "y_pred = (y_pred_prob > 0.5).astype(int)\n",
    "\n",
    "accuracy = f1_score(y_test, y_pred)\n",
    "print(f'Test f1-score: {accuracy:.4f}')"
   ]
  },
  {
   "cell_type": "code",
   "execution_count": null,
   "metadata": {},
   "outputs": [],
   "source": [
    "# results_df = save_results(model, x_test, y_test, 'Neural Network', results_df)"
   ]
  },
  {
   "cell_type": "code",
   "execution_count": null,
   "metadata": {},
   "outputs": [],
   "source": [
    "# plt.figure(figsize=(8,8));\n",
    "# ConfusionMatrixDisplay.from_estimator(model, x_test, y_test, display_labels=clss, ax=plt.subplot());"
   ]
  },
  {
   "cell_type": "markdown",
   "metadata": {},
   "source": [
    "## Combinacions de classifiers"
   ]
  },
  {
   "cell_type": "markdown",
   "metadata": {},
   "source": [
    "### Stacking Classifier"
   ]
  },
  {
   "cell_type": "code",
   "execution_count": 117,
   "metadata": {},
   "outputs": [
    {
     "ename": "NameError",
     "evalue": "name 'rbfsvm' is not defined",
     "output_type": "error",
     "traceback": [
      "\u001b[0;31m---------------------------------------------------------------------------\u001b[0m",
      "\u001b[0;31mNameError\u001b[0m                                 Traceback (most recent call last)",
      "Cell \u001b[0;32mIn[117], line 4\u001b[0m\n\u001b[1;32m      1\u001b[0m \u001b[38;5;28;01mfrom\u001b[39;00m \u001b[38;5;21;01msklearn\u001b[39;00m\u001b[38;5;21;01m.\u001b[39;00m\u001b[38;5;21;01mensemble\u001b[39;00m \u001b[38;5;28;01mimport\u001b[39;00m StackingClassifier\n\u001b[0;32m----> 4\u001b[0m stacls \u001b[38;5;241m=\u001b[39m StackingClassifier([(\u001b[38;5;124m'\u001b[39m\u001b[38;5;124mrbfsvm\u001b[39m\u001b[38;5;124m'\u001b[39m, \u001b[43mrbfsvm\u001b[49m\u001b[38;5;241m.\u001b[39mbest_estimator_),\n\u001b[1;32m      5\u001b[0m                             (\u001b[38;5;124m'\u001b[39m\u001b[38;5;124mmlp\u001b[39m\u001b[38;5;124m'\u001b[39m, mlp\u001b[38;5;241m.\u001b[39mbest_estimator_)],\n\u001b[1;32m      6\u001b[0m                             n_jobs\u001b[38;5;241m=\u001b[39m\u001b[38;5;241m-\u001b[39m\u001b[38;5;241m1\u001b[39m)\u001b[38;5;241m.\u001b[39mfit(x_train, y_train)\n",
      "\u001b[0;31mNameError\u001b[0m: name 'rbfsvm' is not defined"
     ]
    }
   ],
   "source": [
    "from sklearn.ensemble import StackingClassifier\n",
    "\n",
    "\n",
    "stacls = StackingClassifier([('rbfsvm', rbfsvm.best_estimator_),\n",
    "                            ('mlp', mlp.best_estimator_)],\n",
    "                            n_jobs=-1).fit(x_train, y_train)"
   ]
  },
  {
   "cell_type": "code",
   "execution_count": null,
   "metadata": {},
   "outputs": [],
   "source": [
    "print(classification_report(y_test, stacls.predict(x_test), target_names=clss))\n",
    "results_df = save_results(stacls, x_test, y_test, 'Stacking (RBF + MLP)', results_df)"
   ]
  },
  {
   "cell_type": "code",
   "execution_count": null,
   "metadata": {},
   "outputs": [],
   "source": [
    "plt.figure(figsize=(8,8));\n",
    "ConfusionMatrixDisplay.from_estimator(stacls, x_test, y_test, display_labels=clss, ax=plt.subplot());"
   ]
  },
  {
   "cell_type": "code",
   "execution_count": null,
   "metadata": {},
   "outputs": [],
   "source": [
    "stacls2 = StackingClassifier([('rbfsvm', rbfsvm.best_estimator_),\n",
    "                            ('lda', lda.best_estimator_)],\n",
    "                            n_jobs=-1).fit(x_train, y_train)"
   ]
  },
  {
   "cell_type": "code",
   "execution_count": null,
   "metadata": {},
   "outputs": [],
   "source": [
    "print(classification_report(y_test, stacls2.predict(x_test), target_names=clss))\n",
    "results_df = save_results(stacls2, x_test, y_test, 'Stacking (RBF + LDA)', results_df)"
   ]
  },
  {
   "cell_type": "code",
   "execution_count": null,
   "metadata": {},
   "outputs": [],
   "source": [
    "plt.figure(figsize=(8,8));\n",
    "ConfusionMatrixDisplay.from_estimator(stacls2, x_test, y_test, display_labels=clss, ax=plt.subplot());"
   ]
  },
  {
   "cell_type": "markdown",
   "metadata": {},
   "source": [
    "### Voting Classifier"
   ]
  },
  {
   "cell_type": "code",
   "execution_count": null,
   "metadata": {},
   "outputs": [],
   "source": [
    "from sklearn.ensemble import VotingClassifier\n",
    "\n",
    "\n",
    "votcls = VotingClassifier([('rbfsvm', rbfsvm.best_estimator_),\n",
    "                            ('mlp', mlp.best_estimator_)],\n",
    "                            n_jobs=-1).fit(x_train, y_train)"
   ]
  },
  {
   "cell_type": "code",
   "execution_count": null,
   "metadata": {},
   "outputs": [],
   "source": [
    "print(classification_report(y_test, votcls.predict(x_test), target_names=clss))\n",
    "results_df = save_results(votcls, x_test, y_test, 'Voting (RBF + MLP)', results_df)"
   ]
  },
  {
   "cell_type": "code",
   "execution_count": null,
   "metadata": {},
   "outputs": [],
   "source": [
    "plt.figure(figsize=(8,8));\n",
    "ConfusionMatrixDisplay.from_estimator(votcls, x_test, y_test, display_labels=clss, ax=plt.subplot());"
   ]
  },
  {
   "cell_type": "code",
   "execution_count": null,
   "metadata": {},
   "outputs": [],
   "source": [
    "votcls2 = VotingClassifier([('rbfsvm', rbfsvm.best_estimator_),\n",
    "                            ('lda', lda.best_estimator_)],\n",
    "                            n_jobs=-1).fit(x_train, y_train)"
   ]
  },
  {
   "cell_type": "code",
   "execution_count": null,
   "metadata": {},
   "outputs": [],
   "source": [
    "print(classification_report(y_test, votcls2.predict(x_test), target_names=clss))\n",
    "results_df = save_results(votcls2, x_test, y_test, 'Voting (RBF + LDA)', results_df)"
   ]
  },
  {
   "cell_type": "code",
   "execution_count": null,
   "metadata": {},
   "outputs": [],
   "source": [
    "plt.figure(figsize=(8,8));\n",
    "ConfusionMatrixDisplay.from_estimator(votcls2, x_test, y_test, display_labels=clss, ax=plt.subplot());"
   ]
  },
  {
   "cell_type": "markdown",
   "metadata": {},
   "source": [
    "## Conclusions"
   ]
  },
  {
   "cell_type": "code",
   "execution_count": null,
   "metadata": {},
   "outputs": [],
   "source": [
    "results_sorted = results_df.sort_values(by=['test f1 score (W)'], ascending=False)\n",
    "results_sorted"
   ]
  },
  {
   "cell_type": "code",
   "execution_count": null,
   "metadata": {},
   "outputs": [],
   "source": [
    "plt.figure(figsize=(10, 6))\n",
    "results_sorted['test f1 score (W)'].plot(kind='bar', color='skyblue')\n",
    "plt.title('F1-Scores dels Models')\n",
    "plt.xlabel('Model')\n",
    "plt.ylabel('F1 Score')\n",
    "plt.ylim(0.0, 1.0)\n",
    "plt.xticks(rotation=45, ha='right')\n",
    "plt.show()"
   ]
  }
 ],
 "metadata": {
  "kernelspec": {
   "display_name": "Python 3",
   "language": "python",
   "name": "python3"
  },
  "language_info": {
   "codemirror_mode": {
    "name": "ipython",
    "version": 3
   },
   "file_extension": ".py",
   "mimetype": "text/x-python",
   "name": "python",
   "nbconvert_exporter": "python",
   "pygments_lexer": "ipython3",
   "version": "3.11.5"
  }
 },
 "nbformat": 4,
 "nbformat_minor": 2
}
